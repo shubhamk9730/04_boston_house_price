{
 "cells": [
  {
   "cell_type": "markdown",
   "id": "9610110c",
   "metadata": {},
   "source": [
    "# Boston_House_Price Prediction"
   ]
  },
  {
   "cell_type": "code",
   "execution_count": 1,
   "id": "fd9a27e3",
   "metadata": {},
   "outputs": [],
   "source": [
    "import warnings"
   ]
  },
  {
   "cell_type": "markdown",
   "id": "045227ff",
   "metadata": {},
   "source": [
    "### Problem Statment"
   ]
  },
  {
   "cell_type": "raw",
   "id": "dd05e64a",
   "metadata": {},
   "source": [
    "To Predict the House price in Boston city.\n",
    "\n",
    "> Independent Vriables= 'CRIM', 'ZN', 'INDUS', 'CHAS', 'NOX', 'RM', 'AGE', 'DIS', 'RAD','TAX', 'PTRATIO', 'B', 'LSTAT'\n",
    "> Dependent Variable  = 'PRICE' (target)"
   ]
  },
  {
   "cell_type": "markdown",
   "id": "b8b7a43d",
   "metadata": {},
   "source": [
    "### Data Gathering"
   ]
  },
  {
   "cell_type": "code",
   "execution_count": 2,
   "id": "7e7b3962",
   "metadata": {},
   "outputs": [],
   "source": [
    "from sklearn.datasets import load_boston"
   ]
  },
  {
   "cell_type": "code",
   "execution_count": 3,
   "id": "cdb897e6",
   "metadata": {},
   "outputs": [
    {
     "name": "stderr",
     "output_type": "stream",
     "text": [
      "C:\\Users\\sai\\anaconda3\\lib\\site-packages\\sklearn\\utils\\deprecation.py:87: FutureWarning: Function load_boston is deprecated; `load_boston` is deprecated in 1.0 and will be removed in 1.2.\n",
      "\n",
      "    The Boston housing prices dataset has an ethical problem. You can refer to\n",
      "    the documentation of this function for further details.\n",
      "\n",
      "    The scikit-learn maintainers therefore strongly discourage the use of this\n",
      "    dataset unless the purpose of the code is to study and educate about\n",
      "    ethical issues in data science and machine learning.\n",
      "\n",
      "    In this special case, you can fetch the dataset from the original\n",
      "    source::\n",
      "\n",
      "        import pandas as pd\n",
      "        import numpy as np\n",
      "\n",
      "        data_url = \"http://lib.stat.cmu.edu/datasets/boston\"\n",
      "        raw_df = pd.read_csv(data_url, sep=\"\\s+\", skiprows=22, header=None)\n",
      "        data = np.hstack([raw_df.values[::2, :], raw_df.values[1::2, :2]])\n",
      "        target = raw_df.values[1::2, 2]\n",
      "\n",
      "    Alternative datasets include the California housing dataset (i.e.\n",
      "    :func:`~sklearn.datasets.fetch_california_housing`) and the Ames housing\n",
      "    dataset. You can load the datasets as follows::\n",
      "\n",
      "        from sklearn.datasets import fetch_california_housing\n",
      "        housing = fetch_california_housing()\n",
      "\n",
      "    for the California housing dataset and::\n",
      "\n",
      "        from sklearn.datasets import fetch_openml\n",
      "        housing = fetch_openml(name=\"house_prices\", as_frame=True)\n",
      "\n",
      "    for the Ames housing dataset.\n",
      "  warnings.warn(msg, category=FutureWarning)\n"
     ]
    },
    {
     "data": {
      "text/plain": [
       "['DESCR', 'data', 'data_module', 'feature_names', 'filename', 'target']"
      ]
     },
     "execution_count": 3,
     "metadata": {},
     "output_type": "execute_result"
    }
   ],
   "source": [
    "boston= load_boston()\n",
    "dir(boston)"
   ]
  },
  {
   "cell_type": "code",
   "execution_count": 4,
   "id": "9bd427e8",
   "metadata": {},
   "outputs": [],
   "source": [
    "# boston.data"
   ]
  },
  {
   "cell_type": "code",
   "execution_count": 5,
   "id": "da75aeb6",
   "metadata": {},
   "outputs": [],
   "source": [
    "# boston.target"
   ]
  },
  {
   "cell_type": "code",
   "execution_count": 6,
   "id": "c7d5b30d",
   "metadata": {},
   "outputs": [
    {
     "data": {
      "text/plain": [
       "array(['CRIM', 'ZN', 'INDUS', 'CHAS', 'NOX', 'RM', 'AGE', 'DIS', 'RAD',\n",
       "       'TAX', 'PTRATIO', 'B', 'LSTAT'], dtype='<U7')"
      ]
     },
     "execution_count": 6,
     "metadata": {},
     "output_type": "execute_result"
    }
   ],
   "source": [
    "boston.feature_names"
   ]
  },
  {
   "cell_type": "code",
   "execution_count": 7,
   "id": "0442ca33",
   "metadata": {},
   "outputs": [
    {
     "data": {
      "text/html": [
       "<div>\n",
       "<style scoped>\n",
       "    .dataframe tbody tr th:only-of-type {\n",
       "        vertical-align: middle;\n",
       "    }\n",
       "\n",
       "    .dataframe tbody tr th {\n",
       "        vertical-align: top;\n",
       "    }\n",
       "\n",
       "    .dataframe thead th {\n",
       "        text-align: right;\n",
       "    }\n",
       "</style>\n",
       "<table border=\"1\" class=\"dataframe\">\n",
       "  <thead>\n",
       "    <tr style=\"text-align: right;\">\n",
       "      <th></th>\n",
       "      <th>CRIM</th>\n",
       "      <th>ZN</th>\n",
       "      <th>INDUS</th>\n",
       "      <th>CHAS</th>\n",
       "      <th>NOX</th>\n",
       "      <th>RM</th>\n",
       "      <th>AGE</th>\n",
       "      <th>DIS</th>\n",
       "      <th>RAD</th>\n",
       "      <th>TAX</th>\n",
       "      <th>PTRATIO</th>\n",
       "      <th>B</th>\n",
       "      <th>LSTAT</th>\n",
       "    </tr>\n",
       "  </thead>\n",
       "  <tbody>\n",
       "    <tr>\n",
       "      <th>0</th>\n",
       "      <td>0.00632</td>\n",
       "      <td>18.0</td>\n",
       "      <td>2.31</td>\n",
       "      <td>0.0</td>\n",
       "      <td>0.538</td>\n",
       "      <td>6.575</td>\n",
       "      <td>65.2</td>\n",
       "      <td>4.0900</td>\n",
       "      <td>1.0</td>\n",
       "      <td>296.0</td>\n",
       "      <td>15.3</td>\n",
       "      <td>396.9</td>\n",
       "      <td>4.98</td>\n",
       "    </tr>\n",
       "    <tr>\n",
       "      <th>1</th>\n",
       "      <td>0.02731</td>\n",
       "      <td>0.0</td>\n",
       "      <td>7.07</td>\n",
       "      <td>0.0</td>\n",
       "      <td>0.469</td>\n",
       "      <td>6.421</td>\n",
       "      <td>78.9</td>\n",
       "      <td>4.9671</td>\n",
       "      <td>2.0</td>\n",
       "      <td>242.0</td>\n",
       "      <td>17.8</td>\n",
       "      <td>396.9</td>\n",
       "      <td>9.14</td>\n",
       "    </tr>\n",
       "  </tbody>\n",
       "</table>\n",
       "</div>"
      ],
      "text/plain": [
       "      CRIM    ZN  INDUS  CHAS    NOX     RM   AGE     DIS  RAD    TAX  \\\n",
       "0  0.00632  18.0   2.31   0.0  0.538  6.575  65.2  4.0900  1.0  296.0   \n",
       "1  0.02731   0.0   7.07   0.0  0.469  6.421  78.9  4.9671  2.0  242.0   \n",
       "\n",
       "   PTRATIO      B  LSTAT  \n",
       "0     15.3  396.9   4.98  \n",
       "1     17.8  396.9   9.14  "
      ]
     },
     "execution_count": 7,
     "metadata": {},
     "output_type": "execute_result"
    }
   ],
   "source": [
    "import numpy as np\n",
    "import pandas as pd\n",
    "\n",
    "df= pd.DataFrame(boston.data, columns= boston.feature_names)\n",
    "df.head(2)"
   ]
  },
  {
   "cell_type": "code",
   "execution_count": 8,
   "id": "ef6c7822",
   "metadata": {},
   "outputs": [
    {
     "data": {
      "text/html": [
       "<div>\n",
       "<style scoped>\n",
       "    .dataframe tbody tr th:only-of-type {\n",
       "        vertical-align: middle;\n",
       "    }\n",
       "\n",
       "    .dataframe tbody tr th {\n",
       "        vertical-align: top;\n",
       "    }\n",
       "\n",
       "    .dataframe thead th {\n",
       "        text-align: right;\n",
       "    }\n",
       "</style>\n",
       "<table border=\"1\" class=\"dataframe\">\n",
       "  <thead>\n",
       "    <tr style=\"text-align: right;\">\n",
       "      <th></th>\n",
       "      <th>CRIM</th>\n",
       "      <th>ZN</th>\n",
       "      <th>INDUS</th>\n",
       "      <th>CHAS</th>\n",
       "      <th>NOX</th>\n",
       "      <th>RM</th>\n",
       "      <th>AGE</th>\n",
       "      <th>DIS</th>\n",
       "      <th>RAD</th>\n",
       "      <th>TAX</th>\n",
       "      <th>PTRATIO</th>\n",
       "      <th>B</th>\n",
       "      <th>LSTAT</th>\n",
       "      <th>PRICE</th>\n",
       "    </tr>\n",
       "  </thead>\n",
       "  <tbody>\n",
       "    <tr>\n",
       "      <th>0</th>\n",
       "      <td>0.00632</td>\n",
       "      <td>18.0</td>\n",
       "      <td>2.31</td>\n",
       "      <td>0.0</td>\n",
       "      <td>0.538</td>\n",
       "      <td>6.575</td>\n",
       "      <td>65.2</td>\n",
       "      <td>4.0900</td>\n",
       "      <td>1.0</td>\n",
       "      <td>296.0</td>\n",
       "      <td>15.3</td>\n",
       "      <td>396.9</td>\n",
       "      <td>4.98</td>\n",
       "      <td>24.0</td>\n",
       "    </tr>\n",
       "    <tr>\n",
       "      <th>1</th>\n",
       "      <td>0.02731</td>\n",
       "      <td>0.0</td>\n",
       "      <td>7.07</td>\n",
       "      <td>0.0</td>\n",
       "      <td>0.469</td>\n",
       "      <td>6.421</td>\n",
       "      <td>78.9</td>\n",
       "      <td>4.9671</td>\n",
       "      <td>2.0</td>\n",
       "      <td>242.0</td>\n",
       "      <td>17.8</td>\n",
       "      <td>396.9</td>\n",
       "      <td>9.14</td>\n",
       "      <td>21.6</td>\n",
       "    </tr>\n",
       "  </tbody>\n",
       "</table>\n",
       "</div>"
      ],
      "text/plain": [
       "      CRIM    ZN  INDUS  CHAS    NOX     RM   AGE     DIS  RAD    TAX  \\\n",
       "0  0.00632  18.0   2.31   0.0  0.538  6.575  65.2  4.0900  1.0  296.0   \n",
       "1  0.02731   0.0   7.07   0.0  0.469  6.421  78.9  4.9671  2.0  242.0   \n",
       "\n",
       "   PTRATIO      B  LSTAT  PRICE  \n",
       "0     15.3  396.9   4.98   24.0  \n",
       "1     17.8  396.9   9.14   21.6  "
      ]
     },
     "execution_count": 8,
     "metadata": {},
     "output_type": "execute_result"
    }
   ],
   "source": [
    "df['PRICE'] = boston.target\n",
    "df.head(2)"
   ]
  },
  {
   "cell_type": "markdown",
   "id": "74efe576",
   "metadata": {},
   "source": [
    "# EDA"
   ]
  },
  {
   "cell_type": "code",
   "execution_count": 9,
   "id": "1426600c",
   "metadata": {},
   "outputs": [
    {
     "name": "stdout",
     "output_type": "stream",
     "text": [
      "<class 'pandas.core.frame.DataFrame'>\n",
      "RangeIndex: 506 entries, 0 to 505\n",
      "Data columns (total 14 columns):\n",
      " #   Column   Non-Null Count  Dtype  \n",
      "---  ------   --------------  -----  \n",
      " 0   CRIM     506 non-null    float64\n",
      " 1   ZN       506 non-null    float64\n",
      " 2   INDUS    506 non-null    float64\n",
      " 3   CHAS     506 non-null    float64\n",
      " 4   NOX      506 non-null    float64\n",
      " 5   RM       506 non-null    float64\n",
      " 6   AGE      506 non-null    float64\n",
      " 7   DIS      506 non-null    float64\n",
      " 8   RAD      506 non-null    float64\n",
      " 9   TAX      506 non-null    float64\n",
      " 10  PTRATIO  506 non-null    float64\n",
      " 11  B        506 non-null    float64\n",
      " 12  LSTAT    506 non-null    float64\n",
      " 13  PRICE    506 non-null    float64\n",
      "dtypes: float64(14)\n",
      "memory usage: 55.5 KB\n"
     ]
    }
   ],
   "source": [
    "df.info()"
   ]
  },
  {
   "cell_type": "markdown",
   "id": "1531f70c",
   "metadata": {},
   "source": [
    "#### All Data in Dataframe is 'Float', there is no object present. We check the description of data for further process,"
   ]
  },
  {
   "cell_type": "markdown",
   "id": "121f5249",
   "metadata": {},
   "source": [
    "# Feature Engineering"
   ]
  },
  {
   "cell_type": "code",
   "execution_count": 10,
   "id": "e80e5588",
   "metadata": {},
   "outputs": [
    {
     "data": {
      "text/html": [
       "<div>\n",
       "<style scoped>\n",
       "    .dataframe tbody tr th:only-of-type {\n",
       "        vertical-align: middle;\n",
       "    }\n",
       "\n",
       "    .dataframe tbody tr th {\n",
       "        vertical-align: top;\n",
       "    }\n",
       "\n",
       "    .dataframe thead th {\n",
       "        text-align: right;\n",
       "    }\n",
       "</style>\n",
       "<table border=\"1\" class=\"dataframe\">\n",
       "  <thead>\n",
       "    <tr style=\"text-align: right;\">\n",
       "      <th></th>\n",
       "      <th>CRIM</th>\n",
       "      <th>ZN</th>\n",
       "      <th>INDUS</th>\n",
       "      <th>CHAS</th>\n",
       "      <th>NOX</th>\n",
       "      <th>RM</th>\n",
       "      <th>AGE</th>\n",
       "      <th>DIS</th>\n",
       "      <th>RAD</th>\n",
       "      <th>TAX</th>\n",
       "      <th>PTRATIO</th>\n",
       "      <th>B</th>\n",
       "      <th>LSTAT</th>\n",
       "      <th>PRICE</th>\n",
       "    </tr>\n",
       "  </thead>\n",
       "  <tbody>\n",
       "    <tr>\n",
       "      <th>count</th>\n",
       "      <td>506.000000</td>\n",
       "      <td>506.000000</td>\n",
       "      <td>506.000000</td>\n",
       "      <td>506.000000</td>\n",
       "      <td>506.000000</td>\n",
       "      <td>506.000000</td>\n",
       "      <td>506.000000</td>\n",
       "      <td>506.000000</td>\n",
       "      <td>506.000000</td>\n",
       "      <td>506.000000</td>\n",
       "      <td>506.000000</td>\n",
       "      <td>506.000000</td>\n",
       "      <td>506.000000</td>\n",
       "      <td>506.000000</td>\n",
       "    </tr>\n",
       "    <tr>\n",
       "      <th>mean</th>\n",
       "      <td>3.613524</td>\n",
       "      <td>11.363636</td>\n",
       "      <td>11.136779</td>\n",
       "      <td>0.069170</td>\n",
       "      <td>0.554695</td>\n",
       "      <td>6.284634</td>\n",
       "      <td>68.574901</td>\n",
       "      <td>3.795043</td>\n",
       "      <td>9.549407</td>\n",
       "      <td>408.237154</td>\n",
       "      <td>18.455534</td>\n",
       "      <td>356.674032</td>\n",
       "      <td>12.653063</td>\n",
       "      <td>22.532806</td>\n",
       "    </tr>\n",
       "    <tr>\n",
       "      <th>std</th>\n",
       "      <td>8.601545</td>\n",
       "      <td>23.322453</td>\n",
       "      <td>6.860353</td>\n",
       "      <td>0.253994</td>\n",
       "      <td>0.115878</td>\n",
       "      <td>0.702617</td>\n",
       "      <td>28.148861</td>\n",
       "      <td>2.105710</td>\n",
       "      <td>8.707259</td>\n",
       "      <td>168.537116</td>\n",
       "      <td>2.164946</td>\n",
       "      <td>91.294864</td>\n",
       "      <td>7.141062</td>\n",
       "      <td>9.197104</td>\n",
       "    </tr>\n",
       "    <tr>\n",
       "      <th>min</th>\n",
       "      <td>0.006320</td>\n",
       "      <td>0.000000</td>\n",
       "      <td>0.460000</td>\n",
       "      <td>0.000000</td>\n",
       "      <td>0.385000</td>\n",
       "      <td>3.561000</td>\n",
       "      <td>2.900000</td>\n",
       "      <td>1.129600</td>\n",
       "      <td>1.000000</td>\n",
       "      <td>187.000000</td>\n",
       "      <td>12.600000</td>\n",
       "      <td>0.320000</td>\n",
       "      <td>1.730000</td>\n",
       "      <td>5.000000</td>\n",
       "    </tr>\n",
       "    <tr>\n",
       "      <th>25%</th>\n",
       "      <td>0.082045</td>\n",
       "      <td>0.000000</td>\n",
       "      <td>5.190000</td>\n",
       "      <td>0.000000</td>\n",
       "      <td>0.449000</td>\n",
       "      <td>5.885500</td>\n",
       "      <td>45.025000</td>\n",
       "      <td>2.100175</td>\n",
       "      <td>4.000000</td>\n",
       "      <td>279.000000</td>\n",
       "      <td>17.400000</td>\n",
       "      <td>375.377500</td>\n",
       "      <td>6.950000</td>\n",
       "      <td>17.025000</td>\n",
       "    </tr>\n",
       "    <tr>\n",
       "      <th>50%</th>\n",
       "      <td>0.256510</td>\n",
       "      <td>0.000000</td>\n",
       "      <td>9.690000</td>\n",
       "      <td>0.000000</td>\n",
       "      <td>0.538000</td>\n",
       "      <td>6.208500</td>\n",
       "      <td>77.500000</td>\n",
       "      <td>3.207450</td>\n",
       "      <td>5.000000</td>\n",
       "      <td>330.000000</td>\n",
       "      <td>19.050000</td>\n",
       "      <td>391.440000</td>\n",
       "      <td>11.360000</td>\n",
       "      <td>21.200000</td>\n",
       "    </tr>\n",
       "    <tr>\n",
       "      <th>75%</th>\n",
       "      <td>3.677083</td>\n",
       "      <td>12.500000</td>\n",
       "      <td>18.100000</td>\n",
       "      <td>0.000000</td>\n",
       "      <td>0.624000</td>\n",
       "      <td>6.623500</td>\n",
       "      <td>94.075000</td>\n",
       "      <td>5.188425</td>\n",
       "      <td>24.000000</td>\n",
       "      <td>666.000000</td>\n",
       "      <td>20.200000</td>\n",
       "      <td>396.225000</td>\n",
       "      <td>16.955000</td>\n",
       "      <td>25.000000</td>\n",
       "    </tr>\n",
       "    <tr>\n",
       "      <th>max</th>\n",
       "      <td>88.976200</td>\n",
       "      <td>100.000000</td>\n",
       "      <td>27.740000</td>\n",
       "      <td>1.000000</td>\n",
       "      <td>0.871000</td>\n",
       "      <td>8.780000</td>\n",
       "      <td>100.000000</td>\n",
       "      <td>12.126500</td>\n",
       "      <td>24.000000</td>\n",
       "      <td>711.000000</td>\n",
       "      <td>22.000000</td>\n",
       "      <td>396.900000</td>\n",
       "      <td>37.970000</td>\n",
       "      <td>50.000000</td>\n",
       "    </tr>\n",
       "  </tbody>\n",
       "</table>\n",
       "</div>"
      ],
      "text/plain": [
       "             CRIM          ZN       INDUS        CHAS         NOX          RM  \\\n",
       "count  506.000000  506.000000  506.000000  506.000000  506.000000  506.000000   \n",
       "mean     3.613524   11.363636   11.136779    0.069170    0.554695    6.284634   \n",
       "std      8.601545   23.322453    6.860353    0.253994    0.115878    0.702617   \n",
       "min      0.006320    0.000000    0.460000    0.000000    0.385000    3.561000   \n",
       "25%      0.082045    0.000000    5.190000    0.000000    0.449000    5.885500   \n",
       "50%      0.256510    0.000000    9.690000    0.000000    0.538000    6.208500   \n",
       "75%      3.677083   12.500000   18.100000    0.000000    0.624000    6.623500   \n",
       "max     88.976200  100.000000   27.740000    1.000000    0.871000    8.780000   \n",
       "\n",
       "              AGE         DIS         RAD         TAX     PTRATIO           B  \\\n",
       "count  506.000000  506.000000  506.000000  506.000000  506.000000  506.000000   \n",
       "mean    68.574901    3.795043    9.549407  408.237154   18.455534  356.674032   \n",
       "std     28.148861    2.105710    8.707259  168.537116    2.164946   91.294864   \n",
       "min      2.900000    1.129600    1.000000  187.000000   12.600000    0.320000   \n",
       "25%     45.025000    2.100175    4.000000  279.000000   17.400000  375.377500   \n",
       "50%     77.500000    3.207450    5.000000  330.000000   19.050000  391.440000   \n",
       "75%     94.075000    5.188425   24.000000  666.000000   20.200000  396.225000   \n",
       "max    100.000000   12.126500   24.000000  711.000000   22.000000  396.900000   \n",
       "\n",
       "            LSTAT       PRICE  \n",
       "count  506.000000  506.000000  \n",
       "mean    12.653063   22.532806  \n",
       "std      7.141062    9.197104  \n",
       "min      1.730000    5.000000  \n",
       "25%      6.950000   17.025000  \n",
       "50%     11.360000   21.200000  \n",
       "75%     16.955000   25.000000  \n",
       "max     37.970000   50.000000  "
      ]
     },
     "execution_count": 10,
     "metadata": {},
     "output_type": "execute_result"
    }
   ],
   "source": [
    "df.describe()"
   ]
  },
  {
   "cell_type": "markdown",
   "id": "46e549e0",
   "metadata": {},
   "source": [
    "## We are Checking the data for OUTLIERS,"
   ]
  },
  {
   "cell_type": "markdown",
   "id": "7a8e8113",
   "metadata": {},
   "source": [
    "### Sensative to outliers-\n",
    "\n",
    "1. Linear Regression\n",
    "2. Logistic Regression\n",
    "3. K-nearest Neighbour\n",
    "4. Support Vector Machine\n",
    "5. K-Means clustering"
   ]
  },
  {
   "cell_type": "markdown",
   "id": "df373935",
   "metadata": {},
   "source": [
    "### Not Sensative to outliers-\n",
    "\n",
    "1. Decision Tree\n",
    "2. Random Forest\n",
    "3. Adaboost\n",
    "4. Gradient Boosting\n",
    "5. XGBoost\n",
    "6. Naive Bayes"
   ]
  },
  {
   "cell_type": "markdown",
   "id": "486a0a6a",
   "metadata": {},
   "source": [
    "### How to Detect outliers?\n",
    "\n",
    "1. Z-score (normally distributed data)\n",
    "2. IQR Method (skwed data)\n",
    "3. Boxplot\n",
    "4. Scatter Plot"
   ]
  },
  {
   "cell_type": "markdown",
   "id": "fad93b28",
   "metadata": {},
   "source": [
    "### How to Handle Outlier?\n",
    "\n",
    "1. Delete Observation\n",
    "2. Imputation Technique:\n",
    "    1. Median\n",
    "    2. mean\n",
    "    3. minumum value\n",
    "    4. maximum value\n",
    "    5. upper_tail\n",
    "    6. lower_tail\n",
    "    7. static value\n",
    "    \n",
    "\n",
    "3. Transformation Techniques:\n",
    "    1. Log Transformation\n",
    "    2. Square root transformation\n",
    "    3. Cube root transformation\n",
    "    4. Reciprocal Transformation\n",
    "    5. Standardization"
   ]
  },
  {
   "cell_type": "markdown",
   "id": "a7272c85",
   "metadata": {},
   "source": [
    "## 1. CRIM"
   ]
  },
  {
   "cell_type": "code",
   "execution_count": 11,
   "id": "9a08df24",
   "metadata": {},
   "outputs": [
    {
     "data": {
      "text/plain": [
       "count    506.00\n",
       "mean       3.61\n",
       "std        8.60\n",
       "min        0.01\n",
       "25%        0.08\n",
       "50%        0.26\n",
       "75%        3.68\n",
       "max       88.98\n",
       "Name: CRIM, dtype: float64"
      ]
     },
     "execution_count": 11,
     "metadata": {},
     "output_type": "execute_result"
    }
   ],
   "source": [
    "df['CRIM'].describe().round(2)"
   ]
  },
  {
   "cell_type": "markdown",
   "id": "b3774668",
   "metadata": {},
   "source": [
    "#### Outliers Detection"
   ]
  },
  {
   "cell_type": "code",
   "execution_count": 12,
   "id": "f1749578",
   "metadata": {},
   "outputs": [
    {
     "name": "stdout",
     "output_type": "stream",
     "text": [
      "q1 : 0.08204499999999999\n",
      "q2 : 0.25651\n",
      "q3 : 3.6770825\n",
      "iqr : 3.5950375\n",
      "upper_tail : 10.867157500000001\n",
      "lower_tail : -7.10803\n"
     ]
    }
   ],
   "source": [
    "q1= df['CRIM'].quantile(0.25)\n",
    "q2= df['CRIM'].quantile(0.50)\n",
    "q3= df['CRIM'].quantile(0.75)\n",
    "\n",
    "iqr = q3-q1\n",
    "\n",
    "upper_tail= q3 + 2*iqr\n",
    "lower_tail= q1 - 2*iqr\n",
    "\n",
    "print('q1 :',q1)\n",
    "print('q2 :',q2)\n",
    "print('q3 :',q3)\n",
    "print('iqr :',iqr)\n",
    "print('upper_tail :', upper_tail)\n",
    "print('lower_tail :', lower_tail)"
   ]
  },
  {
   "cell_type": "code",
   "execution_count": 13,
   "id": "5386acb4",
   "metadata": {},
   "outputs": [],
   "source": [
    "import seaborn as sns\n",
    "import matplotlib.pyplot as plt"
   ]
  },
  {
   "cell_type": "code",
   "execution_count": 14,
   "id": "daeb96e8",
   "metadata": {},
   "outputs": [
    {
     "name": "stderr",
     "output_type": "stream",
     "text": [
      "C:\\Users\\sai\\anaconda3\\lib\\site-packages\\seaborn\\_decorators.py:36: FutureWarning: Pass the following variable as a keyword arg: x. From version 0.12, the only valid positional argument will be `data`, and passing other arguments without an explicit keyword will result in an error or misinterpretation.\n",
      "  warnings.warn(\n"
     ]
    },
    {
     "data": {
      "text/plain": [
       "<AxesSubplot:xlabel='CRIM'>"
      ]
     },
     "execution_count": 14,
     "metadata": {},
     "output_type": "execute_result"
    },
    {
     "data": {
      "image/png": "[encoded data removed]",
      "text/plain": [
       "<Figure size 1440x360 with 1 Axes>"
      ]
     },
     "metadata": {
      "needs_background": "light"
     },
     "output_type": "display_data"
    }
   ],
   "source": [
    "plt.figure(figsize=(20,5))\n",
    "sns.boxplot(df['CRIM'])"
   ]
  },
  {
   "cell_type": "code",
   "execution_count": 15,
   "id": "8bb6e7e2",
   "metadata": {},
   "outputs": [],
   "source": [
    "without_out = df.loc[(df['CRIM']<=upper_tail) &\n",
    "                    (df['CRIM']>=lower_tail)]"
   ]
  },
  {
   "cell_type": "code",
   "execution_count": 16,
   "id": "50766fea",
   "metadata": {},
   "outputs": [
    {
     "data": {
      "text/plain": [
       "0      0.00632\n",
       "1      0.02731\n",
       "2      0.02729\n",
       "3      0.03237\n",
       "4      0.06905\n",
       "        ...   \n",
       "501    0.06263\n",
       "502    0.04527\n",
       "503    0.06076\n",
       "504    0.10959\n",
       "505    0.04741\n",
       "Name: CRIM, Length: 456, dtype: float64"
      ]
     },
     "execution_count": 16,
     "metadata": {},
     "output_type": "execute_result"
    }
   ],
   "source": [
    "without_out['CRIM']"
   ]
  },
  {
   "cell_type": "code",
   "execution_count": 17,
   "id": "b2add44f",
   "metadata": {},
   "outputs": [],
   "source": [
    "# mean_CRIM = without_out['CRIM'].mean()\n",
    "# mean_CRIM"
   ]
  },
  {
   "cell_type": "code",
   "execution_count": 18,
   "id": "bb5d260b",
   "metadata": {},
   "outputs": [
    {
     "data": {
      "text/plain": [
       "0.193625"
      ]
     },
     "execution_count": 18,
     "metadata": {},
     "output_type": "execute_result"
    }
   ],
   "source": [
    "median_CRIM = without_out['CRIM'].median()\n",
    "median_CRIM"
   ]
  },
  {
   "cell_type": "code",
   "execution_count": 19,
   "id": "4f7a3024",
   "metadata": {},
   "outputs": [
    {
     "data": {
      "text/plain": [
       "50"
      ]
     },
     "execution_count": 19,
     "metadata": {},
     "output_type": "execute_result"
    }
   ],
   "source": [
    "outlier_CRIM = df.loc[(df['CRIM'] > upper_tail) |\n",
    "                 (df['CRIM']< lower_tail)] \n",
    "outlier_CRIM['CRIM'].value_counts().sum()"
   ]
  },
  {
   "cell_type": "markdown",
   "id": "e7135a0e",
   "metadata": {},
   "source": [
    "### 50 Outliers Present In 'CRIM' column"
   ]
  },
  {
   "cell_type": "markdown",
   "id": "1391843e",
   "metadata": {},
   "source": [
    "### Outliers Replace by imputation Method (by median / mean / lower tail / upper tail /....),"
   ]
  },
  {
   "cell_type": "code",
   "execution_count": 20,
   "id": "4175e4f5",
   "metadata": {},
   "outputs": [],
   "source": [
    "df.loc[(df['CRIM'] > upper_tail) |\n",
    "                 (df['CRIM']< lower_tail)] = median_CRIM"
   ]
  },
  {
   "cell_type": "code",
   "execution_count": 21,
   "id": "836978ad",
   "metadata": {},
   "outputs": [
    {
     "data": {
      "text/html": [
       "<div>\n",
       "<style scoped>\n",
       "    .dataframe tbody tr th:only-of-type {\n",
       "        vertical-align: middle;\n",
       "    }\n",
       "\n",
       "    .dataframe tbody tr th {\n",
       "        vertical-align: top;\n",
       "    }\n",
       "\n",
       "    .dataframe thead th {\n",
       "        text-align: right;\n",
       "    }\n",
       "</style>\n",
       "<table border=\"1\" class=\"dataframe\">\n",
       "  <thead>\n",
       "    <tr style=\"text-align: right;\">\n",
       "      <th></th>\n",
       "      <th>CRIM</th>\n",
       "      <th>ZN</th>\n",
       "      <th>INDUS</th>\n",
       "      <th>CHAS</th>\n",
       "      <th>NOX</th>\n",
       "      <th>RM</th>\n",
       "      <th>AGE</th>\n",
       "      <th>DIS</th>\n",
       "      <th>RAD</th>\n",
       "      <th>TAX</th>\n",
       "      <th>PTRATIO</th>\n",
       "      <th>B</th>\n",
       "      <th>LSTAT</th>\n",
       "      <th>PRICE</th>\n",
       "    </tr>\n",
       "  </thead>\n",
       "  <tbody>\n",
       "  </tbody>\n",
       "</table>\n",
       "</div>"
      ],
      "text/plain": [
       "Empty DataFrame\n",
       "Columns: [CRIM, ZN, INDUS, CHAS, NOX, RM, AGE, DIS, RAD, TAX, PTRATIO, B, LSTAT, PRICE]\n",
       "Index: []"
      ]
     },
     "execution_count": 21,
     "metadata": {},
     "output_type": "execute_result"
    }
   ],
   "source": [
    "df.loc[(df['CRIM'] > upper_tail) |\n",
    "                 (df['CRIM']< lower_tail)]"
   ]
  },
  {
   "cell_type": "code",
   "execution_count": 22,
   "id": "9a91baf7",
   "metadata": {},
   "outputs": [
    {
     "data": {
      "text/plain": [
       "0      0.00632\n",
       "1      0.02731\n",
       "2      0.02729\n",
       "3      0.03237\n",
       "4      0.06905\n",
       "        ...   \n",
       "501    0.06263\n",
       "502    0.04527\n",
       "503    0.06076\n",
       "504    0.10959\n",
       "505    0.04741\n",
       "Name: CRIM, Length: 506, dtype: float64"
      ]
     },
     "execution_count": 22,
     "metadata": {},
     "output_type": "execute_result"
    }
   ],
   "source": [
    "df['CRIM'].loc[(df['CRIM'] <= upper_tail) |\n",
    "                 (df['CRIM']>= lower_tail)]"
   ]
  },
  {
   "cell_type": "code",
   "execution_count": 23,
   "id": "e8c0c4b1",
   "metadata": {},
   "outputs": [
    {
     "data": {
      "text/plain": [
       "0      0.00632\n",
       "1      0.02731\n",
       "2      0.02729\n",
       "3      0.03237\n",
       "4      0.06905\n",
       "        ...   \n",
       "501    0.06263\n",
       "502    0.04527\n",
       "503    0.06076\n",
       "504    0.10959\n",
       "505    0.04741\n",
       "Name: CRIM, Length: 506, dtype: float64"
      ]
     },
     "execution_count": 23,
     "metadata": {},
     "output_type": "execute_result"
    }
   ],
   "source": [
    "df['CRIM']"
   ]
  },
  {
   "cell_type": "markdown",
   "id": "42619709",
   "metadata": {},
   "source": [
    "# 2. ZN"
   ]
  },
  {
   "cell_type": "code",
   "execution_count": 24,
   "id": "796e5c00",
   "metadata": {},
   "outputs": [
    {
     "data": {
      "text/plain": [
       "count    506.000000\n",
       "mean      11.382769\n",
       "std       23.313182\n",
       "min        0.000000\n",
       "25%        0.000000\n",
       "50%        0.000000\n",
       "75%       12.500000\n",
       "max      100.000000\n",
       "Name: ZN, dtype: float64"
      ]
     },
     "execution_count": 24,
     "metadata": {},
     "output_type": "execute_result"
    }
   ],
   "source": [
    "df['ZN'].describe()"
   ]
  },
  {
   "cell_type": "code",
   "execution_count": 25,
   "id": "44589037",
   "metadata": {},
   "outputs": [
    {
     "name": "stdout",
     "output_type": "stream",
     "text": [
      "q1 : 0.0\n",
      "q2 : 0.0\n",
      "q3 : 12.5\n",
      "iqr : 12.5\n",
      "upper_tail : 37.5\n",
      "lower_tail : -25.0\n"
     ]
    }
   ],
   "source": [
    "q1 = df['ZN'].quantile(0.25)\n",
    "q2 = df['ZN'].quantile(0.50)\n",
    "q3 = df['ZN'].quantile(0.75)\n",
    "\n",
    "iqr = q3-q2\n",
    "\n",
    "upper_tail = q3 + 2*iqr\n",
    "lower_tail = q1 - 2*iqr\n",
    "\n",
    "print('q1 :',q1)\n",
    "print('q2 :',q2)\n",
    "print('q3 :',q3)\n",
    "print('iqr :',iqr)\n",
    "print('upper_tail :', upper_tail)\n",
    "print('lower_tail :', lower_tail)"
   ]
  },
  {
   "cell_type": "code",
   "execution_count": 26,
   "id": "ba82b480",
   "metadata": {},
   "outputs": [
    {
     "name": "stderr",
     "output_type": "stream",
     "text": [
      "C:\\Users\\sai\\anaconda3\\lib\\site-packages\\seaborn\\_decorators.py:36: FutureWarning: Pass the following variable as a keyword arg: x. From version 0.12, the only valid positional argument will be `data`, and passing other arguments without an explicit keyword will result in an error or misinterpretation.\n",
      "  warnings.warn(\n"
     ]
    },
    {
     "data": {
      "text/plain": [
       "<AxesSubplot:xlabel='ZN'>"
      ]
     },
     "execution_count": 26,
     "metadata": {},
     "output_type": "execute_result"
    },
    {
     "data": {
      "image/png": "[encoded data removed]",
      "text/plain": [
       "<Figure size 1440x360 with 1 Axes>"
      ]
     },
     "metadata": {
      "needs_background": "light"
     },
     "output_type": "display_data"
    }
   ],
   "source": [
    "plt.figure(figsize=(20,5))\n",
    "sns.boxenplot(df['ZN'])"
   ]
  },
  {
   "cell_type": "code",
   "execution_count": 27,
   "id": "7bbcc364",
   "metadata": {},
   "outputs": [
    {
     "data": {
      "text/plain": [
       "448"
      ]
     },
     "execution_count": 27,
     "metadata": {},
     "output_type": "execute_result"
    }
   ],
   "source": [
    "without_outlier = df.loc[(df['ZN']<=upper_tail) &\n",
    "                        (df['ZN']>=lower_tail)]\n",
    "without_outlier['ZN'].value_counts().sum()"
   ]
  },
  {
   "cell_type": "code",
   "execution_count": 28,
   "id": "452e7dc6",
   "metadata": {},
   "outputs": [
    {
     "data": {
      "text/plain": [
       "58"
      ]
     },
     "execution_count": 28,
     "metadata": {},
     "output_type": "execute_result"
    }
   ],
   "source": [
    "outliers =  df.loc[(df['ZN'] > upper_tail) |\n",
    "                        (df['ZN'] < lower_tail)]\n",
    "outliers.value_counts().sum()"
   ]
  },
  {
   "cell_type": "code",
   "execution_count": 29,
   "id": "774ffe25",
   "metadata": {},
   "outputs": [],
   "source": [
    "# median_ZN = without_outlier['ZN'].median()\n",
    "# median_ZN"
   ]
  },
  {
   "cell_type": "code",
   "execution_count": 30,
   "id": "fed0a874",
   "metadata": {},
   "outputs": [
    {
     "data": {
      "text/plain": [
       "3.899958147321441"
      ]
     },
     "execution_count": 30,
     "metadata": {},
     "output_type": "execute_result"
    }
   ],
   "source": [
    "mean_ZN = without_outlier['ZN'].mean()\n",
    "mean_ZN"
   ]
  },
  {
   "cell_type": "code",
   "execution_count": 31,
   "id": "822a09e6",
   "metadata": {},
   "outputs": [],
   "source": [
    "df.loc[(df['ZN'] > upper_tail) |\n",
    "        (df['ZN'] < lower_tail)] = mean_ZN"
   ]
  },
  {
   "cell_type": "code",
   "execution_count": 32,
   "id": "b917e8ca",
   "metadata": {},
   "outputs": [
    {
     "data": {
      "text/plain": [
       "0"
      ]
     },
     "execution_count": 32,
     "metadata": {},
     "output_type": "execute_result"
    }
   ],
   "source": [
    "outliers =  df.loc[(df['ZN'] > upper_tail) |\n",
    "                        (df['ZN'] < lower_tail)]\n",
    "outliers.value_counts().sum()"
   ]
  },
  {
   "cell_type": "code",
   "execution_count": 33,
   "id": "2140cb46",
   "metadata": {},
   "outputs": [
    {
     "data": {
      "text/plain": [
       "506"
      ]
     },
     "execution_count": 33,
     "metadata": {},
     "output_type": "execute_result"
    }
   ],
   "source": [
    "without_outlier = df.loc[(df['ZN']<=upper_tail) &\n",
    "                        (df['ZN']>=lower_tail)]\n",
    "without_outlier['ZN'].value_counts().sum()"
   ]
  },
  {
   "cell_type": "markdown",
   "id": "e54ab4f3",
   "metadata": {},
   "source": [
    "# 3. INDUS"
   ]
  },
  {
   "cell_type": "code",
   "execution_count": 34,
   "id": "cb3aefee",
   "metadata": {},
   "outputs": [
    {
     "data": {
      "text/plain": [
       "count    506.000000\n",
       "mean       9.462547\n",
       "std        7.040466\n",
       "min        0.193625\n",
       "25%        3.899958\n",
       "50%        7.380000\n",
       "75%       18.100000\n",
       "max       27.740000\n",
       "Name: INDUS, dtype: float64"
      ]
     },
     "execution_count": 34,
     "metadata": {},
     "output_type": "execute_result"
    }
   ],
   "source": [
    "df['INDUS'].describe()"
   ]
  },
  {
   "cell_type": "code",
   "execution_count": 35,
   "id": "679953d9",
   "metadata": {},
   "outputs": [
    {
     "name": "stdout",
     "output_type": "stream",
     "text": [
      "q1 : 3.899958147321441\n",
      "q2 : 7.38\n",
      "q3 : 18.1\n",
      "iqr : 14.20004185267856\n",
      "upper_tail : 46.50008370535712\n",
      "lower_tail : -24.500125558035677\n"
     ]
    }
   ],
   "source": [
    "q1= df['INDUS'].quantile(0.25)\n",
    "q2= df['INDUS'].quantile(0.50)\n",
    "q3= df['INDUS'].quantile(0.75)\n",
    "\n",
    "iqr = q3-q1\n",
    "\n",
    "upper_tail= q3 + 2*iqr\n",
    "lower_tail= q1 - 2*iqr\n",
    "\n",
    "print('q1 :',q1)\n",
    "print('q2 :',q2)\n",
    "print('q3 :',q3)\n",
    "print('iqr :',iqr)\n",
    "print('upper_tail :', upper_tail)\n",
    "print('lower_tail :', lower_tail)"
   ]
  },
  {
   "cell_type": "code",
   "execution_count": 36,
   "id": "ed1f459c",
   "metadata": {},
   "outputs": [
    {
     "name": "stderr",
     "output_type": "stream",
     "text": [
      "C:\\Users\\sai\\anaconda3\\lib\\site-packages\\seaborn\\_decorators.py:36: FutureWarning: Pass the following variable as a keyword arg: x. From version 0.12, the only valid positional argument will be `data`, and passing other arguments without an explicit keyword will result in an error or misinterpretation.\n",
      "  warnings.warn(\n"
     ]
    },
    {
     "data": {
      "text/plain": [
       "<AxesSubplot:xlabel='INDUS'>"
      ]
     },
     "execution_count": 36,
     "metadata": {},
     "output_type": "execute_result"
    },
    {
     "data": {
      "image/png": "[encoded data removed]",
      "text/plain": [
       "<Figure size 432x288 with 1 Axes>"
      ]
     },
     "metadata": {
      "needs_background": "light"
     },
     "output_type": "display_data"
    }
   ],
   "source": [
    "sns.boxplot(df['INDUS'])"
   ]
  },
  {
   "cell_type": "code",
   "execution_count": 37,
   "id": "fc5e0fe7",
   "metadata": {},
   "outputs": [
    {
     "data": {
      "text/plain": [
       "0"
      ]
     },
     "execution_count": 37,
     "metadata": {},
     "output_type": "execute_result"
    }
   ],
   "source": [
    "outliers = df.loc[(df['INDUS']<lower_tail) |\n",
    "                 (df['INDUS']>upper_tail)]\n",
    "outliers.value_counts().sum()"
   ]
  },
  {
   "cell_type": "markdown",
   "id": "e211ae13",
   "metadata": {},
   "source": [
    "#### There is no Outliers show in Boxplot and outliers variable also."
   ]
  },
  {
   "cell_type": "markdown",
   "id": "79d2e94e",
   "metadata": {},
   "source": [
    "# 4. CHAS"
   ]
  },
  {
   "cell_type": "code",
   "execution_count": 38,
   "id": "61df8df7",
   "metadata": {},
   "outputs": [
    {
     "data": {
      "text/plain": [
       "count    506.000000\n",
       "mean       0.527429\n",
       "std        1.238233\n",
       "min        0.000000\n",
       "25%        0.000000\n",
       "50%        0.000000\n",
       "75%        0.193625\n",
       "max        3.899958\n",
       "Name: CHAS, dtype: float64"
      ]
     },
     "execution_count": 38,
     "metadata": {},
     "output_type": "execute_result"
    }
   ],
   "source": [
    "df['CHAS'].describe()"
   ]
  },
  {
   "cell_type": "code",
   "execution_count": 39,
   "id": "ef9ab178",
   "metadata": {},
   "outputs": [
    {
     "name": "stdout",
     "output_type": "stream",
     "text": [
      "q1 : 0.0\n",
      "q2 : 0.0\n",
      "q3 : 0.193625\n",
      "iqr : 0.193625\n",
      "upper_tail : 0.580875\n",
      "lower_tail : -0.38725\n"
     ]
    }
   ],
   "source": [
    "q1= df['CHAS'].quantile(0.25)\n",
    "q2= df['CHAS'].quantile(0.50)\n",
    "q3= df['CHAS'].quantile(0.75)\n",
    "\n",
    "iqr = q3-q1\n",
    "\n",
    "upper_tail= q3 + 2*iqr\n",
    "lower_tail= q1 - 2*iqr\n",
    "\n",
    "print('q1 :',q1)\n",
    "print('q2 :',q2)\n",
    "print('q3 :',q3)\n",
    "print('iqr :',iqr)\n",
    "print('upper_tail :', upper_tail)\n",
    "print('lower_tail :', lower_tail)"
   ]
  },
  {
   "cell_type": "code",
   "execution_count": 40,
   "id": "e33bd12d",
   "metadata": {},
   "outputs": [
    {
     "name": "stderr",
     "output_type": "stream",
     "text": [
      "C:\\Users\\sai\\anaconda3\\lib\\site-packages\\seaborn\\_decorators.py:36: FutureWarning: Pass the following variable as a keyword arg: x. From version 0.12, the only valid positional argument will be `data`, and passing other arguments without an explicit keyword will result in an error or misinterpretation.\n",
      "  warnings.warn(\n"
     ]
    },
    {
     "data": {
      "text/plain": [
       "<AxesSubplot:xlabel='CHAS'>"
      ]
     },
     "execution_count": 40,
     "metadata": {},
     "output_type": "execute_result"
    },
    {
     "data": {
      "image/png": "[encoded data removed]",
      "text/plain": [
       "<Figure size 1440x360 with 1 Axes>"
      ]
     },
     "metadata": {
      "needs_background": "light"
     },
     "output_type": "display_data"
    }
   ],
   "source": [
    "plt.figure(figsize=(20,5))\n",
    "sns.boxplot(df['CHAS'])"
   ]
  },
  {
   "cell_type": "code",
   "execution_count": 41,
   "id": "93f0cdfb",
   "metadata": {},
   "outputs": [
    {
     "data": {
      "text/plain": [
       "89"
      ]
     },
     "execution_count": 41,
     "metadata": {},
     "output_type": "execute_result"
    }
   ],
   "source": [
    "outliers = df.loc[(df['CHAS']<lower_tail) |\n",
    "                 (df['CHAS']>upper_tail)]\n",
    "outliers.value_counts().sum()"
   ]
  },
  {
   "cell_type": "markdown",
   "id": "9058e079",
   "metadata": {},
   "source": [
    "### Detect 89 outliers in CHAS columns"
   ]
  },
  {
   "cell_type": "code",
   "execution_count": 42,
   "id": "226e636b",
   "metadata": {},
   "outputs": [
    {
     "data": {
      "text/plain": [
       "417"
      ]
     },
     "execution_count": 42,
     "metadata": {},
     "output_type": "execute_result"
    }
   ],
   "source": [
    "without_outliers = df['CHAS'].loc[(df['CHAS']>=lower_tail) &\n",
    "                 (df['CHAS']<=upper_tail)]\n",
    "without_outliers.value_counts().sum()"
   ]
  },
  {
   "cell_type": "code",
   "execution_count": 43,
   "id": "f7ba1b08",
   "metadata": {},
   "outputs": [],
   "source": [
    "# median_CHAS = without_outliers.median()\n",
    "# median_CHAS"
   ]
  },
  {
   "cell_type": "code",
   "execution_count": 44,
   "id": "1fde07a1",
   "metadata": {},
   "outputs": [
    {
     "data": {
      "text/plain": [
       "0.023216426858513203"
      ]
     },
     "execution_count": 44,
     "metadata": {},
     "output_type": "execute_result"
    }
   ],
   "source": [
    "mean_CHAS = without_outliers.mean()\n",
    "mean_CHAS"
   ]
  },
  {
   "cell_type": "markdown",
   "id": "162eeba4",
   "metadata": {},
   "source": [
    "### Imputing outliers by mean value,"
   ]
  },
  {
   "cell_type": "code",
   "execution_count": 45,
   "id": "c650c543",
   "metadata": {},
   "outputs": [],
   "source": [
    "df.loc[(df['CHAS']<lower_tail) |\n",
    "       (df['CHAS']>upper_tail)]= mean_CHAS"
   ]
  },
  {
   "cell_type": "code",
   "execution_count": 46,
   "id": "5d816744",
   "metadata": {},
   "outputs": [
    {
     "data": {
      "text/html": [
       "<div>\n",
       "<style scoped>\n",
       "    .dataframe tbody tr th:only-of-type {\n",
       "        vertical-align: middle;\n",
       "    }\n",
       "\n",
       "    .dataframe tbody tr th {\n",
       "        vertical-align: top;\n",
       "    }\n",
       "\n",
       "    .dataframe thead th {\n",
       "        text-align: right;\n",
       "    }\n",
       "</style>\n",
       "<table border=\"1\" class=\"dataframe\">\n",
       "  <thead>\n",
       "    <tr style=\"text-align: right;\">\n",
       "      <th></th>\n",
       "      <th>CRIM</th>\n",
       "      <th>ZN</th>\n",
       "      <th>INDUS</th>\n",
       "      <th>CHAS</th>\n",
       "      <th>NOX</th>\n",
       "      <th>RM</th>\n",
       "      <th>AGE</th>\n",
       "      <th>DIS</th>\n",
       "      <th>RAD</th>\n",
       "      <th>TAX</th>\n",
       "      <th>PTRATIO</th>\n",
       "      <th>B</th>\n",
       "      <th>LSTAT</th>\n",
       "      <th>PRICE</th>\n",
       "    </tr>\n",
       "  </thead>\n",
       "  <tbody>\n",
       "  </tbody>\n",
       "</table>\n",
       "</div>"
      ],
      "text/plain": [
       "Empty DataFrame\n",
       "Columns: [CRIM, ZN, INDUS, CHAS, NOX, RM, AGE, DIS, RAD, TAX, PTRATIO, B, LSTAT, PRICE]\n",
       "Index: []"
      ]
     },
     "execution_count": 46,
     "metadata": {},
     "output_type": "execute_result"
    }
   ],
   "source": [
    "df.loc[(df['CHAS']<lower_tail) |\n",
    "       (df['CHAS']>upper_tail)]"
   ]
  },
  {
   "cell_type": "code",
   "execution_count": 47,
   "id": "4db4c5e0",
   "metadata": {},
   "outputs": [
    {
     "data": {
      "text/plain": [
       "506"
      ]
     },
     "execution_count": 47,
     "metadata": {},
     "output_type": "execute_result"
    }
   ],
   "source": [
    "without_outliers = df['CHAS'].loc[(df['CHAS']>=lower_tail) &\n",
    "                 (df['CHAS']<=upper_tail)]\n",
    "without_outliers.value_counts().sum()"
   ]
  },
  {
   "cell_type": "markdown",
   "id": "be2b050f",
   "metadata": {},
   "source": [
    "# 5. NOX"
   ]
  },
  {
   "cell_type": "code",
   "execution_count": 49,
   "id": "cb2c4354",
   "metadata": {},
   "outputs": [
    {
     "data": {
      "text/plain": [
       "count    506.000000\n",
       "mean       0.426065\n",
       "std        0.233109\n",
       "min        0.023216\n",
       "25%        0.193625\n",
       "50%        0.491000\n",
       "75%        0.583000\n",
       "max        0.871000\n",
       "Name: NOX, dtype: float64"
      ]
     },
     "execution_count": 49,
     "metadata": {},
     "output_type": "execute_result"
    }
   ],
   "source": [
    "df['NOX'].describe()"
   ]
  },
  {
   "cell_type": "code",
   "execution_count": 51,
   "id": "c173b176",
   "metadata": {},
   "outputs": [
    {
     "name": "stdout",
     "output_type": "stream",
     "text": [
      "q1 : 0.193625\n",
      "q2 : 0.491\n",
      "q3 : 0.583\n",
      "iqr : 0.38937499999999997\n",
      "upper_tail : 1.3617499999999998\n",
      "lower_tail : -0.5851249999999999\n"
     ]
    }
   ],
   "source": [
    "q1= df['NOX'].quantile(0.25)\n",
    "q2= df['NOX'].quantile(0.50)\n",
    "q3= df['NOX'].quantile(0.75)\n",
    "\n",
    "iqr = q3 -q1\n",
    "\n",
    "upper_tail= q3 + 2*iqr\n",
    "lower_tail= q1 - 2*iqr\n",
    "\n",
    "print('q1 :',q1)\n",
    "print('q2 :',q2)\n",
    "print('q3 :',q3)\n",
    "print('iqr :',iqr)\n",
    "print('upper_tail :', upper_tail)\n",
    "print('lower_tail :', lower_tail)"
   ]
  },
  {
   "cell_type": "code",
   "execution_count": 52,
   "id": "3c11af8a",
   "metadata": {},
   "outputs": [
    {
     "name": "stderr",
     "output_type": "stream",
     "text": [
      "C:\\Users\\sai\\anaconda3\\lib\\site-packages\\seaborn\\_decorators.py:36: FutureWarning: Pass the following variable as a keyword arg: x. From version 0.12, the only valid positional argument will be `data`, and passing other arguments without an explicit keyword will result in an error or misinterpretation.\n",
      "  warnings.warn(\n"
     ]
    },
    {
     "data": {
      "text/plain": [
       "<AxesSubplot:xlabel='NOX'>"
      ]
     },
     "execution_count": 52,
     "metadata": {},
     "output_type": "execute_result"
    },
    {
     "data": {
      "image/png": "[encoded data removed]",
      "text/plain": [
       "<Figure size 432x288 with 1 Axes>"
      ]
     },
     "metadata": {
      "needs_background": "light"
     },
     "output_type": "display_data"
    }
   ],
   "source": [
    "sns.boxenplot(df['NOX'])"
   ]
  },
  {
   "cell_type": "code",
   "execution_count": 55,
   "id": "f95a3f6c",
   "metadata": {},
   "outputs": [
    {
     "data": {
      "text/html": [
       "<div>\n",
       "<style scoped>\n",
       "    .dataframe tbody tr th:only-of-type {\n",
       "        vertical-align: middle;\n",
       "    }\n",
       "\n",
       "    .dataframe tbody tr th {\n",
       "        vertical-align: top;\n",
       "    }\n",
       "\n",
       "    .dataframe thead th {\n",
       "        text-align: right;\n",
       "    }\n",
       "</style>\n",
       "<table border=\"1\" class=\"dataframe\">\n",
       "  <thead>\n",
       "    <tr style=\"text-align: right;\">\n",
       "      <th></th>\n",
       "      <th>CRIM</th>\n",
       "      <th>ZN</th>\n",
       "      <th>INDUS</th>\n",
       "      <th>CHAS</th>\n",
       "      <th>NOX</th>\n",
       "      <th>RM</th>\n",
       "      <th>AGE</th>\n",
       "      <th>DIS</th>\n",
       "      <th>RAD</th>\n",
       "      <th>TAX</th>\n",
       "      <th>PTRATIO</th>\n",
       "      <th>B</th>\n",
       "      <th>LSTAT</th>\n",
       "      <th>PRICE</th>\n",
       "    </tr>\n",
       "  </thead>\n",
       "  <tbody>\n",
       "  </tbody>\n",
       "</table>\n",
       "</div>"
      ],
      "text/plain": [
       "Empty DataFrame\n",
       "Columns: [CRIM, ZN, INDUS, CHAS, NOX, RM, AGE, DIS, RAD, TAX, PTRATIO, B, LSTAT, PRICE]\n",
       "Index: []"
      ]
     },
     "execution_count": 55,
     "metadata": {},
     "output_type": "execute_result"
    }
   ],
   "source": [
    "outliers = df.loc[(df['NOX']>= upper_tail) |\n",
    "                 (df['NOX'] <= lower_tail)]\n",
    "outliers"
   ]
  },
  {
   "cell_type": "code",
   "execution_count": 59,
   "id": "f88e9636",
   "metadata": {},
   "outputs": [
    {
     "data": {
      "text/plain": [
       "506"
      ]
     },
     "execution_count": 59,
     "metadata": {},
     "output_type": "execute_result"
    }
   ],
   "source": [
    "without_outliers = df.loc[(df['NOX']> lower_tail) &\n",
    "                         (df['NOX']<upper_tail)]\n",
    "without_outlier['NOX'].value_counts().sum()"
   ]
  },
  {
   "cell_type": "code",
   "execution_count": null,
   "id": "cd9ea924",
   "metadata": {},
   "outputs": [],
   "source": [
    "There is No outliers in NOX column"
   ]
  },
  {
   "cell_type": "markdown",
   "id": "0fe02366",
   "metadata": {},
   "source": [
    "# 6. RM"
   ]
  },
  {
   "cell_type": "code",
   "execution_count": 58,
   "id": "02ecae93",
   "metadata": {},
   "outputs": [
    {
     "data": {
      "text/plain": [
       "count    506.000000\n",
       "mean       4.572116\n",
       "std        2.817610\n",
       "min        0.023216\n",
       "25%        0.193625\n",
       "50%        5.967000\n",
       "75%        6.396750\n",
       "max        8.725000\n",
       "Name: RM, dtype: float64"
      ]
     },
     "execution_count": 58,
     "metadata": {},
     "output_type": "execute_result"
    }
   ],
   "source": [
    "df['RM'].describe()"
   ]
  },
  {
   "cell_type": "code",
   "execution_count": 60,
   "id": "7cc158cb",
   "metadata": {},
   "outputs": [
    {
     "name": "stdout",
     "output_type": "stream",
     "text": [
      "q1 : 0.193625\n",
      "q2 : 5.9670000000000005\n",
      "q3 : 6.39675\n",
      "iqr : 6.203125\n",
      "upper_tail : 18.803\n",
      "lower_tail : -12.212625\n"
     ]
    }
   ],
   "source": [
    "q1 = df['RM'].quantile(0.25)\n",
    "q2 = df['RM'].quantile(0.50)\n",
    "q3 = df['RM'].quantile(0.75)\n",
    "\n",
    "iqr = q3-q1\n",
    "\n",
    "upper_tail = q3 + 2*iqr\n",
    "lower_tail = q1 - 2*iqr\n",
    "\n",
    "print('q1 :',q1)\n",
    "print('q2 :',q2)\n",
    "print('q3 :',q3)\n",
    "print('iqr :',iqr)\n",
    "print('upper_tail :', upper_tail)\n",
    "print('lower_tail :', lower_tail)"
   ]
  },
  {
   "cell_type": "code",
   "execution_count": 62,
   "id": "de0aa84e",
   "metadata": {},
   "outputs": [
    {
     "name": "stderr",
     "output_type": "stream",
     "text": [
      "C:\\Users\\sai\\anaconda3\\lib\\site-packages\\seaborn\\_decorators.py:36: FutureWarning: Pass the following variable as a keyword arg: x. From version 0.12, the only valid positional argument will be `data`, and passing other arguments without an explicit keyword will result in an error or misinterpretation.\n",
      "  warnings.warn(\n"
     ]
    },
    {
     "data": {
      "text/plain": [
       "<AxesSubplot:xlabel='RM'>"
      ]
     },
     "execution_count": 62,
     "metadata": {},
     "output_type": "execute_result"
    },
    {
     "data": {
      "image/png": "[encoded data removed]",
      "text/plain": [
       "<Figure size 1440x360 with 1 Axes>"
      ]
     },
     "metadata": {
      "needs_background": "light"
     },
     "output_type": "display_data"
    }
   ],
   "source": [
    "plt.figure(figsize=(20,5))\n",
    "sns.boxplot(df['RM'])"
   ]
  },
  {
   "cell_type": "code",
   "execution_count": 63,
   "id": "cd9b2ebb",
   "metadata": {},
   "outputs": [
    {
     "data": {
      "text/plain": [
       "0"
      ]
     },
     "execution_count": 63,
     "metadata": {},
     "output_type": "execute_result"
    }
   ],
   "source": [
    "outliers = df.loc[(df['RM']< lower_tail) |\n",
    "                 df['RM']> upper_tail]\n",
    "outliers['RM'].value_counts().sum()"
   ]
  },
  {
   "cell_type": "code",
   "execution_count": 65,
   "id": "3c10e5c4",
   "metadata": {},
   "outputs": [
    {
     "data": {
      "text/plain": [
       "506"
      ]
     },
     "execution_count": 65,
     "metadata": {},
     "output_type": "execute_result"
    }
   ],
   "source": [
    "without_outlier = df.loc[(df['RM'] > lower_tail) &\n",
    "                        (df['RM'] < upper_tail)]\n",
    "without_outlier.value_counts().sum()"
   ]
  },
  {
   "cell_type": "code",
   "execution_count": null,
   "id": "4e5fc1e0",
   "metadata": {},
   "outputs": [],
   "source": [
    "There is No outliers detect in RM column"
   ]
  },
  {
   "cell_type": "markdown",
   "id": "df8f2d90",
   "metadata": {},
   "source": [
    "# 7. AGE"
   ]
  },
  {
   "cell_type": "code",
   "execution_count": 67,
   "id": "417e586a",
   "metadata": {},
   "outputs": [
    {
     "data": {
      "text/plain": [
       "count    506.000000\n",
       "mean      50.823414\n",
       "std       38.506486\n",
       "min        0.023216\n",
       "25%        0.193625\n",
       "50%       58.600000\n",
       "75%       88.150000\n",
       "max      100.000000\n",
       "Name: AGE, dtype: float64"
      ]
     },
     "execution_count": 67,
     "metadata": {},
     "output_type": "execute_result"
    }
   ],
   "source": [
    "df['AGE'].describe()"
   ]
  },
  {
   "cell_type": "code",
   "execution_count": 69,
   "id": "acb1436a",
   "metadata": {},
   "outputs": [
    {
     "name": "stderr",
     "output_type": "stream",
     "text": [
      "C:\\Users\\sai\\anaconda3\\lib\\site-packages\\seaborn\\_decorators.py:36: FutureWarning: Pass the following variable as a keyword arg: x. From version 0.12, the only valid positional argument will be `data`, and passing other arguments without an explicit keyword will result in an error or misinterpretation.\n",
      "  warnings.warn(\n"
     ]
    },
    {
     "data": {
      "text/plain": [
       "<AxesSubplot:xlabel='AGE'>"
      ]
     },
     "execution_count": 69,
     "metadata": {},
     "output_type": "execute_result"
    },
    {
     "data": {
      "image/png": "[encoded data removed]",
      "text/plain": [
       "<Figure size 1440x360 with 1 Axes>"
      ]
     },
     "metadata": {
      "needs_background": "light"
     },
     "output_type": "display_data"
    }
   ],
   "source": [
    "plt.figure(figsize= (20,5))\n",
    "sns.boxplot(df['AGE'])"
   ]
  },
  {
   "cell_type": "raw",
   "id": "4489616a",
   "metadata": {},
   "source": [
    "as per above Boxplot visualisation there is no Outliers in AGE column. We also check by IQR as per below,"
   ]
  },
  {
   "cell_type": "code",
   "execution_count": 71,
   "id": "93e6e2c0",
   "metadata": {},
   "outputs": [
    {
     "name": "stdout",
     "output_type": "stream",
     "text": [
      "q1 : 0.193625\n",
      "q2 : 58.6\n",
      "q3 : 88.15\n",
      "iqr : 87.95637500000001\n",
      "upper_tail : 264.06275000000005\n",
      "lower_tail : -175.71912500000002\n"
     ]
    }
   ],
   "source": [
    "q1= df['AGE'].quantile(0.25)\n",
    "q2= df['AGE'].quantile(0.50)\n",
    "q3= df['AGE'].quantile(0.75)\n",
    "\n",
    "iqr= q3-q1\n",
    "\n",
    "upper_tail= q3 + 2*iqr\n",
    "lower_tail= q1 - 2*iqr\n",
    "\n",
    "print('q1 :',q1)\n",
    "print('q2 :',q2)\n",
    "print('q3 :',q3)\n",
    "print('iqr :',iqr)\n",
    "print('upper_tail :', upper_tail)\n",
    "print('lower_tail :', lower_tail)"
   ]
  },
  {
   "cell_type": "code",
   "execution_count": 76,
   "id": "3831b262",
   "metadata": {},
   "outputs": [
    {
     "data": {
      "text/plain": [
       "0"
      ]
     },
     "execution_count": 76,
     "metadata": {},
     "output_type": "execute_result"
    }
   ],
   "source": [
    "outliers = df.loc[(df['AGE']<lower_tail) |\n",
    "                 (df['AGE'] > upper_tail)]\n",
    "outliers['AGE'].value_counts().sum()"
   ]
  },
  {
   "cell_type": "code",
   "execution_count": 80,
   "id": "6948af27",
   "metadata": {},
   "outputs": [
    {
     "data": {
      "text/plain": [
       "506"
      ]
     },
     "execution_count": 80,
     "metadata": {},
     "output_type": "execute_result"
    }
   ],
   "source": [
    "without_outlier = df.loc[(df['AGE'] > lower_tail) &\n",
    "                        (df['AGE'] < upper_tail)]\n",
    "without_outlier['AGE'].value_counts().sum()"
   ]
  },
  {
   "cell_type": "markdown",
   "id": "3563ca97",
   "metadata": {},
   "source": [
    "# 8. DIS"
   ]
  },
  {
   "cell_type": "code",
   "execution_count": 81,
   "id": "25b9d373",
   "metadata": {},
   "outputs": [
    {
     "data": {
      "text/plain": [
       "count    506.000000\n",
       "mean       2.676684\n",
       "std        2.189463\n",
       "min        0.023216\n",
       "25%        0.193625\n",
       "50%        2.421800\n",
       "75%        4.019575\n",
       "max        9.222900\n",
       "Name: DIS, dtype: float64"
      ]
     },
     "execution_count": 81,
     "metadata": {},
     "output_type": "execute_result"
    }
   ],
   "source": [
    "df['DIS'].describe()"
   ]
  },
  {
   "cell_type": "code",
   "execution_count": 82,
   "id": "ac73ac77",
   "metadata": {},
   "outputs": [
    {
     "name": "stderr",
     "output_type": "stream",
     "text": [
      "C:\\Users\\sai\\anaconda3\\lib\\site-packages\\seaborn\\_decorators.py:36: FutureWarning: Pass the following variable as a keyword arg: x. From version 0.12, the only valid positional argument will be `data`, and passing other arguments without an explicit keyword will result in an error or misinterpretation.\n",
      "  warnings.warn(\n"
     ]
    },
    {
     "data": {
      "text/plain": [
       "<AxesSubplot:xlabel='DIS'>"
      ]
     },
     "execution_count": 82,
     "metadata": {},
     "output_type": "execute_result"
    },
    {
     "data": {
      "image/png": "[encoded data removed]",
      "text/plain": [
       "<Figure size 432x288 with 1 Axes>"
      ]
     },
     "metadata": {
      "needs_background": "light"
     },
     "output_type": "display_data"
    }
   ],
   "source": [
    "sns.boxplot(df['DIS'])"
   ]
  },
  {
   "cell_type": "markdown",
   "id": "01881aee",
   "metadata": {},
   "source": [
    "# 9. RAD     "
   ]
  },
  {
   "cell_type": "code",
   "execution_count": 83,
   "id": "eab9fe81",
   "metadata": {},
   "outputs": [
    {
     "data": {
      "text/plain": [
       "count    506.000000\n",
       "mean       6.179343\n",
       "std        7.728010\n",
       "min        0.023216\n",
       "25%        0.193625\n",
       "50%        4.000000\n",
       "75%        6.000000\n",
       "max       24.000000\n",
       "Name: RAD, dtype: float64"
      ]
     },
     "execution_count": 83,
     "metadata": {},
     "output_type": "execute_result"
    }
   ],
   "source": [
    "df['RAD'].describe()"
   ]
  },
  {
   "cell_type": "code",
   "execution_count": 87,
   "id": "296d2778",
   "metadata": {},
   "outputs": [
    {
     "name": "stderr",
     "output_type": "stream",
     "text": [
      "C:\\Users\\sai\\anaconda3\\lib\\site-packages\\seaborn\\_decorators.py:36: FutureWarning: Pass the following variable as a keyword arg: x. From version 0.12, the only valid positional argument will be `data`, and passing other arguments without an explicit keyword will result in an error or misinterpretation.\n",
      "  warnings.warn(\n"
     ]
    },
    {
     "data": {
      "text/plain": [
       "<AxesSubplot:xlabel='RAD'>"
      ]
     },
     "execution_count": 87,
     "metadata": {},
     "output_type": "execute_result"
    },
    {
     "data": {
      "image/png": "[encoded data removed]",
      "text/plain": [
       "<Figure size 1440x360 with 1 Axes>"
      ]
     },
     "metadata": {
      "needs_background": "light"
     },
     "output_type": "display_data"
    }
   ],
   "source": [
    "plt.figure(figsize=(20,5))\n",
    "sns.boxplot(df[\"RAD\"])"
   ]
  },
  {
   "cell_type": "code",
   "execution_count": 88,
   "id": "047b709b",
   "metadata": {},
   "outputs": [
    {
     "name": "stdout",
     "output_type": "stream",
     "text": [
      "q1 : 0.193625\n",
      "q2 : 4.0\n",
      "q3 : 6.0\n",
      "iqr : 5.806375\n",
      "upper_tail : 17.61275\n",
      "lower_tail : -11.419125\n"
     ]
    }
   ],
   "source": [
    "q1= df['RAD'].quantile(0.25)\n",
    "q2 =df['RAD'].quantile(0.50)\n",
    "q3 = df['RAD'].quantile(0.75)\n",
    "\n",
    "iqr = q3 - q1\n",
    "\n",
    "upper_tail= q3 + 2*iqr\n",
    "lower_tail= q1 - 2*iqr\n",
    "\n",
    "print('q1 :',q1)\n",
    "print('q2 :',q2)\n",
    "print('q3 :',q3)\n",
    "print('iqr :',iqr)\n",
    "print('upper_tail :', upper_tail)\n",
    "print('lower_tail :', lower_tail)"
   ]
  },
  {
   "cell_type": "code",
   "execution_count": 90,
   "id": "6a60afa3",
   "metadata": {},
   "outputs": [
    {
     "data": {
      "text/plain": [
       "359    24.0\n",
       "360    24.0\n",
       "361    24.0\n",
       "362    24.0\n",
       "365    24.0\n",
       "       ... \n",
       "483    24.0\n",
       "484    24.0\n",
       "485    24.0\n",
       "486    24.0\n",
       "487    24.0\n",
       "Name: RAD, Length: 74, dtype: float64"
      ]
     },
     "execution_count": 90,
     "metadata": {},
     "output_type": "execute_result"
    }
   ],
   "source": [
    "outliers = df.loc[(df['RAD']<lower_tail) |\n",
    "                 (df['RAD']>upper_tail)]\n",
    "outliers['RAD']"
   ]
  },
  {
   "cell_type": "code",
   "execution_count": 91,
   "id": "35aef1f9",
   "metadata": {},
   "outputs": [
    {
     "data": {
      "text/plain": [
       "74"
      ]
     },
     "execution_count": 91,
     "metadata": {},
     "output_type": "execute_result"
    }
   ],
   "source": [
    "outliers['RAD'].value_counts().sum()"
   ]
  },
  {
   "cell_type": "raw",
   "id": "5c5b3db3",
   "metadata": {},
   "source": [
    "74 Outliers detect in 'RAD'"
   ]
  },
  {
   "cell_type": "code",
   "execution_count": 92,
   "id": "f71f2595",
   "metadata": {},
   "outputs": [
    {
     "data": {
      "text/plain": [
       "0      1.0\n",
       "1      2.0\n",
       "2      2.0\n",
       "3      3.0\n",
       "4      3.0\n",
       "      ... \n",
       "501    1.0\n",
       "502    1.0\n",
       "503    1.0\n",
       "504    1.0\n",
       "505    1.0\n",
       "Name: RAD, Length: 432, dtype: float64"
      ]
     },
     "execution_count": 92,
     "metadata": {},
     "output_type": "execute_result"
    }
   ],
   "source": [
    "without_outlier = df.loc[(df['RAD'] > lower_tail) &\n",
    "                        (df['RAD'] < upper_tail)]\n",
    "without_outlier['RAD']"
   ]
  },
  {
   "cell_type": "code",
   "execution_count": 94,
   "id": "8ffb6726",
   "metadata": {},
   "outputs": [
    {
     "data": {
      "text/plain": [
       "432"
      ]
     },
     "execution_count": 94,
     "metadata": {},
     "output_type": "execute_result"
    }
   ],
   "source": [
    "without_outlier['RAD'].value_counts().sum()"
   ]
  },
  {
   "cell_type": "code",
   "execution_count": 95,
   "id": "a50cefe6",
   "metadata": {},
   "outputs": [
    {
     "data": {
      "text/plain": [
       "3.126730351829654"
      ]
     },
     "execution_count": 95,
     "metadata": {},
     "output_type": "execute_result"
    }
   ],
   "source": [
    "mean = without_outlier['RAD'].mean()\n",
    "mean"
   ]
  },
  {
   "cell_type": "code",
   "execution_count": 96,
   "id": "c9c4e229",
   "metadata": {},
   "outputs": [
    {
     "data": {
      "text/plain": [
       "4.0"
      ]
     },
     "execution_count": 96,
     "metadata": {},
     "output_type": "execute_result"
    }
   ],
   "source": [
    "median = without_outlier['RAD'].median()\n",
    "median"
   ]
  },
  {
   "cell_type": "code",
   "execution_count": 97,
   "id": "32bce04a",
   "metadata": {},
   "outputs": [],
   "source": [
    "df.loc[(df['RAD']<lower_tail) |\n",
    "                 (df['RAD']>upper_tail)] = median"
   ]
  },
  {
   "cell_type": "code",
   "execution_count": 101,
   "id": "2800099c",
   "metadata": {},
   "outputs": [
    {
     "data": {
      "text/plain": [
       "0"
      ]
     },
     "execution_count": 101,
     "metadata": {},
     "output_type": "execute_result"
    }
   ],
   "source": [
    "df['RAD'].loc[(df['RAD']<lower_tail) |\n",
    "                 (df['RAD']>upper_tail)].value_counts().sum()"
   ]
  },
  {
   "cell_type": "code",
   "execution_count": 103,
   "id": "4221e66f",
   "metadata": {},
   "outputs": [
    {
     "data": {
      "text/plain": [
       "506"
      ]
     },
     "execution_count": 103,
     "metadata": {},
     "output_type": "execute_result"
    }
   ],
   "source": [
    "without_outlier = df.loc[(df['RAD'] > lower_tail) &\n",
    "                        (df['RAD'] < upper_tail)]\n",
    "without_outlier['RAD'].value_counts().sum()"
   ]
  },
  {
   "cell_type": "markdown",
   "id": "c7587ce5",
   "metadata": {},
   "source": [
    "# 10. TAX"
   ]
  },
  {
   "cell_type": "code",
   "execution_count": 104,
   "id": "82b78df6",
   "metadata": {},
   "outputs": [
    {
     "data": {
      "text/plain": [
       "count    506.000000\n",
       "mean     184.997525\n",
       "std      169.677074\n",
       "min        0.023216\n",
       "25%        0.193625\n",
       "50%      233.000000\n",
       "75%      307.000000\n",
       "max      711.000000\n",
       "Name: TAX, dtype: float64"
      ]
     },
     "execution_count": 104,
     "metadata": {},
     "output_type": "execute_result"
    }
   ],
   "source": [
    "df['TAX'].describe()"
   ]
  },
  {
   "cell_type": "code",
   "execution_count": 109,
   "id": "f5214ff2",
   "metadata": {},
   "outputs": [
    {
     "name": "stderr",
     "output_type": "stream",
     "text": [
      "C:\\Users\\sai\\anaconda3\\lib\\site-packages\\seaborn\\_decorators.py:36: FutureWarning: Pass the following variable as a keyword arg: x. From version 0.12, the only valid positional argument will be `data`, and passing other arguments without an explicit keyword will result in an error or misinterpretation.\n",
      "  warnings.warn(\n"
     ]
    },
    {
     "data": {
      "text/plain": [
       "<AxesSubplot:xlabel='TAX'>"
      ]
     },
     "execution_count": 109,
     "metadata": {},
     "output_type": "execute_result"
    },
    {
     "data": {
      "image/png": "[encoded data removed]",
      "text/plain": [
       "<Figure size 2160x360 with 1 Axes>"
      ]
     },
     "metadata": {
      "needs_background": "light"
     },
     "output_type": "display_data"
    }
   ],
   "source": [
    "plt.figure(figsize=(30,5))\n",
    "sns.boxplot(df['TAX'])"
   ]
  },
  {
   "cell_type": "markdown",
   "id": "05cc748e",
   "metadata": {},
   "source": [
    "# 11. PTRATIO"
   ]
  },
  {
   "cell_type": "code",
   "execution_count": 111,
   "id": "efc48220",
   "metadata": {},
   "outputs": [
    {
     "data": {
      "text/plain": [
       "count    506.000000\n",
       "mean      11.126576\n",
       "std        8.512400\n",
       "min        0.023216\n",
       "25%        0.193625\n",
       "50%       15.200000\n",
       "75%       18.700000\n",
       "max       21.200000\n",
       "Name: PTRATIO, dtype: float64"
      ]
     },
     "execution_count": 111,
     "metadata": {},
     "output_type": "execute_result"
    }
   ],
   "source": [
    "df['PTRATIO'].describe()"
   ]
  },
  {
   "cell_type": "code",
   "execution_count": 113,
   "id": "01648c7b",
   "metadata": {},
   "outputs": [
    {
     "name": "stderr",
     "output_type": "stream",
     "text": [
      "C:\\Users\\sai\\anaconda3\\lib\\site-packages\\seaborn\\_decorators.py:36: FutureWarning: Pass the following variable as a keyword arg: x. From version 0.12, the only valid positional argument will be `data`, and passing other arguments without an explicit keyword will result in an error or misinterpretation.\n",
      "  warnings.warn(\n"
     ]
    },
    {
     "data": {
      "text/plain": [
       "<AxesSubplot:xlabel='PTRATIO'>"
      ]
     },
     "execution_count": 113,
     "metadata": {},
     "output_type": "execute_result"
    },
    {
     "data": {
      "image/png": "[encoded data removed]",
      "text/plain": [
       "<Figure size 2160x360 with 1 Axes>"
      ]
     },
     "metadata": {
      "needs_background": "light"
     },
     "output_type": "display_data"
    }
   ],
   "source": [
    "plt.figure(figsize=(30,5))\n",
    "sns.boxplot(df['PTRATIO'])"
   ]
  },
  {
   "cell_type": "code",
   "execution_count": null,
   "id": "11d21e51",
   "metadata": {},
   "outputs": [],
   "source": []
  },
  {
   "cell_type": "markdown",
   "id": "e7e998c0",
   "metadata": {},
   "source": [
    "# 12. B"
   ]
  },
  {
   "cell_type": "code",
   "execution_count": 114,
   "id": "db764319",
   "metadata": {},
   "outputs": [
    {
     "data": {
      "text/plain": [
       "count    506.000000\n",
       "mean     220.714165\n",
       "std      189.640478\n",
       "min        0.023216\n",
       "25%        0.193625\n",
       "50%      372.620000\n",
       "75%      393.725000\n",
       "max      396.900000\n",
       "Name: B, dtype: float64"
      ]
     },
     "execution_count": 114,
     "metadata": {},
     "output_type": "execute_result"
    }
   ],
   "source": [
    "df['B'].describe()"
   ]
  },
  {
   "cell_type": "code",
   "execution_count": 116,
   "id": "4b31837a",
   "metadata": {},
   "outputs": [
    {
     "name": "stderr",
     "output_type": "stream",
     "text": [
      "C:\\Users\\sai\\anaconda3\\lib\\site-packages\\seaborn\\_decorators.py:36: FutureWarning: Pass the following variable as a keyword arg: x. From version 0.12, the only valid positional argument will be `data`, and passing other arguments without an explicit keyword will result in an error or misinterpretation.\n",
      "  warnings.warn(\n"
     ]
    },
    {
     "data": {
      "text/plain": [
       "<AxesSubplot:xlabel='B'>"
      ]
     },
     "execution_count": 116,
     "metadata": {},
     "output_type": "execute_result"
    },
    {
     "data": {
      "image/png": "[encoded data removed]",
      "text/plain": [
       "<Figure size 2160x360 with 1 Axes>"
      ]
     },
     "metadata": {
      "needs_background": "light"
     },
     "output_type": "display_data"
    }
   ],
   "source": [
    "plt.figure(figsize=(30,5))\n",
    "sns.boxplot(df['B'])"
   ]
  },
  {
   "cell_type": "code",
   "execution_count": null,
   "id": "f71d4040",
   "metadata": {},
   "outputs": [],
   "source": []
  },
  {
   "cell_type": "markdown",
   "id": "428342a1",
   "metadata": {},
   "source": [
    "# 13. LSTAT"
   ]
  },
  {
   "cell_type": "code",
   "execution_count": 117,
   "id": "e99716ca",
   "metadata": {},
   "outputs": [
    {
     "data": {
      "text/plain": [
       "count    506.000000\n",
       "mean       7.162861\n",
       "std        6.738604\n",
       "min        0.023216\n",
       "25%        0.193625\n",
       "50%        5.510000\n",
       "75%       11.195000\n",
       "max       34.410000\n",
       "Name: LSTAT, dtype: float64"
      ]
     },
     "execution_count": 117,
     "metadata": {},
     "output_type": "execute_result"
    }
   ],
   "source": [
    "df['LSTAT'].describe()"
   ]
  },
  {
   "cell_type": "code",
   "execution_count": 147,
   "id": "112873d9",
   "metadata": {},
   "outputs": [
    {
     "data": {
      "text/plain": [
       "<AxesSubplot:xlabel='LSTAT', ylabel='Density'>"
      ]
     },
     "execution_count": 147,
     "metadata": {},
     "output_type": "execute_result"
    },
    {
     "data": {
      "image/png": "[encoded data removed]",
      "text/plain": [
       "<Figure size 432x288 with 1 Axes>"
      ]
     },
     "metadata": {
      "needs_background": "light"
     },
     "output_type": "display_data"
    }
   ],
   "source": [
    "sns.kdeplot(df['LSTAT'])"
   ]
  },
  {
   "cell_type": "code",
   "execution_count": 119,
   "id": "d602c9f1",
   "metadata": {},
   "outputs": [
    {
     "name": "stderr",
     "output_type": "stream",
     "text": [
      "C:\\Users\\sai\\anaconda3\\lib\\site-packages\\seaborn\\_decorators.py:36: FutureWarning: Pass the following variable as a keyword arg: x. From version 0.12, the only valid positional argument will be `data`, and passing other arguments without an explicit keyword will result in an error or misinterpretation.\n",
      "  warnings.warn(\n"
     ]
    },
    {
     "data": {
      "text/plain": [
       "<AxesSubplot:xlabel='LSTAT'>"
      ]
     },
     "execution_count": 119,
     "metadata": {},
     "output_type": "execute_result"
    },
    {
     "data": {
      "image/png": "[encoded data removed]",
      "text/plain": [
       "<Figure size 2160x360 with 1 Axes>"
      ]
     },
     "metadata": {
      "needs_background": "light"
     },
     "output_type": "display_data"
    }
   ],
   "source": [
    "plt.figure(figsize=(30,5))\n",
    "sns.boxplot(df['LSTAT'])"
   ]
  },
  {
   "cell_type": "code",
   "execution_count": 139,
   "id": "9efa909c",
   "metadata": {},
   "outputs": [
    {
     "name": "stdout",
     "output_type": "stream",
     "text": [
      "q1 : 0.193625\n",
      "q2 : 5.51\n",
      "q3 : 11.195\n",
      "iqr : 11.001375\n",
      "upper_tail : 27.6970625\n",
      "lower_tail : -16.3084375\n"
     ]
    }
   ],
   "source": [
    "q1 = df['LSTAT'].quantile(0.25)\n",
    "q2 = df['LSTAT'].quantile(0.50)\n",
    "q3 = df['LSTAT'].quantile(0.75)\n",
    "\n",
    "iqr = q3 - q1\n",
    "\n",
    "upper_tail= q3 + 1.5*iqr\n",
    "lower_tail= q1 - 1.5*iqr\n",
    "\n",
    "print('q1 :',q1)\n",
    "print('q2 :',q2)\n",
    "print('q3 :',q3)\n",
    "print('iqr :',iqr)\n",
    "print('upper_tail :', upper_tail)\n",
    "print('lower_tail :', lower_tail)"
   ]
  },
  {
   "cell_type": "code",
   "execution_count": 141,
   "id": "bb97e649",
   "metadata": {},
   "outputs": [
    {
     "data": {
      "text/plain": [
       "8      29.93\n",
       "32     27.71\n",
       "48     30.81\n",
       "141    34.41\n",
       "144    29.29\n",
       "145    27.80\n",
       "147    29.53\n",
       "148    28.32\n",
       "214    29.55\n",
       "490    29.68\n",
       "Name: LSTAT, dtype: float64"
      ]
     },
     "execution_count": 141,
     "metadata": {},
     "output_type": "execute_result"
    }
   ],
   "source": [
    "outliers = df.loc[(df['LSTAT'] > upper_tail)]\n",
    "outliers['LSTAT']"
   ]
  },
  {
   "cell_type": "code",
   "execution_count": 143,
   "id": "bfff70d3",
   "metadata": {},
   "outputs": [
    {
     "data": {
      "text/plain": [
       "10"
      ]
     },
     "execution_count": 143,
     "metadata": {},
     "output_type": "execute_result"
    }
   ],
   "source": [
    "outliers['LSTAT'].value_counts().sum()"
   ]
  },
  {
   "cell_type": "code",
   "execution_count": 149,
   "id": "fb8c8f0b",
   "metadata": {},
   "outputs": [
    {
     "data": {
      "text/plain": [
       "0      4.98\n",
       "1      9.14\n",
       "2      4.03\n",
       "3      2.94\n",
       "4      5.33\n",
       "       ... \n",
       "501    9.67\n",
       "502    9.08\n",
       "503    5.64\n",
       "504    6.48\n",
       "505    7.88\n",
       "Name: LSTAT, Length: 496, dtype: float64"
      ]
     },
     "execution_count": 149,
     "metadata": {},
     "output_type": "execute_result"
    }
   ],
   "source": [
    "without_outliers = df.loc[(df['LSTAT'] > lower_tail) &\n",
    "                         (df['LSTAT'] < upper_tail)]\n",
    "without_outliers['LSTAT']"
   ]
  },
  {
   "cell_type": "code",
   "execution_count": 150,
   "id": "cc701395",
   "metadata": {},
   "outputs": [
    {
     "data": {
      "text/plain": [
       "6.7084224032064625"
      ]
     },
     "execution_count": 150,
     "metadata": {},
     "output_type": "execute_result"
    }
   ],
   "source": [
    "mean= without_outliers['LSTAT'].mean()\n",
    "mean"
   ]
  },
  {
   "cell_type": "code",
   "execution_count": 151,
   "id": "aec1a079",
   "metadata": {},
   "outputs": [],
   "source": [
    " df.loc[(df['LSTAT'] > upper_tail)] = mean"
   ]
  },
  {
   "cell_type": "code",
   "execution_count": 154,
   "id": "477d6fdd",
   "metadata": {},
   "outputs": [
    {
     "data": {
      "text/plain": [
       "0"
      ]
     },
     "execution_count": 154,
     "metadata": {},
     "output_type": "execute_result"
    }
   ],
   "source": [
    " df['LSTAT'].loc[(df['LSTAT'] > upper_tail)].value_counts().sum()"
   ]
  },
  {
   "cell_type": "raw",
   "id": "b3da1b59",
   "metadata": {},
   "source": [
    "Suppose we procees for Transformation for LSTAT,"
   ]
  },
  {
   "cell_type": "markdown",
   "id": "ca73e097",
   "metadata": {},
   "source": [
    "### 1. Log Transformation"
   ]
  },
  {
   "cell_type": "code",
   "execution_count": 121,
   "id": "9b9a5e86",
   "metadata": {},
   "outputs": [
    {
     "name": "stderr",
     "output_type": "stream",
     "text": [
      "C:\\Users\\sai\\anaconda3\\lib\\site-packages\\seaborn\\_decorators.py:36: FutureWarning: Pass the following variable as a keyword arg: x. From version 0.12, the only valid positional argument will be `data`, and passing other arguments without an explicit keyword will result in an error or misinterpretation.\n",
      "  warnings.warn(\n"
     ]
    },
    {
     "data": {
      "text/plain": [
       "<AxesSubplot:xlabel='LSTAT'>"
      ]
     },
     "execution_count": 121,
     "metadata": {},
     "output_type": "execute_result"
    },
    {
     "data": {
      "image/png": "[encoded data removed]",
      "text/plain": [
       "<Figure size 2160x360 with 1 Axes>"
      ]
     },
     "metadata": {
      "needs_background": "light"
     },
     "output_type": "display_data"
    }
   ],
   "source": [
    "plt.figure(figsize=(30,5))\n",
    "sns.boxplot(np.log(df['LSTAT']))"
   ]
  },
  {
   "cell_type": "code",
   "execution_count": 123,
   "id": "f6cd4243",
   "metadata": {},
   "outputs": [
    {
     "data": {
      "text/plain": [
       "0      1.605430\n",
       "1      2.212660\n",
       "2      1.393766\n",
       "3      1.078410\n",
       "4      1.673351\n",
       "         ...   \n",
       "501    2.269028\n",
       "502    2.206074\n",
       "503    1.729884\n",
       "504    1.868721\n",
       "505    2.064328\n",
       "Name: LSTAT, Length: 506, dtype: float64"
      ]
     },
     "execution_count": 123,
     "metadata": {},
     "output_type": "execute_result"
    }
   ],
   "source": [
    "lg = np.log(df['LSTAT'])\n",
    "lg"
   ]
  },
  {
   "cell_type": "markdown",
   "id": "5455a0c6",
   "metadata": {},
   "source": [
    "### 2. Cube Root Transformation"
   ]
  },
  {
   "cell_type": "code",
   "execution_count": 124,
   "id": "0c5a0372",
   "metadata": {},
   "outputs": [
    {
     "name": "stderr",
     "output_type": "stream",
     "text": [
      "C:\\Users\\sai\\anaconda3\\lib\\site-packages\\seaborn\\_decorators.py:36: FutureWarning: Pass the following variable as a keyword arg: x. From version 0.12, the only valid positional argument will be `data`, and passing other arguments without an explicit keyword will result in an error or misinterpretation.\n",
      "  warnings.warn(\n"
     ]
    },
    {
     "data": {
      "text/plain": [
       "<AxesSubplot:xlabel='LSTAT'>"
      ]
     },
     "execution_count": 124,
     "metadata": {},
     "output_type": "execute_result"
    },
    {
     "data": {
      "image/png": "[encoded data removed]",
      "text/plain": [
       "<Figure size 2160x360 with 1 Axes>"
      ]
     },
     "metadata": {
      "needs_background": "light"
     },
     "output_type": "display_data"
    }
   ],
   "source": [
    "plt.figure(figsize=(30,5))\n",
    "sns.boxplot(np.cbrt(df['LSTAT']))"
   ]
  },
  {
   "cell_type": "code",
   "execution_count": 126,
   "id": "fbce55cb",
   "metadata": {},
   "outputs": [
    {
     "data": {
      "text/plain": [
       "0      1.707693\n",
       "1      2.090814\n",
       "2      1.591360\n",
       "3      1.432570\n",
       "4      1.746797\n",
       "         ...   \n",
       "501    2.130470\n",
       "502    2.086229\n",
       "503    1.780026\n",
       "504    1.864340\n",
       "505    1.989950\n",
       "Name: LSTAT, Length: 506, dtype: float64"
      ]
     },
     "execution_count": 126,
     "metadata": {},
     "output_type": "execute_result"
    }
   ],
   "source": [
    "cb = np.cbrt(df['LSTAT'])\n",
    "cb"
   ]
  },
  {
   "cell_type": "markdown",
   "id": "b4249d7b",
   "metadata": {},
   "source": [
    "### 3. Square Root Trans."
   ]
  },
  {
   "cell_type": "code",
   "execution_count": 130,
   "id": "eff6f054",
   "metadata": {},
   "outputs": [
    {
     "name": "stderr",
     "output_type": "stream",
     "text": [
      "C:\\Users\\sai\\anaconda3\\lib\\site-packages\\seaborn\\_decorators.py:36: FutureWarning: Pass the following variable as a keyword arg: x. From version 0.12, the only valid positional argument will be `data`, and passing other arguments without an explicit keyword will result in an error or misinterpretation.\n",
      "  warnings.warn(\n"
     ]
    },
    {
     "data": {
      "text/plain": [
       "<AxesSubplot:xlabel='LSTAT'>"
      ]
     },
     "execution_count": 130,
     "metadata": {},
     "output_type": "execute_result"
    },
    {
     "data": {
      "image/png": "[encoded data removed]",
      "text/plain": [
       "<Figure size 1800x360 with 1 Axes>"
      ]
     },
     "metadata": {
      "needs_background": "light"
     },
     "output_type": "display_data"
    }
   ],
   "source": [
    "plt.figure(figsize=(25,5))\n",
    "sns.boxplot(np.sqrt(df['LSTAT']))"
   ]
  },
  {
   "cell_type": "markdown",
   "id": "6a747753",
   "metadata": {},
   "source": [
    "### 4. Reciprocal Transformation"
   ]
  },
  {
   "cell_type": "code",
   "execution_count": 138,
   "id": "a0850b64",
   "metadata": {},
   "outputs": [
    {
     "name": "stderr",
     "output_type": "stream",
     "text": [
      "C:\\Users\\sai\\anaconda3\\lib\\site-packages\\seaborn\\_decorators.py:36: FutureWarning: Pass the following variable as a keyword arg: x. From version 0.12, the only valid positional argument will be `data`, and passing other arguments without an explicit keyword will result in an error or misinterpretation.\n",
      "  warnings.warn(\n"
     ]
    },
    {
     "data": {
      "text/plain": [
       "<AxesSubplot:xlabel='LSTAT'>"
      ]
     },
     "execution_count": 138,
     "metadata": {},
     "output_type": "execute_result"
    },
    {
     "data": {
      "image/png": "[encoded data removed]",
      "text/plain": [
       "<Figure size 2160x360 with 1 Axes>"
      ]
     },
     "metadata": {
      "needs_background": "light"
     },
     "output_type": "display_data"
    }
   ],
   "source": [
    "plt.figure(figsize=(30,5))\n",
    "sns.boxplot(1/df['LSTAT'])"
   ]
  },
  {
   "cell_type": "markdown",
   "id": "6ad9c524",
   "metadata": {},
   "source": [
    "### 5. Standardization"
   ]
  },
  {
   "cell_type": "code",
   "execution_count": null,
   "id": "d33a509e",
   "metadata": {},
   "outputs": [],
   "source": []
  },
  {
   "cell_type": "markdown",
   "id": "915a11e8",
   "metadata": {},
   "source": [
    "### . boxcox"
   ]
  },
  {
   "cell_type": "code",
   "execution_count": 137,
   "id": "9535eb14",
   "metadata": {},
   "outputs": [
    {
     "data": {
      "text/plain": [
       "<AxesSubplot:>"
      ]
     },
     "execution_count": 137,
     "metadata": {},
     "output_type": "execute_result"
    },
    {
     "data": {
      "image/png": "[encoded data removed]",
      "text/plain": [
       "<Figure size 2160x360 with 1 Axes>"
      ]
     },
     "metadata": {
      "needs_background": "light"
     },
     "output_type": "display_data"
    }
   ],
   "source": [
    "from scipy.stats import boxcox\n",
    "\n",
    "plt.figure(figsize=(30,5))\n",
    "sns.boxplot(boxcox(df['LSTAT'])[0])"
   ]
  },
  {
   "cell_type": "code",
   "execution_count": null,
   "id": "0cbe90b0",
   "metadata": {},
   "outputs": [],
   "source": []
  },
  {
   "cell_type": "code",
   "execution_count": 155,
   "id": "05b5e14c",
   "metadata": {},
   "outputs": [
    {
     "data": {
      "text/html": [
       "<div>\n",
       "<style scoped>\n",
       "    .dataframe tbody tr th:only-of-type {\n",
       "        vertical-align: middle;\n",
       "    }\n",
       "\n",
       "    .dataframe tbody tr th {\n",
       "        vertical-align: top;\n",
       "    }\n",
       "\n",
       "    .dataframe thead th {\n",
       "        text-align: right;\n",
       "    }\n",
       "</style>\n",
       "<table border=\"1\" class=\"dataframe\">\n",
       "  <thead>\n",
       "    <tr style=\"text-align: right;\">\n",
       "      <th></th>\n",
       "      <th>CRIM</th>\n",
       "      <th>ZN</th>\n",
       "      <th>INDUS</th>\n",
       "      <th>CHAS</th>\n",
       "      <th>NOX</th>\n",
       "      <th>RM</th>\n",
       "      <th>AGE</th>\n",
       "      <th>DIS</th>\n",
       "      <th>RAD</th>\n",
       "      <th>TAX</th>\n",
       "      <th>PTRATIO</th>\n",
       "      <th>B</th>\n",
       "      <th>LSTAT</th>\n",
       "      <th>PRICE</th>\n",
       "    </tr>\n",
       "  </thead>\n",
       "  <tbody>\n",
       "    <tr>\n",
       "      <th>0</th>\n",
       "      <td>0.00632</td>\n",
       "      <td>18.0</td>\n",
       "      <td>2.31</td>\n",
       "      <td>0.0</td>\n",
       "      <td>0.538</td>\n",
       "      <td>6.575</td>\n",
       "      <td>65.2</td>\n",
       "      <td>4.0900</td>\n",
       "      <td>1.0</td>\n",
       "      <td>296.0</td>\n",
       "      <td>15.3</td>\n",
       "      <td>396.90</td>\n",
       "      <td>4.98</td>\n",
       "      <td>24.0</td>\n",
       "    </tr>\n",
       "    <tr>\n",
       "      <th>1</th>\n",
       "      <td>0.02731</td>\n",
       "      <td>0.0</td>\n",
       "      <td>7.07</td>\n",
       "      <td>0.0</td>\n",
       "      <td>0.469</td>\n",
       "      <td>6.421</td>\n",
       "      <td>78.9</td>\n",
       "      <td>4.9671</td>\n",
       "      <td>2.0</td>\n",
       "      <td>242.0</td>\n",
       "      <td>17.8</td>\n",
       "      <td>396.90</td>\n",
       "      <td>9.14</td>\n",
       "      <td>21.6</td>\n",
       "    </tr>\n",
       "    <tr>\n",
       "      <th>2</th>\n",
       "      <td>0.02729</td>\n",
       "      <td>0.0</td>\n",
       "      <td>7.07</td>\n",
       "      <td>0.0</td>\n",
       "      <td>0.469</td>\n",
       "      <td>7.185</td>\n",
       "      <td>61.1</td>\n",
       "      <td>4.9671</td>\n",
       "      <td>2.0</td>\n",
       "      <td>242.0</td>\n",
       "      <td>17.8</td>\n",
       "      <td>392.83</td>\n",
       "      <td>4.03</td>\n",
       "      <td>34.7</td>\n",
       "    </tr>\n",
       "    <tr>\n",
       "      <th>3</th>\n",
       "      <td>0.03237</td>\n",
       "      <td>0.0</td>\n",
       "      <td>2.18</td>\n",
       "      <td>0.0</td>\n",
       "      <td>0.458</td>\n",
       "      <td>6.998</td>\n",
       "      <td>45.8</td>\n",
       "      <td>6.0622</td>\n",
       "      <td>3.0</td>\n",
       "      <td>222.0</td>\n",
       "      <td>18.7</td>\n",
       "      <td>394.63</td>\n",
       "      <td>2.94</td>\n",
       "      <td>33.4</td>\n",
       "    </tr>\n",
       "    <tr>\n",
       "      <th>4</th>\n",
       "      <td>0.06905</td>\n",
       "      <td>0.0</td>\n",
       "      <td>2.18</td>\n",
       "      <td>0.0</td>\n",
       "      <td>0.458</td>\n",
       "      <td>7.147</td>\n",
       "      <td>54.2</td>\n",
       "      <td>6.0622</td>\n",
       "      <td>3.0</td>\n",
       "      <td>222.0</td>\n",
       "      <td>18.7</td>\n",
       "      <td>396.90</td>\n",
       "      <td>5.33</td>\n",
       "      <td>36.2</td>\n",
       "    </tr>\n",
       "    <tr>\n",
       "      <th>...</th>\n",
       "      <td>...</td>\n",
       "      <td>...</td>\n",
       "      <td>...</td>\n",
       "      <td>...</td>\n",
       "      <td>...</td>\n",
       "      <td>...</td>\n",
       "      <td>...</td>\n",
       "      <td>...</td>\n",
       "      <td>...</td>\n",
       "      <td>...</td>\n",
       "      <td>...</td>\n",
       "      <td>...</td>\n",
       "      <td>...</td>\n",
       "      <td>...</td>\n",
       "    </tr>\n",
       "    <tr>\n",
       "      <th>501</th>\n",
       "      <td>0.06263</td>\n",
       "      <td>0.0</td>\n",
       "      <td>11.93</td>\n",
       "      <td>0.0</td>\n",
       "      <td>0.573</td>\n",
       "      <td>6.593</td>\n",
       "      <td>69.1</td>\n",
       "      <td>2.4786</td>\n",
       "      <td>1.0</td>\n",
       "      <td>273.0</td>\n",
       "      <td>21.0</td>\n",
       "      <td>391.99</td>\n",
       "      <td>9.67</td>\n",
       "      <td>22.4</td>\n",
       "    </tr>\n",
       "    <tr>\n",
       "      <th>502</th>\n",
       "      <td>0.04527</td>\n",
       "      <td>0.0</td>\n",
       "      <td>11.93</td>\n",
       "      <td>0.0</td>\n",
       "      <td>0.573</td>\n",
       "      <td>6.120</td>\n",
       "      <td>76.7</td>\n",
       "      <td>2.2875</td>\n",
       "      <td>1.0</td>\n",
       "      <td>273.0</td>\n",
       "      <td>21.0</td>\n",
       "      <td>396.90</td>\n",
       "      <td>9.08</td>\n",
       "      <td>20.6</td>\n",
       "    </tr>\n",
       "    <tr>\n",
       "      <th>503</th>\n",
       "      <td>0.06076</td>\n",
       "      <td>0.0</td>\n",
       "      <td>11.93</td>\n",
       "      <td>0.0</td>\n",
       "      <td>0.573</td>\n",
       "      <td>6.976</td>\n",
       "      <td>91.0</td>\n",
       "      <td>2.1675</td>\n",
       "      <td>1.0</td>\n",
       "      <td>273.0</td>\n",
       "      <td>21.0</td>\n",
       "      <td>396.90</td>\n",
       "      <td>5.64</td>\n",
       "      <td>23.9</td>\n",
       "    </tr>\n",
       "    <tr>\n",
       "      <th>504</th>\n",
       "      <td>0.10959</td>\n",
       "      <td>0.0</td>\n",
       "      <td>11.93</td>\n",
       "      <td>0.0</td>\n",
       "      <td>0.573</td>\n",
       "      <td>6.794</td>\n",
       "      <td>89.3</td>\n",
       "      <td>2.3889</td>\n",
       "      <td>1.0</td>\n",
       "      <td>273.0</td>\n",
       "      <td>21.0</td>\n",
       "      <td>393.45</td>\n",
       "      <td>6.48</td>\n",
       "      <td>22.0</td>\n",
       "    </tr>\n",
       "    <tr>\n",
       "      <th>505</th>\n",
       "      <td>0.04741</td>\n",
       "      <td>0.0</td>\n",
       "      <td>11.93</td>\n",
       "      <td>0.0</td>\n",
       "      <td>0.573</td>\n",
       "      <td>6.030</td>\n",
       "      <td>80.8</td>\n",
       "      <td>2.5050</td>\n",
       "      <td>1.0</td>\n",
       "      <td>273.0</td>\n",
       "      <td>21.0</td>\n",
       "      <td>396.90</td>\n",
       "      <td>7.88</td>\n",
       "      <td>11.9</td>\n",
       "    </tr>\n",
       "  </tbody>\n",
       "</table>\n",
       "<p>506 rows × 14 columns</p>\n",
       "</div>"
      ],
      "text/plain": [
       "        CRIM    ZN  INDUS  CHAS    NOX     RM   AGE     DIS  RAD    TAX  \\\n",
       "0    0.00632  18.0   2.31   0.0  0.538  6.575  65.2  4.0900  1.0  296.0   \n",
       "1    0.02731   0.0   7.07   0.0  0.469  6.421  78.9  4.9671  2.0  242.0   \n",
       "2    0.02729   0.0   7.07   0.0  0.469  7.185  61.1  4.9671  2.0  242.0   \n",
       "3    0.03237   0.0   2.18   0.0  0.458  6.998  45.8  6.0622  3.0  222.0   \n",
       "4    0.06905   0.0   2.18   0.0  0.458  7.147  54.2  6.0622  3.0  222.0   \n",
       "..       ...   ...    ...   ...    ...    ...   ...     ...  ...    ...   \n",
       "501  0.06263   0.0  11.93   0.0  0.573  6.593  69.1  2.4786  1.0  273.0   \n",
       "502  0.04527   0.0  11.93   0.0  0.573  6.120  76.7  2.2875  1.0  273.0   \n",
       "503  0.06076   0.0  11.93   0.0  0.573  6.976  91.0  2.1675  1.0  273.0   \n",
       "504  0.10959   0.0  11.93   0.0  0.573  6.794  89.3  2.3889  1.0  273.0   \n",
       "505  0.04741   0.0  11.93   0.0  0.573  6.030  80.8  2.5050  1.0  273.0   \n",
       "\n",
       "     PTRATIO       B  LSTAT  PRICE  \n",
       "0       15.3  396.90   4.98   24.0  \n",
       "1       17.8  396.90   9.14   21.6  \n",
       "2       17.8  392.83   4.03   34.7  \n",
       "3       18.7  394.63   2.94   33.4  \n",
       "4       18.7  396.90   5.33   36.2  \n",
       "..       ...     ...    ...    ...  \n",
       "501     21.0  391.99   9.67   22.4  \n",
       "502     21.0  396.90   9.08   20.6  \n",
       "503     21.0  396.90   5.64   23.9  \n",
       "504     21.0  393.45   6.48   22.0  \n",
       "505     21.0  396.90   7.88   11.9  \n",
       "\n",
       "[506 rows x 14 columns]"
      ]
     },
     "execution_count": 155,
     "metadata": {},
     "output_type": "execute_result"
    }
   ],
   "source": [
    "df"
   ]
  },
  {
   "cell_type": "markdown",
   "id": "64a9c36f",
   "metadata": {},
   "source": [
    "# Feature selection"
   ]
  },
  {
   "cell_type": "code",
   "execution_count": 162,
   "id": "ce148e68",
   "metadata": {},
   "outputs": [
    {
     "data": {
      "text/html": [
       "<div>\n",
       "<style scoped>\n",
       "    .dataframe tbody tr th:only-of-type {\n",
       "        vertical-align: middle;\n",
       "    }\n",
       "\n",
       "    .dataframe tbody tr th {\n",
       "        vertical-align: top;\n",
       "    }\n",
       "\n",
       "    .dataframe thead th {\n",
       "        text-align: right;\n",
       "    }\n",
       "</style>\n",
       "<table border=\"1\" class=\"dataframe\">\n",
       "  <thead>\n",
       "    <tr style=\"text-align: right;\">\n",
       "      <th></th>\n",
       "      <th>CRIM</th>\n",
       "      <th>ZN</th>\n",
       "      <th>INDUS</th>\n",
       "      <th>CHAS</th>\n",
       "      <th>NOX</th>\n",
       "      <th>RM</th>\n",
       "      <th>AGE</th>\n",
       "      <th>DIS</th>\n",
       "      <th>RAD</th>\n",
       "      <th>TAX</th>\n",
       "      <th>PTRATIO</th>\n",
       "      <th>B</th>\n",
       "      <th>LSTAT</th>\n",
       "      <th>PRICE</th>\n",
       "    </tr>\n",
       "  </thead>\n",
       "  <tbody>\n",
       "    <tr>\n",
       "      <th>CRIM</th>\n",
       "      <td>1.000000</td>\n",
       "      <td>-0.002466</td>\n",
       "      <td>0.037356</td>\n",
       "      <td>0.957973</td>\n",
       "      <td>0.969403</td>\n",
       "      <td>0.107556</td>\n",
       "      <td>-0.245510</td>\n",
       "      <td>0.281310</td>\n",
       "      <td>0.295018</td>\n",
       "      <td>-0.337671</td>\n",
       "      <td>-0.254326</td>\n",
       "      <td>-0.408558</td>\n",
       "      <td>-0.048482</td>\n",
       "      <td>-0.262974</td>\n",
       "    </tr>\n",
       "    <tr>\n",
       "      <th>ZN</th>\n",
       "      <td>-0.002466</td>\n",
       "      <td>1.000000</td>\n",
       "      <td>-0.056252</td>\n",
       "      <td>0.018178</td>\n",
       "      <td>0.049865</td>\n",
       "      <td>0.336456</td>\n",
       "      <td>0.066815</td>\n",
       "      <td>0.493694</td>\n",
       "      <td>0.387942</td>\n",
       "      <td>0.155165</td>\n",
       "      <td>0.217494</td>\n",
       "      <td>0.268133</td>\n",
       "      <td>0.092439</td>\n",
       "      <td>0.330586</td>\n",
       "    </tr>\n",
       "    <tr>\n",
       "      <th>INDUS</th>\n",
       "      <td>0.037356</td>\n",
       "      <td>-0.056252</td>\n",
       "      <td>1.000000</td>\n",
       "      <td>-0.114937</td>\n",
       "      <td>-0.000939</td>\n",
       "      <td>0.587583</td>\n",
       "      <td>0.697642</td>\n",
       "      <td>0.236905</td>\n",
       "      <td>0.456914</td>\n",
       "      <td>0.724784</td>\n",
       "      <td>0.649372</td>\n",
       "      <td>0.576989</td>\n",
       "      <td>0.747568</td>\n",
       "      <td>0.434897</td>\n",
       "    </tr>\n",
       "    <tr>\n",
       "      <th>CHAS</th>\n",
       "      <td>0.957973</td>\n",
       "      <td>0.018178</td>\n",
       "      <td>-0.114937</td>\n",
       "      <td>1.000000</td>\n",
       "      <td>0.988319</td>\n",
       "      <td>0.013348</td>\n",
       "      <td>-0.396827</td>\n",
       "      <td>0.273327</td>\n",
       "      <td>0.205234</td>\n",
       "      <td>-0.466218</td>\n",
       "      <td>-0.349733</td>\n",
       "      <td>-0.497343</td>\n",
       "      <td>-0.179106</td>\n",
       "      <td>-0.349870</td>\n",
       "    </tr>\n",
       "    <tr>\n",
       "      <th>NOX</th>\n",
       "      <td>0.969403</td>\n",
       "      <td>0.049865</td>\n",
       "      <td>-0.000939</td>\n",
       "      <td>0.988319</td>\n",
       "      <td>1.000000</td>\n",
       "      <td>0.156204</td>\n",
       "      <td>-0.268760</td>\n",
       "      <td>0.363872</td>\n",
       "      <td>0.324643</td>\n",
       "      <td>-0.337006</td>\n",
       "      <td>-0.213138</td>\n",
       "      <td>-0.368859</td>\n",
       "      <td>-0.053685</td>\n",
       "      <td>-0.229812</td>\n",
       "    </tr>\n",
       "    <tr>\n",
       "      <th>RM</th>\n",
       "      <td>0.107556</td>\n",
       "      <td>0.336456</td>\n",
       "      <td>0.587583</td>\n",
       "      <td>0.013348</td>\n",
       "      <td>0.156204</td>\n",
       "      <td>1.000000</td>\n",
       "      <td>0.724524</td>\n",
       "      <td>0.752424</td>\n",
       "      <td>0.837802</td>\n",
       "      <td>0.769796</td>\n",
       "      <td>0.888150</td>\n",
       "      <td>0.839317</td>\n",
       "      <td>0.687543</td>\n",
       "      <td>0.865719</td>\n",
       "    </tr>\n",
       "    <tr>\n",
       "      <th>AGE</th>\n",
       "      <td>-0.245510</td>\n",
       "      <td>0.066815</td>\n",
       "      <td>0.697642</td>\n",
       "      <td>-0.396827</td>\n",
       "      <td>-0.268760</td>\n",
       "      <td>0.724524</td>\n",
       "      <td>1.000000</td>\n",
       "      <td>0.260204</td>\n",
       "      <td>0.521330</td>\n",
       "      <td>0.841717</td>\n",
       "      <td>0.821755</td>\n",
       "      <td>0.816461</td>\n",
       "      <td>0.809058</td>\n",
       "      <td>0.703110</td>\n",
       "    </tr>\n",
       "    <tr>\n",
       "      <th>DIS</th>\n",
       "      <td>0.281310</td>\n",
       "      <td>0.493694</td>\n",
       "      <td>0.236905</td>\n",
       "      <td>0.273327</td>\n",
       "      <td>0.363872</td>\n",
       "      <td>0.752424</td>\n",
       "      <td>0.260204</td>\n",
       "      <td>1.000000</td>\n",
       "      <td>0.730240</td>\n",
       "      <td>0.418168</td>\n",
       "      <td>0.611973</td>\n",
       "      <td>0.532239</td>\n",
       "      <td>0.440216</td>\n",
       "      <td>0.511577</td>\n",
       "    </tr>\n",
       "    <tr>\n",
       "      <th>RAD</th>\n",
       "      <td>0.295018</td>\n",
       "      <td>0.387942</td>\n",
       "      <td>0.456914</td>\n",
       "      <td>0.205234</td>\n",
       "      <td>0.324643</td>\n",
       "      <td>0.837802</td>\n",
       "      <td>0.521330</td>\n",
       "      <td>0.730240</td>\n",
       "      <td>1.000000</td>\n",
       "      <td>0.614196</td>\n",
       "      <td>0.680672</td>\n",
       "      <td>0.607133</td>\n",
       "      <td>0.572828</td>\n",
       "      <td>0.648236</td>\n",
       "    </tr>\n",
       "    <tr>\n",
       "      <th>TAX</th>\n",
       "      <td>-0.337671</td>\n",
       "      <td>0.155165</td>\n",
       "      <td>0.724784</td>\n",
       "      <td>-0.466218</td>\n",
       "      <td>-0.337006</td>\n",
       "      <td>0.769796</td>\n",
       "      <td>0.841717</td>\n",
       "      <td>0.418168</td>\n",
       "      <td>0.614196</td>\n",
       "      <td>1.000000</td>\n",
       "      <td>0.909143</td>\n",
       "      <td>0.907509</td>\n",
       "      <td>0.782193</td>\n",
       "      <td>0.758009</td>\n",
       "    </tr>\n",
       "    <tr>\n",
       "      <th>PTRATIO</th>\n",
       "      <td>-0.254326</td>\n",
       "      <td>0.217494</td>\n",
       "      <td>0.649372</td>\n",
       "      <td>-0.349733</td>\n",
       "      <td>-0.213138</td>\n",
       "      <td>0.888150</td>\n",
       "      <td>0.821755</td>\n",
       "      <td>0.611973</td>\n",
       "      <td>0.680672</td>\n",
       "      <td>0.909143</td>\n",
       "      <td>1.000000</td>\n",
       "      <td>0.961790</td>\n",
       "      <td>0.798337</td>\n",
       "      <td>0.825339</td>\n",
       "    </tr>\n",
       "    <tr>\n",
       "      <th>B</th>\n",
       "      <td>-0.408558</td>\n",
       "      <td>0.268133</td>\n",
       "      <td>0.576989</td>\n",
       "      <td>-0.497343</td>\n",
       "      <td>-0.368859</td>\n",
       "      <td>0.839317</td>\n",
       "      <td>0.816461</td>\n",
       "      <td>0.532239</td>\n",
       "      <td>0.607133</td>\n",
       "      <td>0.907509</td>\n",
       "      <td>0.961790</td>\n",
       "      <td>1.000000</td>\n",
       "      <td>0.730310</td>\n",
       "      <td>0.878718</td>\n",
       "    </tr>\n",
       "    <tr>\n",
       "      <th>LSTAT</th>\n",
       "      <td>-0.048482</td>\n",
       "      <td>0.092439</td>\n",
       "      <td>0.747568</td>\n",
       "      <td>-0.179106</td>\n",
       "      <td>-0.053685</td>\n",
       "      <td>0.687543</td>\n",
       "      <td>0.809058</td>\n",
       "      <td>0.440216</td>\n",
       "      <td>0.572828</td>\n",
       "      <td>0.782193</td>\n",
       "      <td>0.798337</td>\n",
       "      <td>0.730310</td>\n",
       "      <td>1.000000</td>\n",
       "      <td>0.493800</td>\n",
       "    </tr>\n",
       "    <tr>\n",
       "      <th>PRICE</th>\n",
       "      <td>-0.262974</td>\n",
       "      <td>0.330586</td>\n",
       "      <td>0.434897</td>\n",
       "      <td>-0.349870</td>\n",
       "      <td>-0.229812</td>\n",
       "      <td>0.865719</td>\n",
       "      <td>0.703110</td>\n",
       "      <td>0.511577</td>\n",
       "      <td>0.648236</td>\n",
       "      <td>0.758009</td>\n",
       "      <td>0.825339</td>\n",
       "      <td>0.878718</td>\n",
       "      <td>0.493800</td>\n",
       "      <td>1.000000</td>\n",
       "    </tr>\n",
       "  </tbody>\n",
       "</table>\n",
       "</div>"
      ],
      "text/plain": [
       "             CRIM        ZN     INDUS      CHAS       NOX        RM       AGE  \\\n",
       "CRIM     1.000000 -0.002466  0.037356  0.957973  0.969403  0.107556 -0.245510   \n",
       "ZN      -0.002466  1.000000 -0.056252  0.018178  0.049865  0.336456  0.066815   \n",
       "INDUS    0.037356 -0.056252  1.000000 -0.114937 -0.000939  0.587583  0.697642   \n",
       "CHAS     0.957973  0.018178 -0.114937  1.000000  0.988319  0.013348 -0.396827   \n",
       "NOX      0.969403  0.049865 -0.000939  0.988319  1.000000  0.156204 -0.268760   \n",
       "RM       0.107556  0.336456  0.587583  0.013348  0.156204  1.000000  0.724524   \n",
       "AGE     -0.245510  0.066815  0.697642 -0.396827 -0.268760  0.724524  1.000000   \n",
       "DIS      0.281310  0.493694  0.236905  0.273327  0.363872  0.752424  0.260204   \n",
       "RAD      0.295018  0.387942  0.456914  0.205234  0.324643  0.837802  0.521330   \n",
       "TAX     -0.337671  0.155165  0.724784 -0.466218 -0.337006  0.769796  0.841717   \n",
       "PTRATIO -0.254326  0.217494  0.649372 -0.349733 -0.213138  0.888150  0.821755   \n",
       "B       -0.408558  0.268133  0.576989 -0.497343 -0.368859  0.839317  0.816461   \n",
       "LSTAT   -0.048482  0.092439  0.747568 -0.179106 -0.053685  0.687543  0.809058   \n",
       "PRICE   -0.262974  0.330586  0.434897 -0.349870 -0.229812  0.865719  0.703110   \n",
       "\n",
       "              DIS       RAD       TAX   PTRATIO         B     LSTAT     PRICE  \n",
       "CRIM     0.281310  0.295018 -0.337671 -0.254326 -0.408558 -0.048482 -0.262974  \n",
       "ZN       0.493694  0.387942  0.155165  0.217494  0.268133  0.092439  0.330586  \n",
       "INDUS    0.236905  0.456914  0.724784  0.649372  0.576989  0.747568  0.434897  \n",
       "CHAS     0.273327  0.205234 -0.466218 -0.349733 -0.497343 -0.179106 -0.349870  \n",
       "NOX      0.363872  0.324643 -0.337006 -0.213138 -0.368859 -0.053685 -0.229812  \n",
       "RM       0.752424  0.837802  0.769796  0.888150  0.839317  0.687543  0.865719  \n",
       "AGE      0.260204  0.521330  0.841717  0.821755  0.816461  0.809058  0.703110  \n",
       "DIS      1.000000  0.730240  0.418168  0.611973  0.532239  0.440216  0.511577  \n",
       "RAD      0.730240  1.000000  0.614196  0.680672  0.607133  0.572828  0.648236  \n",
       "TAX      0.418168  0.614196  1.000000  0.909143  0.907509  0.782193  0.758009  \n",
       "PTRATIO  0.611973  0.680672  0.909143  1.000000  0.961790  0.798337  0.825339  \n",
       "B        0.532239  0.607133  0.907509  0.961790  1.000000  0.730310  0.878718  \n",
       "LSTAT    0.440216  0.572828  0.782193  0.798337  0.730310  1.000000  0.493800  \n",
       "PRICE    0.511577  0.648236  0.758009  0.825339  0.878718  0.493800  1.000000  "
      ]
     },
     "execution_count": 162,
     "metadata": {},
     "output_type": "execute_result"
    }
   ],
   "source": [
    "df.corr()"
   ]
  },
  {
   "cell_type": "code",
   "execution_count": 166,
   "id": "d0bfc3d8",
   "metadata": {},
   "outputs": [
    {
     "data": {
      "text/plain": [
       "<AxesSubplot:>"
      ]
     },
     "execution_count": 166,
     "metadata": {},
     "output_type": "execute_result"
    },
    {
     "data": {
      "image/png": "[encoded data removed]",
      "text/plain": [
       "<Figure size 1440x720 with 2 Axes>"
      ]
     },
     "metadata": {
      "needs_background": "light"
     },
     "output_type": "display_data"
    }
   ],
   "source": [
    "plt.figure(figsize=(20,10))\n",
    "sns.heatmap(df.corr(), annot=True)"
   ]
  },
  {
   "cell_type": "code",
   "execution_count": null,
   "id": "7f8c08f9",
   "metadata": {},
   "outputs": [],
   "source": []
  },
  {
   "cell_type": "markdown",
   "id": "93a97f80",
   "metadata": {},
   "source": [
    "# Model Training"
   ]
  },
  {
   "cell_type": "markdown",
   "id": "b38a941a",
   "metadata": {},
   "source": [
    "# Linear Regression"
   ]
  },
  {
   "cell_type": "code",
   "execution_count": 167,
   "id": "ea57b3f9",
   "metadata": {},
   "outputs": [],
   "source": [
    "from sklearn.linear_model import LinearRegression"
   ]
  },
  {
   "cell_type": "code",
   "execution_count": 169,
   "id": "14cdc71e",
   "metadata": {},
   "outputs": [],
   "source": [
    "LR = LinearRegression()"
   ]
  },
  {
   "cell_type": "code",
   "execution_count": 170,
   "id": "ddc013c6",
   "metadata": {},
   "outputs": [],
   "source": [
    "from sklearn.model_selection import train_test_split"
   ]
  },
  {
   "cell_type": "code",
   "execution_count": 174,
   "id": "75bd6562",
   "metadata": {},
   "outputs": [],
   "source": [
    "x= df.drop('PRICE', axis=1)\n",
    "y= df['PRICE']"
   ]
  },
  {
   "cell_type": "code",
   "execution_count": 177,
   "id": "1a2446c6",
   "metadata": {},
   "outputs": [],
   "source": [
    "x_train, x_test, y_train, y_test = train_test_split(x,y, test_size=0.25, random_state= 15)"
   ]
  },
  {
   "cell_type": "code",
   "execution_count": 179,
   "id": "1d192011",
   "metadata": {},
   "outputs": [],
   "source": [
    "# y_train"
   ]
  },
  {
   "cell_type": "code",
   "execution_count": 176,
   "id": "34d5033d",
   "metadata": {},
   "outputs": [
    {
     "data": {
      "text/html": [
       "<style>#sk-container-id-1 {color: black;background-color: white;}#sk-container-id-1 pre{padding: 0;}#sk-container-id-1 div.sk-toggleable {background-color: white;}#sk-container-id-1 label.sk-toggleable__label {cursor: pointer;display: block;width: 100%;margin-bottom: 0;padding: 0.3em;box-sizing: border-box;text-align: center;}#sk-container-id-1 label.sk-toggleable__label-arrow:before {content: \"▸\";float: left;margin-right: 0.25em;color: #696969;}#sk-container-id-1 label.sk-toggleable__label-arrow:hover:before {color: black;}#sk-container-id-1 div.sk-estimator:hover label.sk-toggleable__label-arrow:before {color: black;}#sk-container-id-1 div.sk-toggleable__content {max-height: 0;max-width: 0;overflow: hidden;text-align: left;background-color: #f0f8ff;}#sk-container-id-1 div.sk-toggleable__content pre {margin: 0.2em;color: black;border-radius: 0.25em;background-color: #f0f8ff;}#sk-container-id-1 input.sk-toggleable__control:checked~div.sk-toggleable__content {max-height: 200px;max-width: 100%;overflow: auto;}#sk-container-id-1 input.sk-toggleable__control:checked~label.sk-toggleable__label-arrow:before {content: \"▾\";}#sk-container-id-1 div.sk-estimator input.sk-toggleable__control:checked~label.sk-toggleable__label {background-color: #d4ebff;}#sk-container-id-1 div.sk-label input.sk-toggleable__control:checked~label.sk-toggleable__label {background-color: #d4ebff;}#sk-container-id-1 input.sk-hidden--visually {border: 0;clip: rect(1px 1px 1px 1px);clip: rect(1px, 1px, 1px, 1px);height: 1px;margin: -1px;overflow: hidden;padding: 0;position: absolute;width: 1px;}#sk-container-id-1 div.sk-estimator {font-family: monospace;background-color: #f0f8ff;border: 1px dotted black;border-radius: 0.25em;box-sizing: border-box;margin-bottom: 0.5em;}#sk-container-id-1 div.sk-estimator:hover {background-color: #d4ebff;}#sk-container-id-1 div.sk-parallel-item::after {content: \"\";width: 100%;border-bottom: 1px solid gray;flex-grow: 1;}#sk-container-id-1 div.sk-label:hover label.sk-toggleable__label {background-color: #d4ebff;}#sk-container-id-1 div.sk-serial::before {content: \"\";position: absolute;border-left: 1px solid gray;box-sizing: border-box;top: 0;bottom: 0;left: 50%;z-index: 0;}#sk-container-id-1 div.sk-serial {display: flex;flex-direction: column;align-items: center;background-color: white;padding-right: 0.2em;padding-left: 0.2em;position: relative;}#sk-container-id-1 div.sk-item {position: relative;z-index: 1;}#sk-container-id-1 div.sk-parallel {display: flex;align-items: stretch;justify-content: center;background-color: white;position: relative;}#sk-container-id-1 div.sk-item::before, #sk-container-id-1 div.sk-parallel-item::before {content: \"\";position: absolute;border-left: 1px solid gray;box-sizing: border-box;top: 0;bottom: 0;left: 50%;z-index: -1;}#sk-container-id-1 div.sk-parallel-item {display: flex;flex-direction: column;z-index: 1;position: relative;background-color: white;}#sk-container-id-1 div.sk-parallel-item:first-child::after {align-self: flex-end;width: 50%;}#sk-container-id-1 div.sk-parallel-item:last-child::after {align-self: flex-start;width: 50%;}#sk-container-id-1 div.sk-parallel-item:only-child::after {width: 0;}#sk-container-id-1 div.sk-dashed-wrapped {border: 1px dashed gray;margin: 0 0.4em 0.5em 0.4em;box-sizing: border-box;padding-bottom: 0.4em;background-color: white;}#sk-container-id-1 div.sk-label label {font-family: monospace;font-weight: bold;display: inline-block;line-height: 1.2em;}#sk-container-id-1 div.sk-label-container {text-align: center;}#sk-container-id-1 div.sk-container {/* jupyter's `normalize.less` sets `[hidden] { display: none; }` but bootstrap.min.css set `[hidden] { display: none !important; }` so we also need the `!important` here to be able to override the default hidden behavior on the sphinx rendered scikit-learn.org. See: https://github.com/scikit-learn/scikit-learn/issues/21755 */display: inline-block !important;position: relative;}#sk-container-id-1 div.sk-text-repr-fallback {display: none;}</style><div id=\"sk-container-id-1\" class=\"sk-top-container\"><div class=\"sk-text-repr-fallback\"><pre>LinearRegression()</pre><b>In a Jupyter environment, please rerun this cell to show the HTML representation or trust the notebook. <br />On GitHub, the HTML representation is unable to render, please try loading this page with nbviewer.org.</b></div><div class=\"sk-container\" hidden><div class=\"sk-item\"><div class=\"sk-estimator sk-toggleable\"><input class=\"sk-toggleable__control sk-hidden--visually\" id=\"sk-estimator-id-1\" type=\"checkbox\" checked><label for=\"sk-estimator-id-1\" class=\"sk-toggleable__label sk-toggleable__label-arrow\">LinearRegression</label><div class=\"sk-toggleable__content\"><pre>LinearRegression()</pre></div></div></div></div></div>"
      ],
      "text/plain": [
       "LinearRegression()"
      ]
     },
     "execution_count": 176,
     "metadata": {},
     "output_type": "execute_result"
    }
   ],
   "source": [
    "LR.fit(x_train, y_train)"
   ]
  },
  {
   "cell_type": "code",
   "execution_count": 186,
   "id": "08d95480",
   "metadata": {},
   "outputs": [
    {
     "name": "stdout",
     "output_type": "stream",
     "text": [
      "MSE : 4.404547385571444\n",
      "RMSE : 2.0987013569280037\n",
      "MAE : 1.1853908511023694\n",
      "r2 (accuracy) : 0.9718073968085531\n"
     ]
    }
   ],
   "source": [
    "# Evaluation for Training\n",
    "\n",
    "y_pred_train = LR.predict(x_train)\n",
    "\n",
    "from sklearn.metrics import mean_squared_error as mse, mean_absolute_error as mae, r2_score\n",
    "\n",
    "MSE = mse(y_train, y_pred_train)\n",
    "print('MSE :', MSE)\n",
    "\n",
    "RMSE = np.sqrt(MSE)\n",
    "print('RMSE :', RMSE)\n",
    "\n",
    "MAE = mae(y_train, y_pred_train)\n",
    "print('MAE :', MAE)\n",
    "\n",
    "r2 = r2_score(y_train, y_pred_train)\n",
    "print('r2 (accuracy) :', r2)"
   ]
  },
  {
   "cell_type": "code",
   "execution_count": 182,
   "id": "ef41d0c3",
   "metadata": {},
   "outputs": [
    {
     "name": "stdout",
     "output_type": "stream",
     "text": [
      "MSE : 6.220158620573895\n",
      "RMSE : 2.494024582993098\n",
      "MAE : 1.3179366188484887\n",
      "r2 (accuracy) : 0.9617217010211614\n"
     ]
    }
   ],
   "source": [
    "# Evaluation for Testing\n",
    "\n",
    "y_pred_test = LR.predict(x_test)\n",
    "\n",
    "MSE = mse(y_test, y_pred_test)\n",
    "print('MSE :', MSE)\n",
    "\n",
    "RMSE = np.sqrt(MSE)\n",
    "print('RMSE :', RMSE)\n",
    "\n",
    "MAE = mae(y_test, y_pred_test)\n",
    "print('MAE :', MAE)\n",
    "\n",
    "r2 = r2_score(y_test, y_pred_test)\n",
    "print('r2 (accuracy) :', r2)"
   ]
  },
  {
   "cell_type": "markdown",
   "id": "b6f2bfa5",
   "metadata": {},
   "source": [
    "# KNN Regression"
   ]
  },
  {
   "cell_type": "code",
   "execution_count": 183,
   "id": "dcc656bc",
   "metadata": {},
   "outputs": [],
   "source": [
    "from sklearn.neighbors import KNeighborsRegressor"
   ]
  },
  {
   "cell_type": "code",
   "execution_count": 184,
   "id": "cbd51546",
   "metadata": {},
   "outputs": [
    {
     "data": {
      "text/html": [
       "<style>#sk-container-id-2 {color: black;background-color: white;}#sk-container-id-2 pre{padding: 0;}#sk-container-id-2 div.sk-toggleable {background-color: white;}#sk-container-id-2 label.sk-toggleable__label {cursor: pointer;display: block;width: 100%;margin-bottom: 0;padding: 0.3em;box-sizing: border-box;text-align: center;}#sk-container-id-2 label.sk-toggleable__label-arrow:before {content: \"▸\";float: left;margin-right: 0.25em;color: #696969;}#sk-container-id-2 label.sk-toggleable__label-arrow:hover:before {color: black;}#sk-container-id-2 div.sk-estimator:hover label.sk-toggleable__label-arrow:before {color: black;}#sk-container-id-2 div.sk-toggleable__content {max-height: 0;max-width: 0;overflow: hidden;text-align: left;background-color: #f0f8ff;}#sk-container-id-2 div.sk-toggleable__content pre {margin: 0.2em;color: black;border-radius: 0.25em;background-color: #f0f8ff;}#sk-container-id-2 input.sk-toggleable__control:checked~div.sk-toggleable__content {max-height: 200px;max-width: 100%;overflow: auto;}#sk-container-id-2 input.sk-toggleable__control:checked~label.sk-toggleable__label-arrow:before {content: \"▾\";}#sk-container-id-2 div.sk-estimator input.sk-toggleable__control:checked~label.sk-toggleable__label {background-color: #d4ebff;}#sk-container-id-2 div.sk-label input.sk-toggleable__control:checked~label.sk-toggleable__label {background-color: #d4ebff;}#sk-container-id-2 input.sk-hidden--visually {border: 0;clip: rect(1px 1px 1px 1px);clip: rect(1px, 1px, 1px, 1px);height: 1px;margin: -1px;overflow: hidden;padding: 0;position: absolute;width: 1px;}#sk-container-id-2 div.sk-estimator {font-family: monospace;background-color: #f0f8ff;border: 1px dotted black;border-radius: 0.25em;box-sizing: border-box;margin-bottom: 0.5em;}#sk-container-id-2 div.sk-estimator:hover {background-color: #d4ebff;}#sk-container-id-2 div.sk-parallel-item::after {content: \"\";width: 100%;border-bottom: 1px solid gray;flex-grow: 1;}#sk-container-id-2 div.sk-label:hover label.sk-toggleable__label {background-color: #d4ebff;}#sk-container-id-2 div.sk-serial::before {content: \"\";position: absolute;border-left: 1px solid gray;box-sizing: border-box;top: 0;bottom: 0;left: 50%;z-index: 0;}#sk-container-id-2 div.sk-serial {display: flex;flex-direction: column;align-items: center;background-color: white;padding-right: 0.2em;padding-left: 0.2em;position: relative;}#sk-container-id-2 div.sk-item {position: relative;z-index: 1;}#sk-container-id-2 div.sk-parallel {display: flex;align-items: stretch;justify-content: center;background-color: white;position: relative;}#sk-container-id-2 div.sk-item::before, #sk-container-id-2 div.sk-parallel-item::before {content: \"\";position: absolute;border-left: 1px solid gray;box-sizing: border-box;top: 0;bottom: 0;left: 50%;z-index: -1;}#sk-container-id-2 div.sk-parallel-item {display: flex;flex-direction: column;z-index: 1;position: relative;background-color: white;}#sk-container-id-2 div.sk-parallel-item:first-child::after {align-self: flex-end;width: 50%;}#sk-container-id-2 div.sk-parallel-item:last-child::after {align-self: flex-start;width: 50%;}#sk-container-id-2 div.sk-parallel-item:only-child::after {width: 0;}#sk-container-id-2 div.sk-dashed-wrapped {border: 1px dashed gray;margin: 0 0.4em 0.5em 0.4em;box-sizing: border-box;padding-bottom: 0.4em;background-color: white;}#sk-container-id-2 div.sk-label label {font-family: monospace;font-weight: bold;display: inline-block;line-height: 1.2em;}#sk-container-id-2 div.sk-label-container {text-align: center;}#sk-container-id-2 div.sk-container {/* jupyter's `normalize.less` sets `[hidden] { display: none; }` but bootstrap.min.css set `[hidden] { display: none !important; }` so we also need the `!important` here to be able to override the default hidden behavior on the sphinx rendered scikit-learn.org. See: https://github.com/scikit-learn/scikit-learn/issues/21755 */display: inline-block !important;position: relative;}#sk-container-id-2 div.sk-text-repr-fallback {display: none;}</style><div id=\"sk-container-id-2\" class=\"sk-top-container\"><div class=\"sk-text-repr-fallback\"><pre>KNeighborsRegressor()</pre><b>In a Jupyter environment, please rerun this cell to show the HTML representation or trust the notebook. <br />On GitHub, the HTML representation is unable to render, please try loading this page with nbviewer.org.</b></div><div class=\"sk-container\" hidden><div class=\"sk-item\"><div class=\"sk-estimator sk-toggleable\"><input class=\"sk-toggleable__control sk-hidden--visually\" id=\"sk-estimator-id-2\" type=\"checkbox\" checked><label for=\"sk-estimator-id-2\" class=\"sk-toggleable__label sk-toggleable__label-arrow\">KNeighborsRegressor</label><div class=\"sk-toggleable__content\"><pre>KNeighborsRegressor()</pre></div></div></div></div></div>"
      ],
      "text/plain": [
       "KNeighborsRegressor()"
      ]
     },
     "execution_count": 184,
     "metadata": {},
     "output_type": "execute_result"
    }
   ],
   "source": [
    "KNN = KNeighborsRegressor()\n",
    "KNN.fit(x_train, y_train)"
   ]
  },
  {
   "cell_type": "code",
   "execution_count": 189,
   "id": "2281a1cc",
   "metadata": {},
   "outputs": [
    {
     "name": "stdout",
     "output_type": "stream",
     "text": [
      "MSE : 13.018237467018471\n",
      "RMSE : 3.608079470718248\n",
      "MAE : 1.889604221635884\n",
      "r2 (accuracy) : 0.916672935711404\n"
     ]
    }
   ],
   "source": [
    "# Evaluation for Training\n",
    "\n",
    "y_pred_train = KNN.predict(x_train)\n",
    "\n",
    "MSE = mse(y_train, y_pred_train)\n",
    "print('MSE :', MSE)\n",
    "\n",
    "RMSE = np.sqrt(MSE)\n",
    "print('RMSE :', RMSE)\n",
    "\n",
    "MAE = mae(y_train, y_pred_train)\n",
    "print('MAE :', MAE)\n",
    "\n",
    "r2 = r2_score(y_train, y_pred_train)\n",
    "print('r2 (accuracy) :', r2)"
   ]
  },
  {
   "cell_type": "code",
   "execution_count": 190,
   "id": "98fb0ff3",
   "metadata": {},
   "outputs": [
    {
     "name": "stdout",
     "output_type": "stream",
     "text": [
      "MSE : 22.197108661417328\n",
      "RMSE : 4.7113807595456905\n",
      "MAE : 2.542047244094488\n",
      "r2 (accuracy) : 0.8634009816088732\n"
     ]
    }
   ],
   "source": [
    "# Evaluation for Testing\n",
    "\n",
    "y_pred_test = KNN.predict(x_test)\n",
    "\n",
    "MSE = mse(y_test, y_pred_test)\n",
    "print('MSE :', MSE)\n",
    "\n",
    "RMSE = np.sqrt(MSE)\n",
    "print('RMSE :', RMSE)\n",
    "\n",
    "MAE = mae(y_test, y_pred_test)\n",
    "print('MAE :', MAE)\n",
    "\n",
    "r2 = r2_score(y_test, y_pred_test)\n",
    "print('r2 (accuracy) :', r2)"
   ]
  },
  {
   "cell_type": "markdown",
   "id": "34212593",
   "metadata": {},
   "source": [
    "### Hyperparameter Tuning"
   ]
  },
  {
   "cell_type": "code",
   "execution_count": null,
   "id": "0439f826",
   "metadata": {},
   "outputs": [],
   "source": [
    "#Pending"
   ]
  },
  {
   "cell_type": "markdown",
   "id": "74b1c7ea",
   "metadata": {},
   "source": [
    "## Scaling"
   ]
  },
  {
   "cell_type": "markdown",
   "id": "56ccbcfd",
   "metadata": {},
   "source": [
    "# 1. Normalisation"
   ]
  },
  {
   "cell_type": "code",
   "execution_count": 191,
   "id": "1695443d",
   "metadata": {},
   "outputs": [],
   "source": [
    "from sklearn.preprocessing import MinMaxScaler, StandardScaler"
   ]
  },
  {
   "cell_type": "markdown",
   "id": "d0b407bc",
   "metadata": {},
   "source": [
    "### For Training Data Evaluation"
   ]
  },
  {
   "cell_type": "code",
   "execution_count": 208,
   "id": "8f0dda9b",
   "metadata": {},
   "outputs": [
    {
     "data": {
      "text/html": [
       "<div>\n",
       "<style scoped>\n",
       "    .dataframe tbody tr th:only-of-type {\n",
       "        vertical-align: middle;\n",
       "    }\n",
       "\n",
       "    .dataframe tbody tr th {\n",
       "        vertical-align: top;\n",
       "    }\n",
       "\n",
       "    .dataframe thead th {\n",
       "        text-align: right;\n",
       "    }\n",
       "</style>\n",
       "<table border=\"1\" class=\"dataframe\">\n",
       "  <thead>\n",
       "    <tr style=\"text-align: right;\">\n",
       "      <th></th>\n",
       "      <th>CRIM</th>\n",
       "      <th>ZN</th>\n",
       "      <th>INDUS</th>\n",
       "      <th>CHAS</th>\n",
       "      <th>NOX</th>\n",
       "      <th>RM</th>\n",
       "      <th>AGE</th>\n",
       "      <th>DIS</th>\n",
       "      <th>RAD</th>\n",
       "      <th>TAX</th>\n",
       "      <th>PTRATIO</th>\n",
       "      <th>B</th>\n",
       "      <th>LSTAT</th>\n",
       "    </tr>\n",
       "  </thead>\n",
       "  <tbody>\n",
       "    <tr>\n",
       "      <th>0</th>\n",
       "      <td>0.002521</td>\n",
       "      <td>0.000663</td>\n",
       "      <td>0.000000</td>\n",
       "      <td>0.003461</td>\n",
       "      <td>0.000000</td>\n",
       "      <td>0.000000</td>\n",
       "      <td>0.000000</td>\n",
       "      <td>0.000000</td>\n",
       "      <td>0.0</td>\n",
       "      <td>0.000000</td>\n",
       "      <td>0.000000</td>\n",
       "      <td>0.000000</td>\n",
       "      <td>0.000000</td>\n",
       "    </tr>\n",
       "    <tr>\n",
       "      <th>1</th>\n",
       "      <td>0.043549</td>\n",
       "      <td>0.000000</td>\n",
       "      <td>0.222854</td>\n",
       "      <td>0.000000</td>\n",
       "      <td>0.071918</td>\n",
       "      <td>0.880599</td>\n",
       "      <td>0.169807</td>\n",
       "      <td>0.377316</td>\n",
       "      <td>1.0</td>\n",
       "      <td>0.431768</td>\n",
       "      <td>0.820558</td>\n",
       "      <td>0.951144</td>\n",
       "      <td>0.147623</td>\n",
       "    </tr>\n",
       "  </tbody>\n",
       "</table>\n",
       "</div>"
      ],
      "text/plain": [
       "       CRIM        ZN     INDUS      CHAS       NOX        RM       AGE  \\\n",
       "0  0.002521  0.000663  0.000000  0.003461  0.000000  0.000000  0.000000   \n",
       "1  0.043549  0.000000  0.222854  0.000000  0.071918  0.880599  0.169807   \n",
       "\n",
       "        DIS  RAD       TAX   PTRATIO         B     LSTAT  \n",
       "0  0.000000  0.0  0.000000  0.000000  0.000000  0.000000  \n",
       "1  0.377316  1.0  0.431768  0.820558  0.951144  0.147623  "
      ]
     },
     "execution_count": 208,
     "metadata": {},
     "output_type": "execute_result"
    }
   ],
   "source": [
    "#For Training Evaluation\n",
    "\n",
    "ns = MinMaxScaler()\n",
    "ns.fit(x_train)\n",
    "\n",
    "array_train = ns.transform(x_train)\n",
    "\n",
    "ns_x_train = pd.DataFrame(array_train, columns = x_train.columns)\n",
    "ns_x_train.head(2)"
   ]
  },
  {
   "cell_type": "code",
   "execution_count": null,
   "id": "fb8ee0cb",
   "metadata": {},
   "outputs": [],
   "source": [
    "KNN_NS = KNeighborsRegressor()\n",
    "KNN_NS.fit(NS_x_train, y_train)"
   ]
  },
  {
   "cell_type": "code",
   "execution_count": 206,
   "id": "c7a6c814",
   "metadata": {},
   "outputs": [
    {
     "name": "stdout",
     "output_type": "stream",
     "text": [
      "MSE : 6.44292031662269\n",
      "RMSE 2.538290825855597\n",
      "MAE : 1.3032717678100263\n",
      "r2 : 0.9587601903260966\n"
     ]
    }
   ],
   "source": [
    "\n",
    "y_pred_train = KNN_NS.predict(NS_x_train)\n",
    "\n",
    "MSE = mse(y_train, y_pred_train)\n",
    "print('MSE :', MSE)\n",
    "\n",
    "RMSE = np.sqrt(MSE)\n",
    "print('RMSE', RMSE)\n",
    "\n",
    "MAE = mae(y_train, y_pred_train)\n",
    "print('MAE :', MAE)\n",
    "\n",
    "r2 = r2_score(y_train, y_pred_train)\n",
    "print('r2 :', r2)"
   ]
  },
  {
   "cell_type": "markdown",
   "id": "4d72d04f",
   "metadata": {},
   "source": [
    "## Training >>> r2= 0.916,    r2_NS = 0.958"
   ]
  },
  {
   "cell_type": "markdown",
   "id": "f1bd8880",
   "metadata": {},
   "source": [
    "### For Testing Data Evaluation"
   ]
  },
  {
   "cell_type": "code",
   "execution_count": 210,
   "id": "eae9ae27",
   "metadata": {},
   "outputs": [
    {
     "data": {
      "text/html": [
       "<div>\n",
       "<style scoped>\n",
       "    .dataframe tbody tr th:only-of-type {\n",
       "        vertical-align: middle;\n",
       "    }\n",
       "\n",
       "    .dataframe tbody tr th {\n",
       "        vertical-align: top;\n",
       "    }\n",
       "\n",
       "    .dataframe thead th {\n",
       "        text-align: right;\n",
       "    }\n",
       "</style>\n",
       "<table border=\"1\" class=\"dataframe\">\n",
       "  <thead>\n",
       "    <tr style=\"text-align: right;\">\n",
       "      <th></th>\n",
       "      <th>CRIM</th>\n",
       "      <th>ZN</th>\n",
       "      <th>INDUS</th>\n",
       "      <th>CHAS</th>\n",
       "      <th>NOX</th>\n",
       "      <th>RM</th>\n",
       "      <th>AGE</th>\n",
       "      <th>DIS</th>\n",
       "      <th>RAD</th>\n",
       "      <th>TAX</th>\n",
       "      <th>PTRATIO</th>\n",
       "      <th>B</th>\n",
       "      <th>LSTAT</th>\n",
       "    </tr>\n",
       "  </thead>\n",
       "  <tbody>\n",
       "    <tr>\n",
       "      <th>0</th>\n",
       "      <td>0.004334</td>\n",
       "      <td>0.971429</td>\n",
       "      <td>0.218885</td>\n",
       "      <td>0.0</td>\n",
       "      <td>0.061297</td>\n",
       "      <td>0.754648</td>\n",
       "      <td>0.403862</td>\n",
       "      <td>0.615579</td>\n",
       "      <td>0.874636</td>\n",
       "      <td>0.462711</td>\n",
       "      <td>0.759170</td>\n",
       "      <td>0.997102</td>\n",
       "      <td>0.359013</td>\n",
       "    </tr>\n",
       "    <tr>\n",
       "      <th>1</th>\n",
       "      <td>0.076665</td>\n",
       "      <td>0.571429</td>\n",
       "      <td>0.142397</td>\n",
       "      <td>0.0</td>\n",
       "      <td>0.093308</td>\n",
       "      <td>0.962421</td>\n",
       "      <td>0.914980</td>\n",
       "      <td>0.254999</td>\n",
       "      <td>0.623909</td>\n",
       "      <td>0.371287</td>\n",
       "      <td>0.612784</td>\n",
       "      <td>0.974702</td>\n",
       "      <td>0.223011</td>\n",
       "    </tr>\n",
       "  </tbody>\n",
       "</table>\n",
       "</div>"
      ],
      "text/plain": [
       "       CRIM        ZN     INDUS  CHAS       NOX        RM       AGE       DIS  \\\n",
       "0  0.004334  0.971429  0.218885   0.0  0.061297  0.754648  0.403862  0.615579   \n",
       "1  0.076665  0.571429  0.142397   0.0  0.093308  0.962421  0.914980  0.254999   \n",
       "\n",
       "        RAD       TAX   PTRATIO         B     LSTAT  \n",
       "0  0.874636  0.462711  0.759170  0.997102  0.359013  \n",
       "1  0.623909  0.371287  0.612784  0.974702  0.223011  "
      ]
     },
     "execution_count": 210,
     "metadata": {},
     "output_type": "execute_result"
    }
   ],
   "source": [
    "#For Testing Evaluation\n",
    "array_test = ns.transform(x_test)\n",
    "\n",
    "ns_x_test = pd.DataFrame(array_test, columns = x_test.columns)\n",
    "ns_x_test.head(2)"
   ]
  },
  {
   "cell_type": "code",
   "execution_count": 213,
   "id": "2d8b556d",
   "metadata": {},
   "outputs": [
    {
     "name": "stdout",
     "output_type": "stream",
     "text": [
      "MSE : 16.445700787401577\n",
      "RMSE : 4.0553299233726445\n",
      "MAE : 1.9644094488188975\n",
      "r2 : 0.8987946304818515\n"
     ]
    }
   ],
   "source": [
    "y_pred_test = KNN_NS.predict(ns_x_test)\n",
    "\n",
    "MSE = mse(y_test, y_pred_test)\n",
    "print('MSE :', MSE)\n",
    "\n",
    "RMSE= np.sqrt(MSE)\n",
    "print('RMSE :', RMSE)\n",
    "\n",
    "MAE = mae(y_test, y_pred_test)\n",
    "print('MAE :', MAE)\n",
    "\n",
    "r2 = r2_score(y_test, y_pred_test)\n",
    "print(\"r2 :\",r2)"
   ]
  },
  {
   "cell_type": "markdown",
   "id": "0a61972b",
   "metadata": {},
   "source": [
    "## Testing >>> r2= 0.863, r2_NS = 0.898"
   ]
  },
  {
   "cell_type": "markdown",
   "id": "f86b54e1",
   "metadata": {},
   "source": [
    "# 2. Standardization"
   ]
  },
  {
   "cell_type": "code",
   "execution_count": 216,
   "id": "5309102d",
   "metadata": {},
   "outputs": [
    {
     "data": {
      "text/html": [
       "<style>#sk-container-id-4 {color: black;background-color: white;}#sk-container-id-4 pre{padding: 0;}#sk-container-id-4 div.sk-toggleable {background-color: white;}#sk-container-id-4 label.sk-toggleable__label {cursor: pointer;display: block;width: 100%;margin-bottom: 0;padding: 0.3em;box-sizing: border-box;text-align: center;}#sk-container-id-4 label.sk-toggleable__label-arrow:before {content: \"▸\";float: left;margin-right: 0.25em;color: #696969;}#sk-container-id-4 label.sk-toggleable__label-arrow:hover:before {color: black;}#sk-container-id-4 div.sk-estimator:hover label.sk-toggleable__label-arrow:before {color: black;}#sk-container-id-4 div.sk-toggleable__content {max-height: 0;max-width: 0;overflow: hidden;text-align: left;background-color: #f0f8ff;}#sk-container-id-4 div.sk-toggleable__content pre {margin: 0.2em;color: black;border-radius: 0.25em;background-color: #f0f8ff;}#sk-container-id-4 input.sk-toggleable__control:checked~div.sk-toggleable__content {max-height: 200px;max-width: 100%;overflow: auto;}#sk-container-id-4 input.sk-toggleable__control:checked~label.sk-toggleable__label-arrow:before {content: \"▾\";}#sk-container-id-4 div.sk-estimator input.sk-toggleable__control:checked~label.sk-toggleable__label {background-color: #d4ebff;}#sk-container-id-4 div.sk-label input.sk-toggleable__control:checked~label.sk-toggleable__label {background-color: #d4ebff;}#sk-container-id-4 input.sk-hidden--visually {border: 0;clip: rect(1px 1px 1px 1px);clip: rect(1px, 1px, 1px, 1px);height: 1px;margin: -1px;overflow: hidden;padding: 0;position: absolute;width: 1px;}#sk-container-id-4 div.sk-estimator {font-family: monospace;background-color: #f0f8ff;border: 1px dotted black;border-radius: 0.25em;box-sizing: border-box;margin-bottom: 0.5em;}#sk-container-id-4 div.sk-estimator:hover {background-color: #d4ebff;}#sk-container-id-4 div.sk-parallel-item::after {content: \"\";width: 100%;border-bottom: 1px solid gray;flex-grow: 1;}#sk-container-id-4 div.sk-label:hover label.sk-toggleable__label {background-color: #d4ebff;}#sk-container-id-4 div.sk-serial::before {content: \"\";position: absolute;border-left: 1px solid gray;box-sizing: border-box;top: 0;bottom: 0;left: 50%;z-index: 0;}#sk-container-id-4 div.sk-serial {display: flex;flex-direction: column;align-items: center;background-color: white;padding-right: 0.2em;padding-left: 0.2em;position: relative;}#sk-container-id-4 div.sk-item {position: relative;z-index: 1;}#sk-container-id-4 div.sk-parallel {display: flex;align-items: stretch;justify-content: center;background-color: white;position: relative;}#sk-container-id-4 div.sk-item::before, #sk-container-id-4 div.sk-parallel-item::before {content: \"\";position: absolute;border-left: 1px solid gray;box-sizing: border-box;top: 0;bottom: 0;left: 50%;z-index: -1;}#sk-container-id-4 div.sk-parallel-item {display: flex;flex-direction: column;z-index: 1;position: relative;background-color: white;}#sk-container-id-4 div.sk-parallel-item:first-child::after {align-self: flex-end;width: 50%;}#sk-container-id-4 div.sk-parallel-item:last-child::after {align-self: flex-start;width: 50%;}#sk-container-id-4 div.sk-parallel-item:only-child::after {width: 0;}#sk-container-id-4 div.sk-dashed-wrapped {border: 1px dashed gray;margin: 0 0.4em 0.5em 0.4em;box-sizing: border-box;padding-bottom: 0.4em;background-color: white;}#sk-container-id-4 div.sk-label label {font-family: monospace;font-weight: bold;display: inline-block;line-height: 1.2em;}#sk-container-id-4 div.sk-label-container {text-align: center;}#sk-container-id-4 div.sk-container {/* jupyter's `normalize.less` sets `[hidden] { display: none; }` but bootstrap.min.css set `[hidden] { display: none !important; }` so we also need the `!important` here to be able to override the default hidden behavior on the sphinx rendered scikit-learn.org. See: https://github.com/scikit-learn/scikit-learn/issues/21755 */display: inline-block !important;position: relative;}#sk-container-id-4 div.sk-text-repr-fallback {display: none;}</style><div id=\"sk-container-id-4\" class=\"sk-top-container\"><div class=\"sk-text-repr-fallback\"><pre>StandardScaler()</pre><b>In a Jupyter environment, please rerun this cell to show the HTML representation or trust the notebook. <br />On GitHub, the HTML representation is unable to render, please try loading this page with nbviewer.org.</b></div><div class=\"sk-container\" hidden><div class=\"sk-item\"><div class=\"sk-estimator sk-toggleable\"><input class=\"sk-toggleable__control sk-hidden--visually\" id=\"sk-estimator-id-4\" type=\"checkbox\" checked><label for=\"sk-estimator-id-4\" class=\"sk-toggleable__label sk-toggleable__label-arrow\">StandardScaler</label><div class=\"sk-toggleable__content\"><pre>StandardScaler()</pre></div></div></div></div></div>"
      ],
      "text/plain": [
       "StandardScaler()"
      ]
     },
     "execution_count": 216,
     "metadata": {},
     "output_type": "execute_result"
    }
   ],
   "source": [
    "std = StandardScaler()\n",
    "std.fit(x_train)"
   ]
  },
  {
   "cell_type": "markdown",
   "id": "26de9e46",
   "metadata": {},
   "source": [
    "### For Training Data Evaluation"
   ]
  },
  {
   "cell_type": "code",
   "execution_count": 219,
   "id": "01525cb7",
   "metadata": {},
   "outputs": [
    {
     "data": {
      "text/html": [
       "<div>\n",
       "<style scoped>\n",
       "    .dataframe tbody tr th:only-of-type {\n",
       "        vertical-align: middle;\n",
       "    }\n",
       "\n",
       "    .dataframe tbody tr th {\n",
       "        vertical-align: top;\n",
       "    }\n",
       "\n",
       "    .dataframe thead th {\n",
       "        text-align: right;\n",
       "    }\n",
       "</style>\n",
       "<table border=\"1\" class=\"dataframe\">\n",
       "  <thead>\n",
       "    <tr style=\"text-align: right;\">\n",
       "      <th></th>\n",
       "      <th>CRIM</th>\n",
       "      <th>ZN</th>\n",
       "      <th>INDUS</th>\n",
       "      <th>CHAS</th>\n",
       "      <th>NOX</th>\n",
       "      <th>RM</th>\n",
       "      <th>AGE</th>\n",
       "      <th>DIS</th>\n",
       "      <th>RAD</th>\n",
       "      <th>TAX</th>\n",
       "      <th>PTRATIO</th>\n",
       "      <th>B</th>\n",
       "      <th>LSTAT</th>\n",
       "    </tr>\n",
       "  </thead>\n",
       "  <tbody>\n",
       "    <tr>\n",
       "      <th>0</th>\n",
       "      <td>-0.593329</td>\n",
       "      <td>-0.486922</td>\n",
       "      <td>-0.988351</td>\n",
       "      <td>-0.445590</td>\n",
       "      <td>-0.672654</td>\n",
       "      <td>-1.609365</td>\n",
       "      <td>-1.005500</td>\n",
       "      <td>-1.372028</td>\n",
       "      <td>-1.449435</td>\n",
       "      <td>-1.074048</td>\n",
       "      <td>-1.322573</td>\n",
       "      <td>-1.147371</td>\n",
       "      <td>-1.151767</td>\n",
       "    </tr>\n",
       "    <tr>\n",
       "      <th>1</th>\n",
       "      <td>-0.424957</td>\n",
       "      <td>-0.489693</td>\n",
       "      <td>0.026164</td>\n",
       "      <td>-0.459529</td>\n",
       "      <td>-0.361634</td>\n",
       "      <td>1.218098</td>\n",
       "      <td>-0.552107</td>\n",
       "      <td>0.153567</td>\n",
       "      <td>1.954594</td>\n",
       "      <td>0.730332</td>\n",
       "      <td>0.743327</td>\n",
       "      <td>0.835310</td>\n",
       "      <td>-0.488732</td>\n",
       "    </tr>\n",
       "  </tbody>\n",
       "</table>\n",
       "</div>"
      ],
      "text/plain": [
       "       CRIM        ZN     INDUS      CHAS       NOX        RM       AGE  \\\n",
       "0 -0.593329 -0.486922 -0.988351 -0.445590 -0.672654 -1.609365 -1.005500   \n",
       "1 -0.424957 -0.489693  0.026164 -0.459529 -0.361634  1.218098 -0.552107   \n",
       "\n",
       "        DIS       RAD       TAX   PTRATIO         B     LSTAT  \n",
       "0 -1.372028 -1.449435 -1.074048 -1.322573 -1.147371 -1.151767  \n",
       "1  0.153567  1.954594  0.730332  0.743327  0.835310 -0.488732  "
      ]
     },
     "execution_count": 219,
     "metadata": {},
     "output_type": "execute_result"
    }
   ],
   "source": [
    "array_train = std.transform(x_train)\n",
    "std_x_train = pd.DataFrame(array_train, columns = x_train.columns)\n",
    "\n",
    "std_x_train.head(2)"
   ]
  },
  {
   "cell_type": "code",
   "execution_count": 220,
   "id": "c2a3a969",
   "metadata": {},
   "outputs": [
    {
     "data": {
      "text/html": [
       "<style>#sk-container-id-5 {color: black;background-color: white;}#sk-container-id-5 pre{padding: 0;}#sk-container-id-5 div.sk-toggleable {background-color: white;}#sk-container-id-5 label.sk-toggleable__label {cursor: pointer;display: block;width: 100%;margin-bottom: 0;padding: 0.3em;box-sizing: border-box;text-align: center;}#sk-container-id-5 label.sk-toggleable__label-arrow:before {content: \"▸\";float: left;margin-right: 0.25em;color: #696969;}#sk-container-id-5 label.sk-toggleable__label-arrow:hover:before {color: black;}#sk-container-id-5 div.sk-estimator:hover label.sk-toggleable__label-arrow:before {color: black;}#sk-container-id-5 div.sk-toggleable__content {max-height: 0;max-width: 0;overflow: hidden;text-align: left;background-color: #f0f8ff;}#sk-container-id-5 div.sk-toggleable__content pre {margin: 0.2em;color: black;border-radius: 0.25em;background-color: #f0f8ff;}#sk-container-id-5 input.sk-toggleable__control:checked~div.sk-toggleable__content {max-height: 200px;max-width: 100%;overflow: auto;}#sk-container-id-5 input.sk-toggleable__control:checked~label.sk-toggleable__label-arrow:before {content: \"▾\";}#sk-container-id-5 div.sk-estimator input.sk-toggleable__control:checked~label.sk-toggleable__label {background-color: #d4ebff;}#sk-container-id-5 div.sk-label input.sk-toggleable__control:checked~label.sk-toggleable__label {background-color: #d4ebff;}#sk-container-id-5 input.sk-hidden--visually {border: 0;clip: rect(1px 1px 1px 1px);clip: rect(1px, 1px, 1px, 1px);height: 1px;margin: -1px;overflow: hidden;padding: 0;position: absolute;width: 1px;}#sk-container-id-5 div.sk-estimator {font-family: monospace;background-color: #f0f8ff;border: 1px dotted black;border-radius: 0.25em;box-sizing: border-box;margin-bottom: 0.5em;}#sk-container-id-5 div.sk-estimator:hover {background-color: #d4ebff;}#sk-container-id-5 div.sk-parallel-item::after {content: \"\";width: 100%;border-bottom: 1px solid gray;flex-grow: 1;}#sk-container-id-5 div.sk-label:hover label.sk-toggleable__label {background-color: #d4ebff;}#sk-container-id-5 div.sk-serial::before {content: \"\";position: absolute;border-left: 1px solid gray;box-sizing: border-box;top: 0;bottom: 0;left: 50%;z-index: 0;}#sk-container-id-5 div.sk-serial {display: flex;flex-direction: column;align-items: center;background-color: white;padding-right: 0.2em;padding-left: 0.2em;position: relative;}#sk-container-id-5 div.sk-item {position: relative;z-index: 1;}#sk-container-id-5 div.sk-parallel {display: flex;align-items: stretch;justify-content: center;background-color: white;position: relative;}#sk-container-id-5 div.sk-item::before, #sk-container-id-5 div.sk-parallel-item::before {content: \"\";position: absolute;border-left: 1px solid gray;box-sizing: border-box;top: 0;bottom: 0;left: 50%;z-index: -1;}#sk-container-id-5 div.sk-parallel-item {display: flex;flex-direction: column;z-index: 1;position: relative;background-color: white;}#sk-container-id-5 div.sk-parallel-item:first-child::after {align-self: flex-end;width: 50%;}#sk-container-id-5 div.sk-parallel-item:last-child::after {align-self: flex-start;width: 50%;}#sk-container-id-5 div.sk-parallel-item:only-child::after {width: 0;}#sk-container-id-5 div.sk-dashed-wrapped {border: 1px dashed gray;margin: 0 0.4em 0.5em 0.4em;box-sizing: border-box;padding-bottom: 0.4em;background-color: white;}#sk-container-id-5 div.sk-label label {font-family: monospace;font-weight: bold;display: inline-block;line-height: 1.2em;}#sk-container-id-5 div.sk-label-container {text-align: center;}#sk-container-id-5 div.sk-container {/* jupyter's `normalize.less` sets `[hidden] { display: none; }` but bootstrap.min.css set `[hidden] { display: none !important; }` so we also need the `!important` here to be able to override the default hidden behavior on the sphinx rendered scikit-learn.org. See: https://github.com/scikit-learn/scikit-learn/issues/21755 */display: inline-block !important;position: relative;}#sk-container-id-5 div.sk-text-repr-fallback {display: none;}</style><div id=\"sk-container-id-5\" class=\"sk-top-container\"><div class=\"sk-text-repr-fallback\"><pre>KNeighborsRegressor()</pre><b>In a Jupyter environment, please rerun this cell to show the HTML representation or trust the notebook. <br />On GitHub, the HTML representation is unable to render, please try loading this page with nbviewer.org.</b></div><div class=\"sk-container\" hidden><div class=\"sk-item\"><div class=\"sk-estimator sk-toggleable\"><input class=\"sk-toggleable__control sk-hidden--visually\" id=\"sk-estimator-id-5\" type=\"checkbox\" checked><label for=\"sk-estimator-id-5\" class=\"sk-toggleable__label sk-toggleable__label-arrow\">KNeighborsRegressor</label><div class=\"sk-toggleable__content\"><pre>KNeighborsRegressor()</pre></div></div></div></div></div>"
      ],
      "text/plain": [
       "KNeighborsRegressor()"
      ]
     },
     "execution_count": 220,
     "metadata": {},
     "output_type": "execute_result"
    }
   ],
   "source": [
    "KNN_std = KNeighborsRegressor()\n",
    "KNN_std.fit(std_x_train, y_train)"
   ]
  },
  {
   "cell_type": "code",
   "execution_count": 223,
   "id": "fc84fef8",
   "metadata": {},
   "outputs": [
    {
     "name": "stdout",
     "output_type": "stream",
     "text": [
      "MSE : 5.7091218997361475\n",
      "RMSE : 2.3893768852435455\n",
      "MAE : 1.2398416886543537\n",
      "r2 : 0.9634570832821273\n"
     ]
    }
   ],
   "source": [
    "y_pred_train = KNN_std.predict(std_x_train)\n",
    "\n",
    "MSE = mse(y_train, y_pred_train)\n",
    "print('MSE :', MSE)\n",
    "\n",
    "RMSE = np.sqrt(MSE)\n",
    "print('RMSE :', RMSE)\n",
    "\n",
    "MAE = mae(y_train, y_pred_train)\n",
    "print('MAE :', MAE)\n",
    "\n",
    "r2= r2_score(y_train, y_pred_train)\n",
    "print('r2 :', r2)"
   ]
  },
  {
   "cell_type": "markdown",
   "id": "c400ba90",
   "metadata": {},
   "source": [
    "## Training >>> r2_LR=0.972, r2_KNN= 0.916, KNN_ns = 0.958, KNN_std= 0.963"
   ]
  },
  {
   "cell_type": "markdown",
   "id": "1360843f",
   "metadata": {},
   "source": [
    "### For Testing Data Evaluation"
   ]
  },
  {
   "cell_type": "code",
   "execution_count": 228,
   "id": "56278268",
   "metadata": {},
   "outputs": [
    {
     "data": {
      "text/html": [
       "<div>\n",
       "<style scoped>\n",
       "    .dataframe tbody tr th:only-of-type {\n",
       "        vertical-align: middle;\n",
       "    }\n",
       "\n",
       "    .dataframe tbody tr th {\n",
       "        vertical-align: top;\n",
       "    }\n",
       "\n",
       "    .dataframe thead th {\n",
       "        text-align: right;\n",
       "    }\n",
       "</style>\n",
       "<table border=\"1\" class=\"dataframe\">\n",
       "  <thead>\n",
       "    <tr style=\"text-align: right;\">\n",
       "      <th></th>\n",
       "      <th>CRIM</th>\n",
       "      <th>ZN</th>\n",
       "      <th>INDUS</th>\n",
       "      <th>CHAS</th>\n",
       "      <th>NOX</th>\n",
       "      <th>RM</th>\n",
       "      <th>AGE</th>\n",
       "      <th>DIS</th>\n",
       "      <th>RAD</th>\n",
       "      <th>TAX</th>\n",
       "      <th>PTRATIO</th>\n",
       "      <th>B</th>\n",
       "      <th>LSTAT</th>\n",
       "    </tr>\n",
       "  </thead>\n",
       "  <tbody>\n",
       "    <tr>\n",
       "      <th>0</th>\n",
       "      <td>-0.585887</td>\n",
       "      <td>3.568103</td>\n",
       "      <td>0.008096</td>\n",
       "      <td>-0.459529</td>\n",
       "      <td>-0.407564</td>\n",
       "      <td>0.813689</td>\n",
       "      <td>0.072828</td>\n",
       "      <td>1.116928</td>\n",
       "      <td>1.527852</td>\n",
       "      <td>0.859646</td>\n",
       "      <td>0.588772</td>\n",
       "      <td>0.931112</td>\n",
       "      <td>0.460702</td>\n",
       "    </tr>\n",
       "    <tr>\n",
       "      <th>1</th>\n",
       "      <td>-0.289052</td>\n",
       "      <td>1.897246</td>\n",
       "      <td>-0.340106</td>\n",
       "      <td>-0.459529</td>\n",
       "      <td>-0.269127</td>\n",
       "      <td>1.480816</td>\n",
       "      <td>1.437538</td>\n",
       "      <td>-0.340994</td>\n",
       "      <td>0.674368</td>\n",
       "      <td>0.477582</td>\n",
       "      <td>0.220217</td>\n",
       "      <td>0.884419</td>\n",
       "      <td>-0.150134</td>\n",
       "    </tr>\n",
       "  </tbody>\n",
       "</table>\n",
       "</div>"
      ],
      "text/plain": [
       "       CRIM        ZN     INDUS      CHAS       NOX        RM       AGE  \\\n",
       "0 -0.585887  3.568103  0.008096 -0.459529 -0.407564  0.813689  0.072828   \n",
       "1 -0.289052  1.897246 -0.340106 -0.459529 -0.269127  1.480816  1.437538   \n",
       "\n",
       "        DIS       RAD       TAX   PTRATIO         B     LSTAT  \n",
       "0  1.116928  1.527852  0.859646  0.588772  0.931112  0.460702  \n",
       "1 -0.340994  0.674368  0.477582  0.220217  0.884419 -0.150134  "
      ]
     },
     "execution_count": 228,
     "metadata": {},
     "output_type": "execute_result"
    }
   ],
   "source": [
    "array_test = std.transform(x_test)\n",
    "std_x_test = pd.DataFrame(array_test, columns= x_test.columns)\n",
    "std_x_test.head(2)"
   ]
  },
  {
   "cell_type": "code",
   "execution_count": 232,
   "id": "21038de3",
   "metadata": {},
   "outputs": [
    {
     "name": "stdout",
     "output_type": "stream",
     "text": [
      "MSE : 15.550692913385832\n",
      "RMSE : 3.9434366881421887\n",
      "MAE : 1.8688188976377957\n",
      "r2 : 0.9043024287680033\n"
     ]
    }
   ],
   "source": [
    "y_pred_test = KNN_std.predict(std_x_test)\n",
    "\n",
    "MSE = mse(y_test, y_pred_test)\n",
    "print('MSE :', MSE)\n",
    "\n",
    "RMSE = np.sqrt(MSE)\n",
    "print('RMSE :', RMSE)\n",
    "\n",
    "MAE= mae(y_test, y_pred_test) \n",
    "print('MAE :', MAE)\n",
    "\n",
    "r2= r2_score(y_test, y_pred_test)\n",
    "print('r2 :', r2)"
   ]
  },
  {
   "cell_type": "markdown",
   "id": "0ecdf873",
   "metadata": {},
   "source": [
    "## Testing >>> LR_r2=0.962, KNN_r2= 0.863, KNN_NS = 0.898, KNN_std= 0.904"
   ]
  },
  {
   "cell_type": "markdown",
   "id": "4f7f3833",
   "metadata": {},
   "source": [
    "# Decision Tree Regression"
   ]
  },
  {
   "cell_type": "code",
   "execution_count": 241,
   "id": "b50f05ab",
   "metadata": {},
   "outputs": [],
   "source": [
    "from sklearn.tree import DecisionTreeRegressor, plot_tree"
   ]
  },
  {
   "cell_type": "code",
   "execution_count": 235,
   "id": "60443663",
   "metadata": {},
   "outputs": [],
   "source": [
    "DT = DecisionTreeRegressor()"
   ]
  },
  {
   "cell_type": "code",
   "execution_count": 237,
   "id": "df7eabea",
   "metadata": {},
   "outputs": [
    {
     "data": {
      "text/html": [
       "<style>#sk-container-id-7 {color: black;background-color: white;}#sk-container-id-7 pre{padding: 0;}#sk-container-id-7 div.sk-toggleable {background-color: white;}#sk-container-id-7 label.sk-toggleable__label {cursor: pointer;display: block;width: 100%;margin-bottom: 0;padding: 0.3em;box-sizing: border-box;text-align: center;}#sk-container-id-7 label.sk-toggleable__label-arrow:before {content: \"▸\";float: left;margin-right: 0.25em;color: #696969;}#sk-container-id-7 label.sk-toggleable__label-arrow:hover:before {color: black;}#sk-container-id-7 div.sk-estimator:hover label.sk-toggleable__label-arrow:before {color: black;}#sk-container-id-7 div.sk-toggleable__content {max-height: 0;max-width: 0;overflow: hidden;text-align: left;background-color: #f0f8ff;}#sk-container-id-7 div.sk-toggleable__content pre {margin: 0.2em;color: black;border-radius: 0.25em;background-color: #f0f8ff;}#sk-container-id-7 input.sk-toggleable__control:checked~div.sk-toggleable__content {max-height: 200px;max-width: 100%;overflow: auto;}#sk-container-id-7 input.sk-toggleable__control:checked~label.sk-toggleable__label-arrow:before {content: \"▾\";}#sk-container-id-7 div.sk-estimator input.sk-toggleable__control:checked~label.sk-toggleable__label {background-color: #d4ebff;}#sk-container-id-7 div.sk-label input.sk-toggleable__control:checked~label.sk-toggleable__label {background-color: #d4ebff;}#sk-container-id-7 input.sk-hidden--visually {border: 0;clip: rect(1px 1px 1px 1px);clip: rect(1px, 1px, 1px, 1px);height: 1px;margin: -1px;overflow: hidden;padding: 0;position: absolute;width: 1px;}#sk-container-id-7 div.sk-estimator {font-family: monospace;background-color: #f0f8ff;border: 1px dotted black;border-radius: 0.25em;box-sizing: border-box;margin-bottom: 0.5em;}#sk-container-id-7 div.sk-estimator:hover {background-color: #d4ebff;}#sk-container-id-7 div.sk-parallel-item::after {content: \"\";width: 100%;border-bottom: 1px solid gray;flex-grow: 1;}#sk-container-id-7 div.sk-label:hover label.sk-toggleable__label {background-color: #d4ebff;}#sk-container-id-7 div.sk-serial::before {content: \"\";position: absolute;border-left: 1px solid gray;box-sizing: border-box;top: 0;bottom: 0;left: 50%;z-index: 0;}#sk-container-id-7 div.sk-serial {display: flex;flex-direction: column;align-items: center;background-color: white;padding-right: 0.2em;padding-left: 0.2em;position: relative;}#sk-container-id-7 div.sk-item {position: relative;z-index: 1;}#sk-container-id-7 div.sk-parallel {display: flex;align-items: stretch;justify-content: center;background-color: white;position: relative;}#sk-container-id-7 div.sk-item::before, #sk-container-id-7 div.sk-parallel-item::before {content: \"\";position: absolute;border-left: 1px solid gray;box-sizing: border-box;top: 0;bottom: 0;left: 50%;z-index: -1;}#sk-container-id-7 div.sk-parallel-item {display: flex;flex-direction: column;z-index: 1;position: relative;background-color: white;}#sk-container-id-7 div.sk-parallel-item:first-child::after {align-self: flex-end;width: 50%;}#sk-container-id-7 div.sk-parallel-item:last-child::after {align-self: flex-start;width: 50%;}#sk-container-id-7 div.sk-parallel-item:only-child::after {width: 0;}#sk-container-id-7 div.sk-dashed-wrapped {border: 1px dashed gray;margin: 0 0.4em 0.5em 0.4em;box-sizing: border-box;padding-bottom: 0.4em;background-color: white;}#sk-container-id-7 div.sk-label label {font-family: monospace;font-weight: bold;display: inline-block;line-height: 1.2em;}#sk-container-id-7 div.sk-label-container {text-align: center;}#sk-container-id-7 div.sk-container {/* jupyter's `normalize.less` sets `[hidden] { display: none; }` but bootstrap.min.css set `[hidden] { display: none !important; }` so we also need the `!important` here to be able to override the default hidden behavior on the sphinx rendered scikit-learn.org. See: https://github.com/scikit-learn/scikit-learn/issues/21755 */display: inline-block !important;position: relative;}#sk-container-id-7 div.sk-text-repr-fallback {display: none;}</style><div id=\"sk-container-id-7\" class=\"sk-top-container\"><div class=\"sk-text-repr-fallback\"><pre>DecisionTreeRegressor()</pre><b>In a Jupyter environment, please rerun this cell to show the HTML representation or trust the notebook. <br />On GitHub, the HTML representation is unable to render, please try loading this page with nbviewer.org.</b></div><div class=\"sk-container\" hidden><div class=\"sk-item\"><div class=\"sk-estimator sk-toggleable\"><input class=\"sk-toggleable__control sk-hidden--visually\" id=\"sk-estimator-id-7\" type=\"checkbox\" checked><label for=\"sk-estimator-id-7\" class=\"sk-toggleable__label sk-toggleable__label-arrow\">DecisionTreeRegressor</label><div class=\"sk-toggleable__content\"><pre>DecisionTreeRegressor()</pre></div></div></div></div></div>"
      ],
      "text/plain": [
       "DecisionTreeRegressor()"
      ]
     },
     "execution_count": 237,
     "metadata": {},
     "output_type": "execute_result"
    }
   ],
   "source": [
    "DT.fit(x_train, y_train)"
   ]
  },
  {
   "cell_type": "code",
   "execution_count": 240,
   "id": "5918a640",
   "metadata": {},
   "outputs": [
    {
     "name": "stdout",
     "output_type": "stream",
     "text": [
      "MSE : 1.440636251276468e-34\n",
      "RMSE : 1.2002650754214538e-17\n",
      "MAE : 6.041780971739803e-18\n",
      "r2 : 1.0\n"
     ]
    }
   ],
   "source": [
    "#Training data Eval..\n",
    "y_pred_train = DT.predict(x_train)\n",
    "\n",
    "MSE = mse(y_train, y_pred_train)\n",
    "print('MSE :', MSE)\n",
    "\n",
    "RMSE = np.sqrt(MSE)\n",
    "print('RMSE :', RMSE)\n",
    "\n",
    "MAE= mae(y_train, y_pred_train)\n",
    "print('MAE :', MAE)\n",
    "\n",
    "r2= r2_score(y_train, y_pred_train)\n",
    "print('r2 :', r2)"
   ]
  },
  {
   "cell_type": "markdown",
   "id": "698996e3",
   "metadata": {},
   "source": [
    "### Training >>> r2_LR=0.972, r2_KNN= 0.916, KNN_ns = 0.958, KNN_std= 0.963, DT= 1.0"
   ]
  },
  {
   "cell_type": "code",
   "execution_count": 239,
   "id": "900d7840",
   "metadata": {},
   "outputs": [
    {
     "name": "stdout",
     "output_type": "stream",
     "text": [
      "MSE : 6.0058267716535445\n",
      "RMSE : 2.4506788389451493\n",
      "MAE : 1.3559055118110235\n",
      "r2 : 0.9630406800205914\n"
     ]
    }
   ],
   "source": [
    "#Testing data Eval..\n",
    "y_pred_test = DT.predict(x_test)\n",
    "\n",
    "MSE = mse(y_test, y_pred_test)\n",
    "print('MSE :', MSE)\n",
    "\n",
    "RMSE = np.sqrt(MSE)\n",
    "print('RMSE :', RMSE)\n",
    "\n",
    "MAE= mae(y_test, y_pred_test)\n",
    "print('MAE :', MAE)\n",
    "\n",
    "r2= r2_score(y_test, y_pred_test)\n",
    "print('r2 :', r2)"
   ]
  },
  {
   "cell_type": "markdown",
   "id": "815c5030",
   "metadata": {},
   "source": [
    "### Testing >>> LR_r2=0.962, KNN_r2= 0.863, KNN_NS = 0.898, KNN_std= 0.904, DT=0.963"
   ]
  },
  {
   "cell_type": "code",
   "execution_count": 245,
   "id": "8664ef1f",
   "metadata": {},
   "outputs": [
    {
     "data": {
      "image/png": "[encoded data removed]",
      "text/plain": [
       "<Figure size 432x288 with 1 Axes>"
      ]
     },
     "metadata": {
      "needs_background": "light"
     },
     "output_type": "display_data"
    }
   ],
   "source": [
    "plot_tree(DT, feature_names=x.columns, filled=True)\n",
    "plt.savefig('DT-without_hyper.png')"
   ]
  },
  {
   "cell_type": "code",
   "execution_count": 280,
   "id": "5ce80272",
   "metadata": {},
   "outputs": [
    {
     "data": {
      "text/plain": [
       "array([1.83954371e-03, 2.15704527e-04, 1.34574314e-04, 7.68520435e-01,\n",
       "       1.23338234e-02, 1.68369736e-01, 2.61731038e-03, 2.18384412e-03,\n",
       "       3.26029865e-03, 3.29481774e-03, 6.63280224e-03, 3.19961381e-03,\n",
       "       2.73974969e-02])"
      ]
     },
     "execution_count": 280,
     "metadata": {},
     "output_type": "execute_result"
    }
   ],
   "source": [
    "DT.feature_importances_"
   ]
  },
  {
   "cell_type": "markdown",
   "id": "d0775c93",
   "metadata": {},
   "source": [
    "### Hyperparameter Tunning for DT"
   ]
  },
  {
   "cell_type": "code",
   "execution_count": 253,
   "id": "5117703e",
   "metadata": {},
   "outputs": [],
   "source": [
    "DT_reg = DecisionTreeRegressor()"
   ]
  },
  {
   "cell_type": "raw",
   "id": "e6fb79b1",
   "metadata": {},
   "source": [
    "Init signature:\n",
    "DecisionTreeRegressor(\n",
    "    *,\n",
    "    criterion='squared_error',\n",
    "    splitter='best',\n",
    "    max_depth=None,\n",
    "    min_samples_split=2,\n",
    "    min_samples_leaf=1,\n",
    "    min_weight_fraction_leaf=0.0,\n",
    "    max_features=None,\n",
    "    random_state=None,\n",
    "    max_leaf_nodes=None,\n",
    "    min_impurity_decrease=0.0,\n",
    "    ccp_alpha=0.0,\n",
    ")"
   ]
  },
  {
   "cell_type": "code",
   "execution_count": 257,
   "id": "865b9d97",
   "metadata": {},
   "outputs": [
    {
     "name": "stderr",
     "output_type": "stream",
     "text": [
      "C:\\Users\\sai\\anaconda3\\lib\\site-packages\\sklearn\\tree\\_classes.py:404: FutureWarning: Criterion 'mae' was deprecated in v1.0 and will be removed in version 1.2. Use `criterion='absolute_error'` which is equivalent.\n",
      "  warnings.warn(\n",
      "C:\\Users\\sai\\anaconda3\\lib\\site-packages\\sklearn\\tree\\_classes.py:404: FutureWarning: Criterion 'mae' was deprecated in v1.0 and will be removed in version 1.2. Use `criterion='absolute_error'` which is equivalent.\n",
      "  warnings.warn(\n",
      "C:\\Users\\sai\\anaconda3\\lib\\site-packages\\sklearn\\tree\\_classes.py:404: FutureWarning: Criterion 'mae' was deprecated in v1.0 and will be removed in version 1.2. Use `criterion='absolute_error'` which is equivalent.\n",
      "  warnings.warn(\n",
      "C:\\Users\\sai\\anaconda3\\lib\\site-packages\\sklearn\\tree\\_classes.py:404: FutureWarning: Criterion 'mae' was deprecated in v1.0 and will be removed in version 1.2. Use `criterion='absolute_error'` which is equivalent.\n",
      "  warnings.warn(\n",
      "C:\\Users\\sai\\anaconda3\\lib\\site-packages\\sklearn\\tree\\_classes.py:404: FutureWarning: Criterion 'mae' was deprecated in v1.0 and will be removed in version 1.2. Use `criterion='absolute_error'` which is equivalent.\n",
      "  warnings.warn(\n",
      "C:\\Users\\sai\\anaconda3\\lib\\site-packages\\sklearn\\tree\\_classes.py:404: FutureWarning: Criterion 'mae' was deprecated in v1.0 and will be removed in version 1.2. Use `criterion='absolute_error'` which is equivalent.\n",
      "  warnings.warn(\n",
      "C:\\Users\\sai\\anaconda3\\lib\\site-packages\\sklearn\\tree\\_classes.py:404: FutureWarning: Criterion 'mae' was deprecated in v1.0 and will be removed in version 1.2. Use `criterion='absolute_error'` which is equivalent.\n",
      "  warnings.warn(\n",
      "C:\\Users\\sai\\anaconda3\\lib\\site-packages\\sklearn\\tree\\_classes.py:404: FutureWarning: Criterion 'mae' was deprecated in v1.0 and will be removed in version 1.2. Use `criterion='absolute_error'` which is equivalent.\n",
      "  warnings.warn(\n",
      "C:\\Users\\sai\\anaconda3\\lib\\site-packages\\sklearn\\tree\\_classes.py:404: FutureWarning: Criterion 'mae' was deprecated in v1.0 and will be removed in version 1.2. Use `criterion='absolute_error'` which is equivalent.\n",
      "  warnings.warn(\n",
      "C:\\Users\\sai\\anaconda3\\lib\\site-packages\\sklearn\\tree\\_classes.py:404: FutureWarning: Criterion 'mae' was deprecated in v1.0 and will be removed in version 1.2. Use `criterion='absolute_error'` which is equivalent.\n",
      "  warnings.warn(\n",
      "C:\\Users\\sai\\anaconda3\\lib\\site-packages\\sklearn\\tree\\_classes.py:404: FutureWarning: Criterion 'mae' was deprecated in v1.0 and will be removed in version 1.2. Use `criterion='absolute_error'` which is equivalent.\n",
      "  warnings.warn(\n",
      "C:\\Users\\sai\\anaconda3\\lib\\site-packages\\sklearn\\tree\\_classes.py:404: FutureWarning: Criterion 'mae' was deprecated in v1.0 and will be removed in version 1.2. Use `criterion='absolute_error'` which is equivalent.\n",
      "  warnings.warn(\n",
      "C:\\Users\\sai\\anaconda3\\lib\\site-packages\\sklearn\\tree\\_classes.py:404: FutureWarning: Criterion 'mae' was deprecated in v1.0 and will be removed in version 1.2. Use `criterion='absolute_error'` which is equivalent.\n",
      "  warnings.warn(\n",
      "C:\\Users\\sai\\anaconda3\\lib\\site-packages\\sklearn\\tree\\_classes.py:404: FutureWarning: Criterion 'mae' was deprecated in v1.0 and will be removed in version 1.2. Use `criterion='absolute_error'` which is equivalent.\n",
      "  warnings.warn(\n",
      "C:\\Users\\sai\\anaconda3\\lib\\site-packages\\sklearn\\tree\\_classes.py:404: FutureWarning: Criterion 'mae' was deprecated in v1.0 and will be removed in version 1.2. Use `criterion='absolute_error'` which is equivalent.\n",
      "  warnings.warn(\n",
      "C:\\Users\\sai\\anaconda3\\lib\\site-packages\\sklearn\\tree\\_classes.py:404: FutureWarning: Criterion 'mae' was deprecated in v1.0 and will be removed in version 1.2. Use `criterion='absolute_error'` which is equivalent.\n",
      "  warnings.warn(\n",
      "C:\\Users\\sai\\anaconda3\\lib\\site-packages\\sklearn\\tree\\_classes.py:404: FutureWarning: Criterion 'mae' was deprecated in v1.0 and will be removed in version 1.2. Use `criterion='absolute_error'` which is equivalent.\n",
      "  warnings.warn(\n",
      "C:\\Users\\sai\\anaconda3\\lib\\site-packages\\sklearn\\tree\\_classes.py:404: FutureWarning: Criterion 'mae' was deprecated in v1.0 and will be removed in version 1.2. Use `criterion='absolute_error'` which is equivalent.\n",
      "  warnings.warn(\n",
      "C:\\Users\\sai\\anaconda3\\lib\\site-packages\\sklearn\\tree\\_classes.py:404: FutureWarning: Criterion 'mae' was deprecated in v1.0 and will be removed in version 1.2. Use `criterion='absolute_error'` which is equivalent.\n",
      "  warnings.warn(\n",
      "C:\\Users\\sai\\anaconda3\\lib\\site-packages\\sklearn\\tree\\_classes.py:404: FutureWarning: Criterion 'mae' was deprecated in v1.0 and will be removed in version 1.2. Use `criterion='absolute_error'` which is equivalent.\n",
      "  warnings.warn(\n",
      "C:\\Users\\sai\\anaconda3\\lib\\site-packages\\sklearn\\tree\\_classes.py:404: FutureWarning: Criterion 'mae' was deprecated in v1.0 and will be removed in version 1.2. Use `criterion='absolute_error'` which is equivalent.\n",
      "  warnings.warn(\n",
      "C:\\Users\\sai\\anaconda3\\lib\\site-packages\\sklearn\\tree\\_classes.py:404: FutureWarning: Criterion 'mae' was deprecated in v1.0 and will be removed in version 1.2. Use `criterion='absolute_error'` which is equivalent.\n",
      "  warnings.warn(\n",
      "C:\\Users\\sai\\anaconda3\\lib\\site-packages\\sklearn\\tree\\_classes.py:404: FutureWarning: Criterion 'mae' was deprecated in v1.0 and will be removed in version 1.2. Use `criterion='absolute_error'` which is equivalent.\n",
      "  warnings.warn(\n",
      "C:\\Users\\sai\\anaconda3\\lib\\site-packages\\sklearn\\tree\\_classes.py:404: FutureWarning: Criterion 'mae' was deprecated in v1.0 and will be removed in version 1.2. Use `criterion='absolute_error'` which is equivalent.\n",
      "  warnings.warn(\n",
      "C:\\Users\\sai\\anaconda3\\lib\\site-packages\\sklearn\\tree\\_classes.py:404: FutureWarning: Criterion 'mae' was deprecated in v1.0 and will be removed in version 1.2. Use `criterion='absolute_error'` which is equivalent.\n",
      "  warnings.warn(\n",
      "C:\\Users\\sai\\anaconda3\\lib\\site-packages\\sklearn\\tree\\_classes.py:404: FutureWarning: Criterion 'mae' was deprecated in v1.0 and will be removed in version 1.2. Use `criterion='absolute_error'` which is equivalent.\n",
      "  warnings.warn(\n",
      "C:\\Users\\sai\\anaconda3\\lib\\site-packages\\sklearn\\tree\\_classes.py:404: FutureWarning: Criterion 'mae' was deprecated in v1.0 and will be removed in version 1.2. Use `criterion='absolute_error'` which is equivalent.\n",
      "  warnings.warn(\n",
      "C:\\Users\\sai\\anaconda3\\lib\\site-packages\\sklearn\\tree\\_classes.py:404: FutureWarning: Criterion 'mae' was deprecated in v1.0 and will be removed in version 1.2. Use `criterion='absolute_error'` which is equivalent.\n",
      "  warnings.warn(\n",
      "C:\\Users\\sai\\anaconda3\\lib\\site-packages\\sklearn\\tree\\_classes.py:404: FutureWarning: Criterion 'mae' was deprecated in v1.0 and will be removed in version 1.2. Use `criterion='absolute_error'` which is equivalent.\n",
      "  warnings.warn(\n",
      "C:\\Users\\sai\\anaconda3\\lib\\site-packages\\sklearn\\tree\\_classes.py:404: FutureWarning: Criterion 'mae' was deprecated in v1.0 and will be removed in version 1.2. Use `criterion='absolute_error'` which is equivalent.\n",
      "  warnings.warn(\n",
      "C:\\Users\\sai\\anaconda3\\lib\\site-packages\\sklearn\\tree\\_classes.py:397: FutureWarning: Criterion 'mse' was deprecated in v1.0 and will be removed in version 1.2. Use `criterion='squared_error'` which is equivalent.\n",
      "  warnings.warn(\n",
      "C:\\Users\\sai\\anaconda3\\lib\\site-packages\\sklearn\\tree\\_classes.py:397: FutureWarning: Criterion 'mse' was deprecated in v1.0 and will be removed in version 1.2. Use `criterion='squared_error'` which is equivalent.\n",
      "  warnings.warn(\n",
      "C:\\Users\\sai\\anaconda3\\lib\\site-packages\\sklearn\\tree\\_classes.py:397: FutureWarning: Criterion 'mse' was deprecated in v1.0 and will be removed in version 1.2. Use `criterion='squared_error'` which is equivalent.\n",
      "  warnings.warn(\n",
      "C:\\Users\\sai\\anaconda3\\lib\\site-packages\\sklearn\\tree\\_classes.py:397: FutureWarning: Criterion 'mse' was deprecated in v1.0 and will be removed in version 1.2. Use `criterion='squared_error'` which is equivalent.\n",
      "  warnings.warn(\n",
      "C:\\Users\\sai\\anaconda3\\lib\\site-packages\\sklearn\\tree\\_classes.py:397: FutureWarning: Criterion 'mse' was deprecated in v1.0 and will be removed in version 1.2. Use `criterion='squared_error'` which is equivalent.\n",
      "  warnings.warn(\n",
      "C:\\Users\\sai\\anaconda3\\lib\\site-packages\\sklearn\\tree\\_classes.py:397: FutureWarning: Criterion 'mse' was deprecated in v1.0 and will be removed in version 1.2. Use `criterion='squared_error'` which is equivalent.\n",
      "  warnings.warn(\n",
      "C:\\Users\\sai\\anaconda3\\lib\\site-packages\\sklearn\\tree\\_classes.py:397: FutureWarning: Criterion 'mse' was deprecated in v1.0 and will be removed in version 1.2. Use `criterion='squared_error'` which is equivalent.\n",
      "  warnings.warn(\n",
      "C:\\Users\\sai\\anaconda3\\lib\\site-packages\\sklearn\\tree\\_classes.py:397: FutureWarning: Criterion 'mse' was deprecated in v1.0 and will be removed in version 1.2. Use `criterion='squared_error'` which is equivalent.\n",
      "  warnings.warn(\n",
      "C:\\Users\\sai\\anaconda3\\lib\\site-packages\\sklearn\\tree\\_classes.py:397: FutureWarning: Criterion 'mse' was deprecated in v1.0 and will be removed in version 1.2. Use `criterion='squared_error'` which is equivalent.\n",
      "  warnings.warn(\n",
      "C:\\Users\\sai\\anaconda3\\lib\\site-packages\\sklearn\\tree\\_classes.py:397: FutureWarning: Criterion 'mse' was deprecated in v1.0 and will be removed in version 1.2. Use `criterion='squared_error'` which is equivalent.\n",
      "  warnings.warn(\n",
      "C:\\Users\\sai\\anaconda3\\lib\\site-packages\\sklearn\\tree\\_classes.py:404: FutureWarning: Criterion 'mae' was deprecated in v1.0 and will be removed in version 1.2. Use `criterion='absolute_error'` which is equivalent.\n",
      "  warnings.warn(\n",
      "C:\\Users\\sai\\anaconda3\\lib\\site-packages\\sklearn\\tree\\_classes.py:404: FutureWarning: Criterion 'mae' was deprecated in v1.0 and will be removed in version 1.2. Use `criterion='absolute_error'` which is equivalent.\n",
      "  warnings.warn(\n",
      "C:\\Users\\sai\\anaconda3\\lib\\site-packages\\sklearn\\tree\\_classes.py:404: FutureWarning: Criterion 'mae' was deprecated in v1.0 and will be removed in version 1.2. Use `criterion='absolute_error'` which is equivalent.\n",
      "  warnings.warn(\n",
      "C:\\Users\\sai\\anaconda3\\lib\\site-packages\\sklearn\\tree\\_classes.py:404: FutureWarning: Criterion 'mae' was deprecated in v1.0 and will be removed in version 1.2. Use `criterion='absolute_error'` which is equivalent.\n",
      "  warnings.warn(\n",
      "C:\\Users\\sai\\anaconda3\\lib\\site-packages\\sklearn\\tree\\_classes.py:404: FutureWarning: Criterion 'mae' was deprecated in v1.0 and will be removed in version 1.2. Use `criterion='absolute_error'` which is equivalent.\n",
      "  warnings.warn(\n",
      "C:\\Users\\sai\\anaconda3\\lib\\site-packages\\sklearn\\tree\\_classes.py:404: FutureWarning: Criterion 'mae' was deprecated in v1.0 and will be removed in version 1.2. Use `criterion='absolute_error'` which is equivalent.\n",
      "  warnings.warn(\n",
      "C:\\Users\\sai\\anaconda3\\lib\\site-packages\\sklearn\\tree\\_classes.py:404: FutureWarning: Criterion 'mae' was deprecated in v1.0 and will be removed in version 1.2. Use `criterion='absolute_error'` which is equivalent.\n",
      "  warnings.warn(\n",
      "C:\\Users\\sai\\anaconda3\\lib\\site-packages\\sklearn\\tree\\_classes.py:404: FutureWarning: Criterion 'mae' was deprecated in v1.0 and will be removed in version 1.2. Use `criterion='absolute_error'` which is equivalent.\n",
      "  warnings.warn(\n",
      "C:\\Users\\sai\\anaconda3\\lib\\site-packages\\sklearn\\tree\\_classes.py:404: FutureWarning: Criterion 'mae' was deprecated in v1.0 and will be removed in version 1.2. Use `criterion='absolute_error'` which is equivalent.\n",
      "  warnings.warn(\n"
     ]
    },
    {
     "name": "stderr",
     "output_type": "stream",
     "text": [
      "C:\\Users\\sai\\anaconda3\\lib\\site-packages\\sklearn\\tree\\_classes.py:404: FutureWarning: Criterion 'mae' was deprecated in v1.0 and will be removed in version 1.2. Use `criterion='absolute_error'` which is equivalent.\n",
      "  warnings.warn(\n",
      "C:\\Users\\sai\\anaconda3\\lib\\site-packages\\sklearn\\tree\\_classes.py:404: FutureWarning: Criterion 'mae' was deprecated in v1.0 and will be removed in version 1.2. Use `criterion='absolute_error'` which is equivalent.\n",
      "  warnings.warn(\n"
     ]
    },
    {
     "data": {
      "text/html": [
       "<style>#sk-container-id-8 {color: black;background-color: white;}#sk-container-id-8 pre{padding: 0;}#sk-container-id-8 div.sk-toggleable {background-color: white;}#sk-container-id-8 label.sk-toggleable__label {cursor: pointer;display: block;width: 100%;margin-bottom: 0;padding: 0.3em;box-sizing: border-box;text-align: center;}#sk-container-id-8 label.sk-toggleable__label-arrow:before {content: \"▸\";float: left;margin-right: 0.25em;color: #696969;}#sk-container-id-8 label.sk-toggleable__label-arrow:hover:before {color: black;}#sk-container-id-8 div.sk-estimator:hover label.sk-toggleable__label-arrow:before {color: black;}#sk-container-id-8 div.sk-toggleable__content {max-height: 0;max-width: 0;overflow: hidden;text-align: left;background-color: #f0f8ff;}#sk-container-id-8 div.sk-toggleable__content pre {margin: 0.2em;color: black;border-radius: 0.25em;background-color: #f0f8ff;}#sk-container-id-8 input.sk-toggleable__control:checked~div.sk-toggleable__content {max-height: 200px;max-width: 100%;overflow: auto;}#sk-container-id-8 input.sk-toggleable__control:checked~label.sk-toggleable__label-arrow:before {content: \"▾\";}#sk-container-id-8 div.sk-estimator input.sk-toggleable__control:checked~label.sk-toggleable__label {background-color: #d4ebff;}#sk-container-id-8 div.sk-label input.sk-toggleable__control:checked~label.sk-toggleable__label {background-color: #d4ebff;}#sk-container-id-8 input.sk-hidden--visually {border: 0;clip: rect(1px 1px 1px 1px);clip: rect(1px, 1px, 1px, 1px);height: 1px;margin: -1px;overflow: hidden;padding: 0;position: absolute;width: 1px;}#sk-container-id-8 div.sk-estimator {font-family: monospace;background-color: #f0f8ff;border: 1px dotted black;border-radius: 0.25em;box-sizing: border-box;margin-bottom: 0.5em;}#sk-container-id-8 div.sk-estimator:hover {background-color: #d4ebff;}#sk-container-id-8 div.sk-parallel-item::after {content: \"\";width: 100%;border-bottom: 1px solid gray;flex-grow: 1;}#sk-container-id-8 div.sk-label:hover label.sk-toggleable__label {background-color: #d4ebff;}#sk-container-id-8 div.sk-serial::before {content: \"\";position: absolute;border-left: 1px solid gray;box-sizing: border-box;top: 0;bottom: 0;left: 50%;z-index: 0;}#sk-container-id-8 div.sk-serial {display: flex;flex-direction: column;align-items: center;background-color: white;padding-right: 0.2em;padding-left: 0.2em;position: relative;}#sk-container-id-8 div.sk-item {position: relative;z-index: 1;}#sk-container-id-8 div.sk-parallel {display: flex;align-items: stretch;justify-content: center;background-color: white;position: relative;}#sk-container-id-8 div.sk-item::before, #sk-container-id-8 div.sk-parallel-item::before {content: \"\";position: absolute;border-left: 1px solid gray;box-sizing: border-box;top: 0;bottom: 0;left: 50%;z-index: -1;}#sk-container-id-8 div.sk-parallel-item {display: flex;flex-direction: column;z-index: 1;position: relative;background-color: white;}#sk-container-id-8 div.sk-parallel-item:first-child::after {align-self: flex-end;width: 50%;}#sk-container-id-8 div.sk-parallel-item:last-child::after {align-self: flex-start;width: 50%;}#sk-container-id-8 div.sk-parallel-item:only-child::after {width: 0;}#sk-container-id-8 div.sk-dashed-wrapped {border: 1px dashed gray;margin: 0 0.4em 0.5em 0.4em;box-sizing: border-box;padding-bottom: 0.4em;background-color: white;}#sk-container-id-8 div.sk-label label {font-family: monospace;font-weight: bold;display: inline-block;line-height: 1.2em;}#sk-container-id-8 div.sk-label-container {text-align: center;}#sk-container-id-8 div.sk-container {/* jupyter's `normalize.less` sets `[hidden] { display: none; }` but bootstrap.min.css set `[hidden] { display: none !important; }` so we also need the `!important` here to be able to override the default hidden behavior on the sphinx rendered scikit-learn.org. See: https://github.com/scikit-learn/scikit-learn/issues/21755 */display: inline-block !important;position: relative;}#sk-container-id-8 div.sk-text-repr-fallback {display: none;}</style><div id=\"sk-container-id-8\" class=\"sk-top-container\"><div class=\"sk-text-repr-fallback\"><pre>DecisionTreeRegressor(criterion=&#x27;mae&#x27;, max_depth=13, min_samples_leaf=11,\n",
       "                      min_samples_split=10)</pre><b>In a Jupyter environment, please rerun this cell to show the HTML representation or trust the notebook. <br />On GitHub, the HTML representation is unable to render, please try loading this page with nbviewer.org.</b></div><div class=\"sk-container\" hidden><div class=\"sk-item\"><div class=\"sk-estimator sk-toggleable\"><input class=\"sk-toggleable__control sk-hidden--visually\" id=\"sk-estimator-id-8\" type=\"checkbox\" checked><label for=\"sk-estimator-id-8\" class=\"sk-toggleable__label sk-toggleable__label-arrow\">DecisionTreeRegressor</label><div class=\"sk-toggleable__content\"><pre>DecisionTreeRegressor(criterion=&#x27;mae&#x27;, max_depth=13, min_samples_leaf=11,\n",
       "                      min_samples_split=10)</pre></div></div></div></div></div>"
      ],
      "text/plain": [
       "DecisionTreeRegressor(criterion='mae', max_depth=13, min_samples_leaf=11,\n",
       "                      min_samples_split=10)"
      ]
     },
     "execution_count": 257,
     "metadata": {},
     "output_type": "execute_result"
    }
   ],
   "source": [
    "hyperparameter =   {'criterion' : ['mse','mae'],\n",
    "                    'max_depth' : np.arange(3,30),\n",
    "                    'min_samples_split' : np.arange(2,20),\n",
    "                    'min_samples_leaf' : np.arange(2,20)}\n",
    "\n",
    "from sklearn.model_selection import RandomizedSearchCV, GridSearchCV\n",
    "\n",
    "DT_rs_cv = RandomizedSearchCV(DT_reg, hyperparameter, cv=5)\n",
    "\n",
    "DT_rs_cv.fit(x_train, y_train)\n",
    "\n",
    "DT_rs_cv.best_estimator_"
   ]
  },
  {
   "cell_type": "code",
   "execution_count": null,
   "id": "f75ac874",
   "metadata": {},
   "outputs": [],
   "source": []
  },
  {
   "cell_type": "code",
   "execution_count": 258,
   "id": "0d83d44b",
   "metadata": {},
   "outputs": [
    {
     "name": "stdout",
     "output_type": "stream",
     "text": [
      "MSE : 4.18072405095917\n",
      "RMSE : 2.044681894808865\n",
      "MAE : 1.0925260665584478\n",
      "r2 : 0.9732400440036727\n"
     ]
    }
   ],
   "source": [
    "# Evaluate Training Dta\n",
    "\n",
    "y_pred_train = DT_rs_cv.predict(x_train)\n",
    "\n",
    "MSE = mse(y_train, y_pred_train)\n",
    "print('MSE :', MSE)\n",
    "\n",
    "RMSE = np.sqrt(MSE)\n",
    "print('RMSE :', RMSE)\n",
    "\n",
    "MAE= mae(y_train, y_pred_train)\n",
    "print('MAE :', MAE)\n",
    "\n",
    "r2= r2_score(y_train, y_pred_train)\n",
    "print('r2 :', r2)"
   ]
  },
  {
   "cell_type": "markdown",
   "id": "654e60ea",
   "metadata": {},
   "source": [
    "### Training >>> r2_LR=0.972, r2_KNN= 0.916, KNN_ns = 0.958, KNN_std= 0.963, DT= 1.0, DT_hype=0.973"
   ]
  },
  {
   "cell_type": "code",
   "execution_count": 259,
   "id": "5ce5bece",
   "metadata": {},
   "outputs": [
    {
     "name": "stdout",
     "output_type": "stream",
     "text": [
      "MSE : 6.086839400223476\n",
      "RMSE : 2.4671520829133082\n",
      "MAE : 1.3603688567434091\n",
      "r2 : 0.9625421355610974\n"
     ]
    }
   ],
   "source": [
    "# Evaluate Testing Data\n",
    "\n",
    "y_pred_test = DT_rs_cv.predict(x_test)\n",
    "\n",
    "MSE = mse(y_test, y_pred_test)\n",
    "print('MSE :', MSE)\n",
    "\n",
    "RMSE = np.sqrt(MSE)\n",
    "print('RMSE :', RMSE)\n",
    "\n",
    "MAE= mae(y_test, y_pred_test)\n",
    "print('MAE :', MAE)\n",
    "\n",
    "r2= r2_score(y_test, y_pred_test)\n",
    "print('r2 :', r2)"
   ]
  },
  {
   "cell_type": "markdown",
   "id": "03974d08",
   "metadata": {},
   "source": [
    "### Testing >>> LR_r2=0.962, KNN_r2= 0.863, KNN_NS = 0.898, KNN_std= 0.904, DT=0.963, DT_hyper=0.963"
   ]
  },
  {
   "cell_type": "markdown",
   "id": "5a27a140",
   "metadata": {},
   "source": [
    "# Pruning"
   ]
  },
  {
   "cell_type": "code",
   "execution_count": 262,
   "id": "622f4dde",
   "metadata": {},
   "outputs": [],
   "source": [
    "#pending"
   ]
  },
  {
   "cell_type": "markdown",
   "id": "724b2252",
   "metadata": {},
   "source": [
    "# We are select DT with hyper parameter for prediction because of the accuracy (r2_score) is greater."
   ]
  },
  {
   "cell_type": "code",
   "execution_count": 266,
   "id": "fd9b11e3",
   "metadata": {},
   "outputs": [
    {
     "data": {
      "text/plain": [
       "Index(['CRIM', 'ZN', 'INDUS', 'CHAS', 'NOX', 'RM', 'AGE', 'DIS', 'RAD', 'TAX',\n",
       "       'PTRATIO', 'B', 'LSTAT'],\n",
       "      dtype='object')"
      ]
     },
     "execution_count": 266,
     "metadata": {},
     "output_type": "execute_result"
    }
   ],
   "source": [
    "x_train.columns"
   ]
  },
  {
   "cell_type": "code",
   "execution_count": 269,
   "id": "39d33225",
   "metadata": {},
   "outputs": [
    {
     "data": {
      "text/html": [
       "<div>\n",
       "<style scoped>\n",
       "    .dataframe tbody tr th:only-of-type {\n",
       "        vertical-align: middle;\n",
       "    }\n",
       "\n",
       "    .dataframe tbody tr th {\n",
       "        vertical-align: top;\n",
       "    }\n",
       "\n",
       "    .dataframe thead th {\n",
       "        text-align: right;\n",
       "    }\n",
       "</style>\n",
       "<table border=\"1\" class=\"dataframe\">\n",
       "  <thead>\n",
       "    <tr style=\"text-align: right;\">\n",
       "      <th></th>\n",
       "      <th>CRIM</th>\n",
       "      <th>ZN</th>\n",
       "      <th>INDUS</th>\n",
       "      <th>CHAS</th>\n",
       "      <th>NOX</th>\n",
       "      <th>RM</th>\n",
       "      <th>AGE</th>\n",
       "      <th>DIS</th>\n",
       "      <th>RAD</th>\n",
       "      <th>TAX</th>\n",
       "      <th>PTRATIO</th>\n",
       "      <th>B</th>\n",
       "      <th>LSTAT</th>\n",
       "      <th>PRICE</th>\n",
       "    </tr>\n",
       "  </thead>\n",
       "  <tbody>\n",
       "    <tr>\n",
       "      <th>0</th>\n",
       "      <td>0.00632</td>\n",
       "      <td>18.0</td>\n",
       "      <td>2.31</td>\n",
       "      <td>0.0</td>\n",
       "      <td>0.538</td>\n",
       "      <td>6.575</td>\n",
       "      <td>65.2</td>\n",
       "      <td>4.0900</td>\n",
       "      <td>1.0</td>\n",
       "      <td>296.0</td>\n",
       "      <td>15.3</td>\n",
       "      <td>396.9</td>\n",
       "      <td>4.98</td>\n",
       "      <td>24.0</td>\n",
       "    </tr>\n",
       "    <tr>\n",
       "      <th>1</th>\n",
       "      <td>0.02731</td>\n",
       "      <td>0.0</td>\n",
       "      <td>7.07</td>\n",
       "      <td>0.0</td>\n",
       "      <td>0.469</td>\n",
       "      <td>6.421</td>\n",
       "      <td>78.9</td>\n",
       "      <td>4.9671</td>\n",
       "      <td>2.0</td>\n",
       "      <td>242.0</td>\n",
       "      <td>17.8</td>\n",
       "      <td>396.9</td>\n",
       "      <td>9.14</td>\n",
       "      <td>21.6</td>\n",
       "    </tr>\n",
       "  </tbody>\n",
       "</table>\n",
       "</div>"
      ],
      "text/plain": [
       "      CRIM    ZN  INDUS  CHAS    NOX     RM   AGE     DIS  RAD    TAX  \\\n",
       "0  0.00632  18.0   2.31   0.0  0.538  6.575  65.2  4.0900  1.0  296.0   \n",
       "1  0.02731   0.0   7.07   0.0  0.469  6.421  78.9  4.9671  2.0  242.0   \n",
       "\n",
       "   PTRATIO      B  LSTAT  PRICE  \n",
       "0     15.3  396.9   4.98   24.0  \n",
       "1     17.8  396.9   9.14   21.6  "
      ]
     },
     "execution_count": 269,
     "metadata": {},
     "output_type": "execute_result"
    }
   ],
   "source": [
    "df.head(2)"
   ]
  },
  {
   "cell_type": "code",
   "execution_count": 274,
   "id": "96278bf0",
   "metadata": {},
   "outputs": [],
   "source": [
    "CRIM = 0.00632\n",
    "ZN= 18\n",
    "INDUS= 2.31\n",
    "CHAS= 0\n",
    "NOX= 0.538\n",
    "RM= 6.575\n",
    "AGE= 65.2\n",
    "DIS= 4.09\n",
    "RAD= 1\n",
    "TAX= 296\n",
    "PTRATIO= 15.3\n",
    "B= 396.9\n",
    "LSTAT= 4.98"
   ]
  },
  {
   "cell_type": "code",
   "execution_count": 275,
   "id": "d068cff6",
   "metadata": {},
   "outputs": [
    {
     "data": {
      "text/plain": [
       "array([[6.320e-03, 1.800e+01, 2.310e+00, 0.000e+00, 5.380e-01, 6.575e+00,\n",
       "        6.520e+01, 4.090e+00, 1.000e+00, 2.960e+02, 1.530e+01, 3.969e+02,\n",
       "        4.980e+00]])"
      ]
     },
     "execution_count": 275,
     "metadata": {},
     "output_type": "execute_result"
    }
   ],
   "source": [
    "arr= np.array([[CRIM,ZN,INDUS,CHAS,NOX,RM,AGE,DIS,RAD,TAX,PTRATIO,B,LSTAT]])\n",
    "arr"
   ]
  },
  {
   "cell_type": "code",
   "execution_count": 276,
   "id": "8b21b548",
   "metadata": {},
   "outputs": [
    {
     "name": "stderr",
     "output_type": "stream",
     "text": [
      "C:\\Users\\sai\\anaconda3\\lib\\site-packages\\sklearn\\base.py:450: UserWarning: X does not have valid feature names, but DecisionTreeRegressor was fitted with feature names\n",
      "  warnings.warn(\n"
     ]
    },
    {
     "data": {
      "text/plain": [
       "array([26.85])"
      ]
     },
     "execution_count": 276,
     "metadata": {},
     "output_type": "execute_result"
    }
   ],
   "source": [
    "predict = DT_rs_cv.predict(arr)\n",
    "predict"
   ]
  },
  {
   "cell_type": "code",
   "execution_count": 277,
   "id": "a93fdaed",
   "metadata": {},
   "outputs": [],
   "source": [
    "import pickle as pkl"
   ]
  },
  {
   "cell_type": "code",
   "execution_count": 282,
   "id": "9e7d079b",
   "metadata": {},
   "outputs": [],
   "source": [
    "with open('model_DT_with_hyp.pkl','wb') as f:\n",
    "    pkl.dump(DT_rs_cv,f)"
   ]
  }
 ],
 "metadata": {
  "kernelspec": {
   "display_name": "Python 3 (ipykernel)",
   "language": "python",
   "name": "python3"
  },
  "language_info": {
   "codemirror_mode": {
    "name": "ipython",
    "version": 3
   },
   "file_extension": ".py",
   "mimetype": "text/x-python",
   "name": "python",
   "nbconvert_exporter": "python",
   "pygments_lexer": "ipython3",
   "version": "3.9.7"
  }
 },
 "nbformat": 4,
 "nbformat_minor": 5
}
